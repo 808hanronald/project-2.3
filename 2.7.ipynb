{
 "cells": [
  {
   "cell_type": "markdown",
   "id": "f3944514-2030-433c-8e23-77b0f793b6a9",
   "metadata": {},
   "source": [
    "# Imports"
   ]
  },
  {
   "cell_type": "code",
   "execution_count": 1,
   "id": "cdc71d4c-2f47-4dae-8d9f-26d5bddcb878",
   "metadata": {},
   "outputs": [],
   "source": [
    "# Imports\n",
    "import pandas as pd\n",
    "import numpy as np\n",
    "import matplotlib.pyplot as plt\n",
    "import seaborn as sns\n",
    "from pprint import pprint"
   ]
  },
  {
   "cell_type": "markdown",
   "id": "2c1114e7-d938-4a14-8c1e-a80d9366cf64",
   "metadata": {},
   "source": [
    "# Define a file path"
   ]
  },
  {
   "cell_type": "code",
   "execution_count": 2,
   "id": "6dc6d731-e8d1-4df7-a911-de6a2fef9ec9",
   "metadata": {},
   "outputs": [
    {
     "name": "stdout",
     "output_type": "stream",
     "text": [
      "{'Data': {'ml': {'label_encoder': 'Data-NLP/label-encoder.joblib',\n",
      "                 'target_lookup': 'Data-NLP/target-lookup-dict.joblib',\n",
      "                 'text': 'Data-NLP/testing-data.joblib',\n",
      "                 'train': 'Data-NLP/training-data.joblib'},\n",
      "          'tf': {'test_ds': 'Data-NLP/testing_tf',\n",
      "                 'train_ds': 'Data-NLP/training_tf'}},\n",
      " 'models': {'gru': 'models/tf/', 'rf': 'models/rf-pipe.joblib'}}\n"
     ]
    }
   ],
   "source": [
    "FPATHS = dict(\n",
    "    Data = {\n",
    "        'ml':{'train': \"Data-NLP/training-data.joblib\",\n",
    "             'text': 'Data-NLP/testing-data.joblib',\n",
    "             'label_encoder': 'Data-NLP/label-encoder.joblib',\n",
    "             'target_lookup': 'Data-NLP/target-lookup-dict.joblib'},\n",
    "        'tf': {'train_ds': 'Data-NLP/training_tf',\n",
    "               'test_ds': 'Data-NLP/testing_tf'}},\n",
    "    models = {\n",
    "        'rf': 'models/rf-pipe.joblib',\n",
    "        'gru': 'models/tf/'})\n",
    "pprint(FPATHS)"
   ]
  },
  {
   "cell_type": "markdown",
   "id": "dc7d1b9d-8c28-4b6d-9ea9-0f3444feed45",
   "metadata": {},
   "source": [
    "## Save the filepath to a config folder"
   ]
  },
  {
   "cell_type": "code",
   "execution_count": 3,
   "id": "0842add9-b809-49ee-8506-2f47e7bff766",
   "metadata": {},
   "outputs": [],
   "source": [
    "# Save the filepaths in a config folder\n",
    "import os, json\n",
    "os.makedirs('config/', exist_ok=True)\n",
    "FPATHS_FILE = 'config/filepaths.json'\n",
    "with open(FPATHS_FILE, 'w') as f:\n",
    "    json.dump(FPATHS, f)"
   ]
  },
  {
   "cell_type": "markdown",
   "id": "3cdf3200-07cf-4a0d-8695-87c5fe480da7",
   "metadata": {},
   "source": [
    "# Custom Functions"
   ]
  },
  {
   "cell_type": "code",
   "execution_count": 4,
   "id": "78e6f882-962e-4aed-8d42-3cb22bcd0d12",
   "metadata": {},
   "outputs": [
    {
     "data": {
      "text/plain": [
       "['__builtins__',\n",
       " '__cached__',\n",
       " '__doc__',\n",
       " '__file__',\n",
       " '__loader__',\n",
       " '__name__',\n",
       " '__package__',\n",
       " '__spec__',\n",
       " 'build_bow_model',\n",
       " 'classification_metrics',\n",
       " 'convert_y_to_sklearn_classes',\n",
       " 'create_directories_from_paths',\n",
       " 'evaluate_classification',\n",
       " 'evaluate_classification_network',\n",
       " 'get_true_pred_labels',\n",
       " 'make_custom_nlp',\n",
       " 'make_text_vectorization_layer',\n",
       " 'plot_history']"
      ]
     },
     "execution_count": 4,
     "metadata": {},
     "output_type": "execute_result"
    }
   ],
   "source": [
    "import sys\n",
    "%load_ext autoreload\n",
    "%autoreload 2\n",
    "\n",
    "import Custom_functions as fn\n",
    "dir(fn)"
   ]
  },
  {
   "cell_type": "code",
   "execution_count": 5,
   "id": "7b3fc2f7-f9af-451c-8bf6-67b97342763c",
   "metadata": {},
   "outputs": [],
   "source": [
    "fn.create_directories_from_paths(FPATHS)"
   ]
  },
  {
   "cell_type": "code",
   "execution_count": null,
   "id": "9e0d5eb2-7686-4f84-9379-ef3fd236db1e",
   "metadata": {},
   "outputs": [],
   "source": []
  },
  {
   "cell_type": "code",
   "execution_count": null,
   "id": "f5ebf360-4267-4332-b410-d07d427f7f7a",
   "metadata": {},
   "outputs": [],
   "source": []
  },
  {
   "cell_type": "code",
   "execution_count": null,
   "id": "342cb438-d123-47b5-b0aa-55965b156b1c",
   "metadata": {},
   "outputs": [],
   "source": []
  },
  {
   "cell_type": "code",
   "execution_count": null,
   "id": "acf5d369-4144-4209-a186-7372877beb3b",
   "metadata": {},
   "outputs": [],
   "source": []
  },
  {
   "cell_type": "code",
   "execution_count": null,
   "id": "c4358fbc-dc62-436a-8f79-114deb1f4944",
   "metadata": {},
   "outputs": [],
   "source": []
  },
  {
   "cell_type": "code",
   "execution_count": null,
   "id": "64e456d0-f71b-4427-938e-e3134e1a877d",
   "metadata": {},
   "outputs": [],
   "source": []
  },
  {
   "cell_type": "code",
   "execution_count": null,
   "id": "2eb1e2bd-ee73-4efb-81c4-518c6ed15c95",
   "metadata": {},
   "outputs": [],
   "source": []
  },
  {
   "cell_type": "code",
   "execution_count": null,
   "id": "1800f3fd-c9b5-4c73-b0d6-d88d012b5bbc",
   "metadata": {},
   "outputs": [],
   "source": []
  },
  {
   "cell_type": "code",
   "execution_count": null,
   "id": "e2067945-37b4-46e4-910e-e0579b06d94b",
   "metadata": {},
   "outputs": [],
   "source": []
  },
  {
   "cell_type": "code",
   "execution_count": null,
   "id": "aa278a7f-7ff4-4cae-89d2-eb4e9ac6b752",
   "metadata": {},
   "outputs": [],
   "source": []
  },
  {
   "cell_type": "code",
   "execution_count": null,
   "id": "a2b72b76-8253-44ab-991c-2cbdd8c6a479",
   "metadata": {},
   "outputs": [],
   "source": []
  },
  {
   "cell_type": "code",
   "execution_count": null,
   "id": "0a97fe40-6f28-428c-a6bc-0cf0503c474b",
   "metadata": {},
   "outputs": [],
   "source": []
  },
  {
   "cell_type": "code",
   "execution_count": null,
   "id": "5bec9af1-090d-4e2f-a69b-c8355168fd6a",
   "metadata": {},
   "outputs": [],
   "source": []
  },
  {
   "cell_type": "code",
   "execution_count": null,
   "id": "d60be2cd-3900-4472-9479-0f9f100a1c86",
   "metadata": {},
   "outputs": [],
   "source": []
  },
  {
   "cell_type": "code",
   "execution_count": null,
   "id": "c8d23114-dfa7-423a-a8c9-aed5574a04c1",
   "metadata": {},
   "outputs": [],
   "source": []
  },
  {
   "cell_type": "code",
   "execution_count": null,
   "id": "7a8059cc-a6b5-41ee-8d7c-b006d1b5f272",
   "metadata": {},
   "outputs": [],
   "source": []
  },
  {
   "cell_type": "code",
   "execution_count": null,
   "id": "89c861dd-9e42-4359-a6af-2a98299b963e",
   "metadata": {},
   "outputs": [],
   "source": []
  }
 ],
 "metadata": {
  "kernelspec": {
   "display_name": "Python 3 (ipykernel)",
   "language": "python",
   "name": "python3"
  },
  "language_info": {
   "codemirror_mode": {
    "name": "ipython",
    "version": 3
   },
   "file_extension": ".py",
   "mimetype": "text/x-python",
   "name": "python",
   "nbconvert_exporter": "python",
   "pygments_lexer": "ipython3",
   "version": "3.10.10"
  },
  "widgets": {
   "application/vnd.jupyter.widget-state+json": {
    "state": {},
    "version_major": 2,
    "version_minor": 0
   }
  }
 },
 "nbformat": 4,
 "nbformat_minor": 5
}
