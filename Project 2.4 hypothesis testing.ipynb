{
 "cells": [
  {
   "cell_type": "code",
   "execution_count": 1,
   "id": "6e9febf7-25a1-422d-ad50-5a2dbbccfbc1",
   "metadata": {},
   "outputs": [],
   "source": [
    "import pandas as pd\n",
    "import numpy as np\n",
    "import matplotlib.pyplot as plt\n",
    "import seaborn as sns\n",
    "import scipy.stats as stats"
   ]
  },
  {
   "cell_type": "code",
   "execution_count": 2,
   "id": "a12ec191-25ff-4442-a7c7-872b9c5d4472",
   "metadata": {},
   "outputs": [
    {
     "data": {
      "text/html": [
       "<div>\n",
       "<style scoped>\n",
       "    .dataframe tbody tr th:only-of-type {\n",
       "        vertical-align: middle;\n",
       "    }\n",
       "\n",
       "    .dataframe tbody tr th {\n",
       "        vertical-align: top;\n",
       "    }\n",
       "\n",
       "    .dataframe thead th {\n",
       "        text-align: right;\n",
       "    }\n",
       "</style>\n",
       "<table border=\"1\" class=\"dataframe\">\n",
       "  <thead>\n",
       "    <tr style=\"text-align: right;\">\n",
       "      <th></th>\n",
       "      <th>imdb_id</th>\n",
       "      <th>adult</th>\n",
       "      <th>backdrop_path</th>\n",
       "      <th>belongs_to_collection</th>\n",
       "      <th>budget</th>\n",
       "      <th>genres</th>\n",
       "      <th>homepage</th>\n",
       "      <th>id</th>\n",
       "      <th>original_language</th>\n",
       "      <th>original_title</th>\n",
       "      <th>...</th>\n",
       "      <th>revenue</th>\n",
       "      <th>runtime</th>\n",
       "      <th>spoken_languages</th>\n",
       "      <th>status</th>\n",
       "      <th>tagline</th>\n",
       "      <th>title</th>\n",
       "      <th>video</th>\n",
       "      <th>vote_average</th>\n",
       "      <th>vote_count</th>\n",
       "      <th>certification</th>\n",
       "    </tr>\n",
       "  </thead>\n",
       "  <tbody>\n",
       "    <tr>\n",
       "      <th>0</th>\n",
       "      <td>0</td>\n",
       "      <td>NaN</td>\n",
       "      <td>NaN</td>\n",
       "      <td>NaN</td>\n",
       "      <td>NaN</td>\n",
       "      <td>NaN</td>\n",
       "      <td>NaN</td>\n",
       "      <td>NaN</td>\n",
       "      <td>NaN</td>\n",
       "      <td>NaN</td>\n",
       "      <td>...</td>\n",
       "      <td>NaN</td>\n",
       "      <td>NaN</td>\n",
       "      <td>NaN</td>\n",
       "      <td>NaN</td>\n",
       "      <td>NaN</td>\n",
       "      <td>NaN</td>\n",
       "      <td>NaN</td>\n",
       "      <td>NaN</td>\n",
       "      <td>NaN</td>\n",
       "      <td>NaN</td>\n",
       "    </tr>\n",
       "    <tr>\n",
       "      <th>1</th>\n",
       "      <td>tt0122247</td>\n",
       "      <td>0.0</td>\n",
       "      <td>NaN</td>\n",
       "      <td>NaN</td>\n",
       "      <td>0.0</td>\n",
       "      <td>[{'id': 27, 'name': 'Horror'}, {'id': 35, 'nam...</td>\n",
       "      <td>NaN</td>\n",
       "      <td>27743.0</td>\n",
       "      <td>en</td>\n",
       "      <td>Serial Killing 101</td>\n",
       "      <td>...</td>\n",
       "      <td>0.0</td>\n",
       "      <td>89.0</td>\n",
       "      <td>[{'english_name': 'English', 'iso_639_1': 'en'...</td>\n",
       "      <td>Released</td>\n",
       "      <td>NaN</td>\n",
       "      <td>Serial Killing 101</td>\n",
       "      <td>0.0</td>\n",
       "      <td>5.750</td>\n",
       "      <td>12.0</td>\n",
       "      <td>R</td>\n",
       "    </tr>\n",
       "    <tr>\n",
       "      <th>2</th>\n",
       "      <td>tt0146803</td>\n",
       "      <td>0.0</td>\n",
       "      <td>NaN</td>\n",
       "      <td>NaN</td>\n",
       "      <td>0.0</td>\n",
       "      <td>[{'id': 18, 'name': 'Drama'}]</td>\n",
       "      <td>NaN</td>\n",
       "      <td>46730.0</td>\n",
       "      <td>en</td>\n",
       "      <td>Goodnight, Joseph Parker</td>\n",
       "      <td>...</td>\n",
       "      <td>0.0</td>\n",
       "      <td>0.0</td>\n",
       "      <td>[]</td>\n",
       "      <td>Released</td>\n",
       "      <td>When there's no place left to go but home</td>\n",
       "      <td>Goodnight, Joseph Parker</td>\n",
       "      <td>0.0</td>\n",
       "      <td>6.000</td>\n",
       "      <td>1.0</td>\n",
       "      <td>NaN</td>\n",
       "    </tr>\n",
       "    <tr>\n",
       "      <th>3</th>\n",
       "      <td>tt0159290</td>\n",
       "      <td>0.0</td>\n",
       "      <td>/atFOPVD3AKSj16ImD1MJfIklf90.jpg</td>\n",
       "      <td>NaN</td>\n",
       "      <td>0.0</td>\n",
       "      <td>[{'id': 18, 'name': 'Drama'}]</td>\n",
       "      <td>NaN</td>\n",
       "      <td>101917.0</td>\n",
       "      <td>nl</td>\n",
       "      <td>Bluebird</td>\n",
       "      <td>...</td>\n",
       "      <td>0.0</td>\n",
       "      <td>77.0</td>\n",
       "      <td>[{'english_name': 'Dutch', 'iso_639_1': 'nl', ...</td>\n",
       "      <td>Released</td>\n",
       "      <td>Merel, a talented young girl, is suddenly gett...</td>\n",
       "      <td>Bluebird</td>\n",
       "      <td>0.0</td>\n",
       "      <td>6.300</td>\n",
       "      <td>9.0</td>\n",
       "      <td>NaN</td>\n",
       "    </tr>\n",
       "    <tr>\n",
       "      <th>4</th>\n",
       "      <td>tt0167190</td>\n",
       "      <td>0.0</td>\n",
       "      <td>/qdTUAwQKQ9n7PfZeVJzs7sOP8S8.jpg</td>\n",
       "      <td>{'id': 17235, 'name': 'Hellboy Collection', 'p...</td>\n",
       "      <td>66000000.0</td>\n",
       "      <td>[{'id': 14, 'name': 'Fantasy'}, {'id': 28, 'na...</td>\n",
       "      <td>NaN</td>\n",
       "      <td>1487.0</td>\n",
       "      <td>en</td>\n",
       "      <td>Hellboy</td>\n",
       "      <td>...</td>\n",
       "      <td>99318987.0</td>\n",
       "      <td>122.0</td>\n",
       "      <td>[{'english_name': 'Russian', 'iso_639_1': 'ru'...</td>\n",
       "      <td>Released</td>\n",
       "      <td>From the dark side to our side.</td>\n",
       "      <td>Hellboy</td>\n",
       "      <td>0.0</td>\n",
       "      <td>6.665</td>\n",
       "      <td>6405.0</td>\n",
       "      <td>PG-13</td>\n",
       "    </tr>\n",
       "  </tbody>\n",
       "</table>\n",
       "<p>5 rows × 26 columns</p>\n",
       "</div>"
      ],
      "text/plain": [
       "     imdb_id  adult                     backdrop_path  \\\n",
       "0          0    NaN                               NaN   \n",
       "1  tt0122247    0.0                               NaN   \n",
       "2  tt0146803    0.0                               NaN   \n",
       "3  tt0159290    0.0  /atFOPVD3AKSj16ImD1MJfIklf90.jpg   \n",
       "4  tt0167190    0.0  /qdTUAwQKQ9n7PfZeVJzs7sOP8S8.jpg   \n",
       "\n",
       "                               belongs_to_collection      budget  \\\n",
       "0                                                NaN         NaN   \n",
       "1                                                NaN         0.0   \n",
       "2                                                NaN         0.0   \n",
       "3                                                NaN         0.0   \n",
       "4  {'id': 17235, 'name': 'Hellboy Collection', 'p...  66000000.0   \n",
       "\n",
       "                                              genres homepage        id  \\\n",
       "0                                                NaN      NaN       NaN   \n",
       "1  [{'id': 27, 'name': 'Horror'}, {'id': 35, 'nam...      NaN   27743.0   \n",
       "2                      [{'id': 18, 'name': 'Drama'}]      NaN   46730.0   \n",
       "3                      [{'id': 18, 'name': 'Drama'}]      NaN  101917.0   \n",
       "4  [{'id': 14, 'name': 'Fantasy'}, {'id': 28, 'na...      NaN    1487.0   \n",
       "\n",
       "  original_language            original_title  ...     revenue  runtime  \\\n",
       "0               NaN                       NaN  ...         NaN      NaN   \n",
       "1                en        Serial Killing 101  ...         0.0     89.0   \n",
       "2                en  Goodnight, Joseph Parker  ...         0.0      0.0   \n",
       "3                nl                  Bluebird  ...         0.0     77.0   \n",
       "4                en                   Hellboy  ...  99318987.0    122.0   \n",
       "\n",
       "                                    spoken_languages    status  \\\n",
       "0                                                NaN       NaN   \n",
       "1  [{'english_name': 'English', 'iso_639_1': 'en'...  Released   \n",
       "2                                                 []  Released   \n",
       "3  [{'english_name': 'Dutch', 'iso_639_1': 'nl', ...  Released   \n",
       "4  [{'english_name': 'Russian', 'iso_639_1': 'ru'...  Released   \n",
       "\n",
       "                                             tagline  \\\n",
       "0                                                NaN   \n",
       "1                                                NaN   \n",
       "2          When there's no place left to go but home   \n",
       "3  Merel, a talented young girl, is suddenly gett...   \n",
       "4                    From the dark side to our side.   \n",
       "\n",
       "                      title  video  vote_average vote_count certification  \n",
       "0                       NaN    NaN           NaN        NaN           NaN  \n",
       "1        Serial Killing 101    0.0         5.750       12.0             R  \n",
       "2  Goodnight, Joseph Parker    0.0         6.000        1.0           NaN  \n",
       "3                  Bluebird    0.0         6.300        9.0           NaN  \n",
       "4                   Hellboy    0.0         6.665     6405.0         PG-13  \n",
       "\n",
       "[5 rows x 26 columns]"
      ]
     },
     "execution_count": 2,
     "metadata": {},
     "output_type": "execute_result"
    }
   ],
   "source": [
    "fpath='Data/final_hypothesis_data.csv.gz'\n",
    "df=pd.read_csv(fpath,lineterminator='\\n')\n",
    "df.head()"
   ]
  },
  {
   "cell_type": "markdown",
   "id": "6eb1857e-3522-4188-a479-a4be8bb807bb",
   "metadata": {},
   "source": [
    "### Removing outliers"
   ]
  },
  {
   "cell_type": "code",
   "execution_count": 3,
   "id": "e7507437-5093-4eb1-836b-9b15041fc0df",
   "metadata": {},
   "outputs": [],
   "source": [
    "#z_scores=stats.zscore(df['revenue'])\n",
    "#threshold=3\n",
    "#df1=np.where(np.abs(z_scores)>threshold)\n",
    "#df1"
   ]
  },
  {
   "cell_type": "code",
   "execution_count": null,
   "id": "1f0d274e-d77f-44b6-ac22-0e181b62673e",
   "metadata": {},
   "outputs": [],
   "source": []
  },
  {
   "cell_type": "code",
   "execution_count": 4,
   "id": "e762181d-11db-4ee0-8f96-9eaee82f7cd1",
   "metadata": {},
   "outputs": [
    {
     "data": {
      "text/plain": [
       "R          1439\n",
       "NR          978\n",
       "PG-13       823\n",
       "PG          412\n",
       "G            95\n",
       "NC-17        45\n",
       "Unrated       2\n",
       "UR            1\n",
       "PG-13         1\n",
       "Name: certification, dtype: int64"
      ]
     },
     "execution_count": 4,
     "metadata": {},
     "output_type": "execute_result"
    }
   ],
   "source": [
    "df['certification'].value_counts()"
   ]
  },
  {
   "cell_type": "code",
   "execution_count": 5,
   "id": "ef95ff21-17d6-4a3b-a487-abeeb06e2526",
   "metadata": {},
   "outputs": [
    {
     "data": {
      "text/plain": [
       "R          1439\n",
       "NR          978\n",
       "PG-13       824\n",
       "PG          412\n",
       "G            95\n",
       "NC-17        45\n",
       "Unrated       2\n",
       "UR            1\n",
       "Name: certification, dtype: int64"
      ]
     },
     "execution_count": 5,
     "metadata": {},
     "output_type": "execute_result"
    }
   ],
   "source": [
    "#adjust pg-13\n",
    "df['certification']=df['certification'].replace('PG-13 ','PG-13')\n",
    "df['certification'].value_counts()"
   ]
  },
  {
   "cell_type": "code",
   "execution_count": 6,
   "id": "416c4621-2af1-4ab8-88ec-814a338b0f10",
   "metadata": {},
   "outputs": [],
   "source": [
    "# list of value wanted in certification\n",
    "clist=['G','PG','PG-13','R']"
   ]
  },
  {
   "cell_type": "code",
   "execution_count": 7,
   "id": "587eed9e-1962-4b65-b004-3ffd201ae530",
   "metadata": {},
   "outputs": [
    {
     "data": {
      "text/html": [
       "<div>\n",
       "<style scoped>\n",
       "    .dataframe tbody tr th:only-of-type {\n",
       "        vertical-align: middle;\n",
       "    }\n",
       "\n",
       "    .dataframe tbody tr th {\n",
       "        vertical-align: top;\n",
       "    }\n",
       "\n",
       "    .dataframe thead th {\n",
       "        text-align: right;\n",
       "    }\n",
       "</style>\n",
       "<table border=\"1\" class=\"dataframe\">\n",
       "  <thead>\n",
       "    <tr style=\"text-align: right;\">\n",
       "      <th></th>\n",
       "      <th>imdb_id</th>\n",
       "      <th>adult</th>\n",
       "      <th>backdrop_path</th>\n",
       "      <th>belongs_to_collection</th>\n",
       "      <th>budget</th>\n",
       "      <th>genres</th>\n",
       "      <th>homepage</th>\n",
       "      <th>id</th>\n",
       "      <th>original_language</th>\n",
       "      <th>original_title</th>\n",
       "      <th>...</th>\n",
       "      <th>revenue</th>\n",
       "      <th>runtime</th>\n",
       "      <th>spoken_languages</th>\n",
       "      <th>status</th>\n",
       "      <th>tagline</th>\n",
       "      <th>title</th>\n",
       "      <th>video</th>\n",
       "      <th>vote_average</th>\n",
       "      <th>vote_count</th>\n",
       "      <th>certification</th>\n",
       "    </tr>\n",
       "  </thead>\n",
       "  <tbody>\n",
       "    <tr>\n",
       "      <th>1</th>\n",
       "      <td>tt0122247</td>\n",
       "      <td>0.0</td>\n",
       "      <td>NaN</td>\n",
       "      <td>NaN</td>\n",
       "      <td>0.0</td>\n",
       "      <td>[{'id': 27, 'name': 'Horror'}, {'id': 35, 'nam...</td>\n",
       "      <td>NaN</td>\n",
       "      <td>27743.0</td>\n",
       "      <td>en</td>\n",
       "      <td>Serial Killing 101</td>\n",
       "      <td>...</td>\n",
       "      <td>0.0</td>\n",
       "      <td>89.0</td>\n",
       "      <td>[{'english_name': 'English', 'iso_639_1': 'en'...</td>\n",
       "      <td>Released</td>\n",
       "      <td>NaN</td>\n",
       "      <td>Serial Killing 101</td>\n",
       "      <td>0.0</td>\n",
       "      <td>5.750</td>\n",
       "      <td>12.0</td>\n",
       "      <td>R</td>\n",
       "    </tr>\n",
       "    <tr>\n",
       "      <th>4</th>\n",
       "      <td>tt0167190</td>\n",
       "      <td>0.0</td>\n",
       "      <td>/qdTUAwQKQ9n7PfZeVJzs7sOP8S8.jpg</td>\n",
       "      <td>{'id': 17235, 'name': 'Hellboy Collection', 'p...</td>\n",
       "      <td>66000000.0</td>\n",
       "      <td>[{'id': 14, 'name': 'Fantasy'}, {'id': 28, 'na...</td>\n",
       "      <td>NaN</td>\n",
       "      <td>1487.0</td>\n",
       "      <td>en</td>\n",
       "      <td>Hellboy</td>\n",
       "      <td>...</td>\n",
       "      <td>99318987.0</td>\n",
       "      <td>122.0</td>\n",
       "      <td>[{'english_name': 'Russian', 'iso_639_1': 'ru'...</td>\n",
       "      <td>Released</td>\n",
       "      <td>From the dark side to our side.</td>\n",
       "      <td>Hellboy</td>\n",
       "      <td>0.0</td>\n",
       "      <td>6.665</td>\n",
       "      <td>6405.0</td>\n",
       "      <td>PG-13</td>\n",
       "    </tr>\n",
       "    <tr>\n",
       "      <th>5</th>\n",
       "      <td>tt0167456</td>\n",
       "      <td>0.0</td>\n",
       "      <td>/jyzuK6OgWzibgAblJzxANUHSZ2x.jpg</td>\n",
       "      <td>NaN</td>\n",
       "      <td>57000000.0</td>\n",
       "      <td>[{'id': 28, 'name': 'Action'}, {'id': 12, 'nam...</td>\n",
       "      <td>http://www.thunderbirdsmovie.com</td>\n",
       "      <td>14623.0</td>\n",
       "      <td>en</td>\n",
       "      <td>Thunderbirds</td>\n",
       "      <td>...</td>\n",
       "      <td>28283637.0</td>\n",
       "      <td>95.0</td>\n",
       "      <td>[{'english_name': 'English', 'iso_639_1': 'en'...</td>\n",
       "      <td>Released</td>\n",
       "      <td>NaN</td>\n",
       "      <td>Thunderbirds</td>\n",
       "      <td>0.0</td>\n",
       "      <td>4.930</td>\n",
       "      <td>270.0</td>\n",
       "      <td>PG</td>\n",
       "    </tr>\n",
       "    <tr>\n",
       "      <th>10</th>\n",
       "      <td>tt0204313</td>\n",
       "      <td>0.0</td>\n",
       "      <td>/hz4Tzv4jac2usrCpMUGJp4akkoK.jpg</td>\n",
       "      <td>{'id': 12263, 'name': 'The Exorcist Collection...</td>\n",
       "      <td>80000000.0</td>\n",
       "      <td>[{'id': 27, 'name': 'Horror'}, {'id': 9648, 'n...</td>\n",
       "      <td>NaN</td>\n",
       "      <td>11026.0</td>\n",
       "      <td>en</td>\n",
       "      <td>Exorcist: The Beginning</td>\n",
       "      <td>...</td>\n",
       "      <td>78000586.0</td>\n",
       "      <td>114.0</td>\n",
       "      <td>[{'english_name': 'English', 'iso_639_1': 'en'...</td>\n",
       "      <td>Released</td>\n",
       "      <td>Go back to where the horror began.</td>\n",
       "      <td>Exorcist: The Beginning</td>\n",
       "      <td>0.0</td>\n",
       "      <td>5.367</td>\n",
       "      <td>710.0</td>\n",
       "      <td>R</td>\n",
       "    </tr>\n",
       "    <tr>\n",
       "      <th>16</th>\n",
       "      <td>tt0224025</td>\n",
       "      <td>0.0</td>\n",
       "      <td>NaN</td>\n",
       "      <td>NaN</td>\n",
       "      <td>400000.0</td>\n",
       "      <td>[{'id': 35, 'name': 'Comedy'}, {'id': 18, 'nam...</td>\n",
       "      <td>NaN</td>\n",
       "      <td>23594.0</td>\n",
       "      <td>en</td>\n",
       "      <td>Wild Roomies</td>\n",
       "      <td>...</td>\n",
       "      <td>0.0</td>\n",
       "      <td>88.0</td>\n",
       "      <td>[{'english_name': 'English', 'iso_639_1': 'en'...</td>\n",
       "      <td>Released</td>\n",
       "      <td>Some Things Never Change...</td>\n",
       "      <td>Wild Roomies</td>\n",
       "      <td>0.0</td>\n",
       "      <td>4.500</td>\n",
       "      <td>13.0</td>\n",
       "      <td>R</td>\n",
       "    </tr>\n",
       "  </tbody>\n",
       "</table>\n",
       "<p>5 rows × 26 columns</p>\n",
       "</div>"
      ],
      "text/plain": [
       "      imdb_id  adult                     backdrop_path  \\\n",
       "1   tt0122247    0.0                               NaN   \n",
       "4   tt0167190    0.0  /qdTUAwQKQ9n7PfZeVJzs7sOP8S8.jpg   \n",
       "5   tt0167456    0.0  /jyzuK6OgWzibgAblJzxANUHSZ2x.jpg   \n",
       "10  tt0204313    0.0  /hz4Tzv4jac2usrCpMUGJp4akkoK.jpg   \n",
       "16  tt0224025    0.0                               NaN   \n",
       "\n",
       "                                belongs_to_collection      budget  \\\n",
       "1                                                 NaN         0.0   \n",
       "4   {'id': 17235, 'name': 'Hellboy Collection', 'p...  66000000.0   \n",
       "5                                                 NaN  57000000.0   \n",
       "10  {'id': 12263, 'name': 'The Exorcist Collection...  80000000.0   \n",
       "16                                                NaN    400000.0   \n",
       "\n",
       "                                               genres  \\\n",
       "1   [{'id': 27, 'name': 'Horror'}, {'id': 35, 'nam...   \n",
       "4   [{'id': 14, 'name': 'Fantasy'}, {'id': 28, 'na...   \n",
       "5   [{'id': 28, 'name': 'Action'}, {'id': 12, 'nam...   \n",
       "10  [{'id': 27, 'name': 'Horror'}, {'id': 9648, 'n...   \n",
       "16  [{'id': 35, 'name': 'Comedy'}, {'id': 18, 'nam...   \n",
       "\n",
       "                            homepage       id original_language  \\\n",
       "1                                NaN  27743.0                en   \n",
       "4                                NaN   1487.0                en   \n",
       "5   http://www.thunderbirdsmovie.com  14623.0                en   \n",
       "10                               NaN  11026.0                en   \n",
       "16                               NaN  23594.0                en   \n",
       "\n",
       "             original_title  ...     revenue  runtime  \\\n",
       "1        Serial Killing 101  ...         0.0     89.0   \n",
       "4                   Hellboy  ...  99318987.0    122.0   \n",
       "5              Thunderbirds  ...  28283637.0     95.0   \n",
       "10  Exorcist: The Beginning  ...  78000586.0    114.0   \n",
       "16             Wild Roomies  ...         0.0     88.0   \n",
       "\n",
       "                                     spoken_languages    status  \\\n",
       "1   [{'english_name': 'English', 'iso_639_1': 'en'...  Released   \n",
       "4   [{'english_name': 'Russian', 'iso_639_1': 'ru'...  Released   \n",
       "5   [{'english_name': 'English', 'iso_639_1': 'en'...  Released   \n",
       "10  [{'english_name': 'English', 'iso_639_1': 'en'...  Released   \n",
       "16  [{'english_name': 'English', 'iso_639_1': 'en'...  Released   \n",
       "\n",
       "                               tagline                    title  video  \\\n",
       "1                                  NaN       Serial Killing 101    0.0   \n",
       "4      From the dark side to our side.                  Hellboy    0.0   \n",
       "5                                  NaN             Thunderbirds    0.0   \n",
       "10  Go back to where the horror began.  Exorcist: The Beginning    0.0   \n",
       "16         Some Things Never Change...             Wild Roomies    0.0   \n",
       "\n",
       "    vote_average vote_count certification  \n",
       "1          5.750       12.0             R  \n",
       "4          6.665     6405.0         PG-13  \n",
       "5          4.930      270.0            PG  \n",
       "10         5.367      710.0             R  \n",
       "16         4.500       13.0             R  \n",
       "\n",
       "[5 rows x 26 columns]"
      ]
     },
     "execution_count": 7,
     "metadata": {},
     "output_type": "execute_result"
    }
   ],
   "source": [
    "#Adjust certification column to hold only those values\n",
    "filter_df=df[df['certification'].isin(clist)]\n",
    "filter_df.head()"
   ]
  },
  {
   "cell_type": "markdown",
   "id": "2281780b-e2e8-4acc-b7e8-62f9e59ed637",
   "metadata": {},
   "source": [
    "# Does the MPAA rating of a movie affect how much revenue the movie generates?"
   ]
  },
  {
   "cell_type": "markdown",
   "id": "567850fa-9c63-4da1-b4e3-186de239e023",
   "metadata": {},
   "source": [
    "## ANOVA"
   ]
  },
  {
   "cell_type": "code",
   "execution_count": 8,
   "id": "afcb366c-6f03-489b-9e4b-5d527b6c4d9f",
   "metadata": {},
   "outputs": [
    {
     "data": {
      "image/png": "[encoded data removed]",
      "text/plain": [
       "<Figure size 640x480 with 1 Axes>"
      ]
     },
     "metadata": {},
     "output_type": "display_data"
    }
   ],
   "source": [
    "order=filter_df.groupby('certification')['revenue'].mean().sort_values(ascending=False).index\n",
    "sns.barplot(data=filter_df,x='certification',y='revenue',order=order);"
   ]
  },
  {
   "cell_type": "markdown",
   "id": "768a6595-7996-43d8-ad8b-52f0c6ae5ff4",
   "metadata": {},
   "source": [
    "### Most Revenue\n",
    "    - PG"
   ]
  },
  {
   "cell_type": "code",
   "execution_count": 9,
   "id": "c47162de-672b-4efd-b282-18692aaa9f79",
   "metadata": {},
   "outputs": [
    {
     "data": {
      "text/plain": [
       "dict_keys(['R', 'PG-13', 'PG', 'G'])"
      ]
     },
     "execution_count": 9,
     "metadata": {},
     "output_type": "execute_result"
    }
   ],
   "source": [
    "#create dict to hold groups\n",
    "groups={}\n",
    "#make loop to loop through all unique categories\n",
    "for i in filter_df['certification'].unique():\n",
    "    #get series for group and rename\n",
    "    data=filter_df.loc[filter_df['certification']==i, 'revenue'].copy()\n",
    "\n",
    "    #save into the dict\n",
    "    groups[i]=data\n",
    "groups.keys()"
   ]
  },
  {
   "cell_type": "code",
   "execution_count": 10,
   "id": "713f7475-aa9a-4fbd-9234-054ac4d471a5",
   "metadata": {},
   "outputs": [
    {
     "data": {
      "text/plain": [
       "{'R': 1               0.0\n",
       " 10       78000586.0\n",
       " 16              0.0\n",
       " 27              0.0\n",
       " 43              0.0\n",
       "             ...    \n",
       " 16704           0.0\n",
       " 16826           0.0\n",
       " 16887     1964806.0\n",
       " 16930       15712.0\n",
       " 16935           0.0\n",
       " Name: revenue, Length: 1439, dtype: float64,\n",
       " 'PG-13': 4         99318987.0\n",
       " 23        16123851.0\n",
       " 28        14793624.0\n",
       " 30           16201.0\n",
       " 37               0.0\n",
       "             ...     \n",
       " 16581    115570314.0\n",
       " 16760            0.0\n",
       " 16819            0.0\n",
       " 16849            0.0\n",
       " 16925            0.0\n",
       " Name: revenue, Length: 824, dtype: float64,\n",
       " 'PG': 5         28283637.0\n",
       " 38         9109322.0\n",
       " 44          293793.0\n",
       " 47               0.0\n",
       " 63       928760770.0\n",
       "             ...     \n",
       " 16824            0.0\n",
       " 16945            0.0\n",
       " 16948            0.0\n",
       " 16972            0.0\n",
       " 17015            0.0\n",
       " Name: revenue, Length: 412, dtype: float64,\n",
       " 'G': 164              0.0\n",
       " 196      310634054.0\n",
       " 458      134734481.0\n",
       " 591              0.0\n",
       " 705             10.0\n",
       "             ...     \n",
       " 15863            0.0\n",
       " 16369            0.0\n",
       " 16403     61631776.0\n",
       " 16520     15894372.0\n",
       " 16931            0.0\n",
       " Name: revenue, Length: 95, dtype: float64}"
      ]
     },
     "metadata": {},
     "output_type": "display_data"
    }
   ],
   "source": [
    "display(groups)"
   ]
  },
  {
   "cell_type": "markdown",
   "id": "0575bb33-814c-4a5b-9910-516340eb92bd",
   "metadata": {},
   "source": [
    "## Testing Assumptions"
   ]
  },
  {
   "cell_type": "markdown",
   "id": "4c3433e0-85a8-46ca-bf14-a134f756c4b1",
   "metadata": {},
   "source": [
    "### Normality"
   ]
  },
  {
   "cell_type": "code",
   "execution_count": 11,
   "id": "0cd0bf35-5939-432e-9adb-f5c291cc50b8",
   "metadata": {},
   "outputs": [
    {
     "data": {
      "text/html": [
       "<div>\n",
       "<style scoped>\n",
       "    .dataframe tbody tr th:only-of-type {\n",
       "        vertical-align: middle;\n",
       "    }\n",
       "\n",
       "    .dataframe tbody tr th {\n",
       "        vertical-align: top;\n",
       "    }\n",
       "\n",
       "    .dataframe thead th {\n",
       "        text-align: right;\n",
       "    }\n",
       "</style>\n",
       "<table border=\"1\" class=\"dataframe\">\n",
       "  <thead>\n",
       "    <tr style=\"text-align: right;\">\n",
       "      <th></th>\n",
       "      <th>n</th>\n",
       "      <th>p</th>\n",
       "      <th>test stat</th>\n",
       "    </tr>\n",
       "  </thead>\n",
       "  <tbody>\n",
       "    <tr>\n",
       "      <th>R</th>\n",
       "      <td>1439.0</td>\n",
       "      <td>0.000000e+00</td>\n",
       "      <td>1938.863465</td>\n",
       "    </tr>\n",
       "    <tr>\n",
       "      <th>PG-13</th>\n",
       "      <td>824.0</td>\n",
       "      <td>1.457436e-216</td>\n",
       "      <td>993.963402</td>\n",
       "    </tr>\n",
       "    <tr>\n",
       "      <th>PG</th>\n",
       "      <td>412.0</td>\n",
       "      <td>9.944999e-79</td>\n",
       "      <td>359.214305</td>\n",
       "    </tr>\n",
       "    <tr>\n",
       "      <th>G</th>\n",
       "      <td>95.0</td>\n",
       "      <td>2.777170e-31</td>\n",
       "      <td>140.717411</td>\n",
       "    </tr>\n",
       "  </tbody>\n",
       "</table>\n",
       "</div>"
      ],
      "text/plain": [
       "            n              p    test stat\n",
       "R      1439.0   0.000000e+00  1938.863465\n",
       "PG-13   824.0  1.457436e-216   993.963402\n",
       "PG      412.0   9.944999e-79   359.214305\n",
       "G        95.0   2.777170e-31   140.717411"
      ]
     },
     "execution_count": 11,
     "metadata": {},
     "output_type": "execute_result"
    }
   ],
   "source": [
    "#running normal test on each group and confirming there are >20 in each group\n",
    "norm_results={}\n",
    "for i, data in groups.items():\n",
    "    stat,p=stats.normaltest(data)\n",
    "    #save the p val, test statistic, and the size of the group\n",
    "    norm_results[i]={'n':len(data),\n",
    "                    'p': p,\n",
    "                    'test stat':stat,}\n",
    "\n",
    "#convert to a dataframe\n",
    "norm_results_df=pd.DataFrame(norm_results).T\n",
    "norm_results_df"
   ]
  },
  {
   "cell_type": "code",
   "execution_count": 12,
   "id": "eb49f901-2d4e-477e-9724-8c7a14edf5f7",
   "metadata": {},
   "outputs": [
    {
     "data": {
      "text/html": [
       "<div>\n",
       "<style scoped>\n",
       "    .dataframe tbody tr th:only-of-type {\n",
       "        vertical-align: middle;\n",
       "    }\n",
       "\n",
       "    .dataframe tbody tr th {\n",
       "        vertical-align: top;\n",
       "    }\n",
       "\n",
       "    .dataframe thead th {\n",
       "        text-align: right;\n",
       "    }\n",
       "</style>\n",
       "<table border=\"1\" class=\"dataframe\">\n",
       "  <thead>\n",
       "    <tr style=\"text-align: right;\">\n",
       "      <th></th>\n",
       "      <th>n</th>\n",
       "      <th>p</th>\n",
       "      <th>test stat</th>\n",
       "      <th>sig</th>\n",
       "    </tr>\n",
       "  </thead>\n",
       "  <tbody>\n",
       "    <tr>\n",
       "      <th>R</th>\n",
       "      <td>1439.0</td>\n",
       "      <td>0.000000e+00</td>\n",
       "      <td>1938.863465</td>\n",
       "      <td>True</td>\n",
       "    </tr>\n",
       "    <tr>\n",
       "      <th>PG-13</th>\n",
       "      <td>824.0</td>\n",
       "      <td>1.457436e-216</td>\n",
       "      <td>993.963402</td>\n",
       "      <td>True</td>\n",
       "    </tr>\n",
       "    <tr>\n",
       "      <th>PG</th>\n",
       "      <td>412.0</td>\n",
       "      <td>9.944999e-79</td>\n",
       "      <td>359.214305</td>\n",
       "      <td>True</td>\n",
       "    </tr>\n",
       "    <tr>\n",
       "      <th>G</th>\n",
       "      <td>95.0</td>\n",
       "      <td>2.777170e-31</td>\n",
       "      <td>140.717411</td>\n",
       "      <td>True</td>\n",
       "    </tr>\n",
       "  </tbody>\n",
       "</table>\n",
       "</div>"
      ],
      "text/plain": [
       "            n              p    test stat   sig\n",
       "R      1439.0   0.000000e+00  1938.863465  True\n",
       "PG-13   824.0  1.457436e-216   993.963402  True\n",
       "PG      412.0   9.944999e-79   359.214305  True\n",
       "G        95.0   2.777170e-31   140.717411  True"
      ]
     },
     "execution_count": 12,
     "metadata": {},
     "output_type": "execute_result"
    }
   ],
   "source": [
    "#adding a significant column to simplify\n",
    "#new column add a bool if p is <.05\n",
    "norm_results_df['sig']=norm_results_df['p']<.05\n",
    "norm_results_df"
   ]
  },
  {
   "cell_type": "markdown",
   "id": "0a6708a6-6e1e-4811-8cf3-2c9f7ce317f4",
   "metadata": {},
   "source": [
    "### Testing Equal Variance"
   ]
  },
  {
   "cell_type": "code",
   "execution_count": 13,
   "id": "9cd6e4f6-176f-4be8-baeb-93e47de124bd",
   "metadata": {},
   "outputs": [
    {
     "data": {
      "text/plain": [
       "LeveneResult(statistic=35.53326000257578, pvalue=1.5805346254687642e-22)"
      ]
     },
     "execution_count": 13,
     "metadata": {},
     "output_type": "execute_result"
    }
   ],
   "source": [
    "# Using the * operator to select all groups\n",
    "stats.levene(*groups.values())"
   ]
  },
  {
   "cell_type": "markdown",
   "id": "57d8e02d-f808-4e99-b200-b6e4629ccad3",
   "metadata": {},
   "source": [
    "### One-way ANOVA test\n",
    "    - all assumption were met\n",
    "        - Normality\n",
    "        - Equal Variance"
   ]
  },
  {
   "cell_type": "code",
   "execution_count": 14,
   "id": "f63878c5-8468-45e5-9617-1046611da0aa",
   "metadata": {},
   "outputs": [
    {
     "data": {
      "text/plain": [
       "F_onewayResult(statistic=35.49723620560069, pvalue=1.6641517304028898e-22)"
      ]
     },
     "execution_count": 14,
     "metadata": {},
     "output_type": "execute_result"
    }
   ],
   "source": [
    "#Perform the correct hypothesis test\n",
    "#note again the use of the * operator for convenience\n",
    "result = stats.f_oneway(*groups.values())\n",
    "result"
   ]
  },
  {
   "cell_type": "markdown",
   "id": "2aea49a9-324d-4f06-bd92-94b6e3fe949d",
   "metadata": {},
   "source": [
    "### Kruskal-Wallis"
   ]
  },
  {
   "cell_type": "code",
   "execution_count": 15,
   "id": "0cc4ecf7-d0c9-46fc-847a-02253efe740d",
   "metadata": {},
   "outputs": [
    {
     "data": {
      "text/plain": [
       "KruskalResult(statistic=116.86454933271585, pvalue=3.652890555608602e-25)"
      ]
     },
     "execution_count": 15,
     "metadata": {},
     "output_type": "execute_result"
    }
   ],
   "source": [
    "wallis=stats.kruskal(*groups.values())\n",
    "wallis"
   ]
  },
  {
   "cell_type": "markdown",
   "id": "deda4e86-8b78-4023-9295-e394fe0340e9",
   "metadata": {},
   "source": [
    "### Tukey's Pairwise Mutiple Comparisons Test"
   ]
  },
  {
   "cell_type": "code",
   "execution_count": 16,
   "id": "a5b327e2-bbb5-43c4-bd1d-09b9dc500ba4",
   "metadata": {},
   "outputs": [],
   "source": [
    "from statsmodels.stats.multicomp import pairwise_tukeyhsd\n",
    "#save the revenue as values and certification as labels\n",
    "values=filter_df['revenue']\n",
    "labels=filter_df['certification']"
   ]
  },
  {
   "cell_type": "code",
   "execution_count": 17,
   "id": "65a607a2-0c8a-4f4c-b23d-3a1c547f7131",
   "metadata": {},
   "outputs": [
    {
     "data": {
      "text/html": [
       "<table class=\"simpletable\">\n",
       "<caption>Multiple Comparison of Means - Tukey HSD, FWER=0.05</caption>\n",
       "<tr>\n",
       "  <th>group1</th> <th>group2</th>    <th>meandiff</th>     <th>p-adj</th>      <th>lower</th>          <th>upper</th>     <th>reject</th>\n",
       "</tr>\n",
       "<tr>\n",
       "     <td>G</td>     <td>PG</td>    <td>43226590.0445</td> <td>0.0431</td>    <td>911545.69</td>    <td>85541634.399</td>   <td>True</td> \n",
       "</tr>\n",
       "<tr>\n",
       "     <td>G</td>    <td>PG-13</td>  <td>33292539.6076</td> <td>0.1456</td>  <td>-6991552.3462</td>  <td>73576631.5614</td>  <td>False</td>\n",
       "</tr>\n",
       "<tr>\n",
       "     <td>G</td>      <td>R</td>   <td>-20886804.9975</td> <td>0.5226</td> <td>-60270976.2892</td>  <td>18497366.2942</td>  <td>False</td>\n",
       "</tr>\n",
       "<tr>\n",
       "    <td>PG</td>    <td>PG-13</td>  <td>-9934050.4369</td> <td>0.6658</td> <td>-32367613.2957</td>  <td>12499512.4219</td>  <td>False</td>\n",
       "</tr>\n",
       "<tr>\n",
       "    <td>PG</td>      <td>R</td>    <td>-64113395.042</td>   <td>0.0</td>  <td>-84887648.9717</td> <td>-43339141.1124</td>  <td>True</td> \n",
       "</tr>\n",
       "<tr>\n",
       "   <td>PG-13</td>    <td>R</td>   <td>-54179344.6051</td>   <td>0.0</td>  <td>-70421718.5743</td>  <td>-37936970.636</td>  <td>True</td> \n",
       "</tr>\n",
       "</table>"
      ],
      "text/latex": [
       "\\begin{center}\n",
       "\\begin{tabular}{ccccccc}\n",
       "\\toprule\n",
       "\\textbf{group1} & \\textbf{group2} & \\textbf{meandiff} & \\textbf{p-adj} & \\textbf{lower} & \\textbf{upper} & \\textbf{reject}  \\\\\n",
       "\\midrule\n",
       "       G        &        PG       &   43226590.0445   &     0.0431     &   911545.69    &  85541634.399  &       True       \\\\\n",
       "       G        &      PG-13      &   33292539.6076   &     0.1456     & -6991552.3462  & 73576631.5614  &      False       \\\\\n",
       "       G        &        R        &   -20886804.9975  &     0.5226     & -60270976.2892 & 18497366.2942  &      False       \\\\\n",
       "       PG       &      PG-13      &   -9934050.4369   &     0.6658     & -32367613.2957 & 12499512.4219  &      False       \\\\\n",
       "       PG       &        R        &   -64113395.042   &      0.0       & -84887648.9717 & -43339141.1124 &       True       \\\\\n",
       "     PG-13      &        R        &   -54179344.6051  &      0.0       & -70421718.5743 & -37936970.636  &       True       \\\\\n",
       "\\bottomrule\n",
       "\\end{tabular}\n",
       "%\\caption{Multiple Comparison of Means - Tukey HSD, FWER=0.05}\n",
       "\\end{center}"
      ],
      "text/plain": [
       "<class 'statsmodels.iolib.table.SimpleTable'>"
      ]
     },
     "execution_count": 17,
     "metadata": {},
     "output_type": "execute_result"
    }
   ],
   "source": [
    "#perfor tuekey's multiple comparison test and display the summary\n",
    "tukeys_results=pairwise_tukeyhsd(values,labels)\n",
    "tukeys_results.summary()"
   ]
  },
  {
   "cell_type": "markdown",
   "id": "807dac21-63dc-42df-b83a-d030b211b6f1",
   "metadata": {},
   "source": [
    "### Significant results\n",
    "    - G VS PG\n",
    "    - PG VS R\n",
    "    - PG-13 VS R\n"
   ]
  },
  {
   "cell_type": "markdown",
   "id": "d86f04e9-3d39-4c78-8ddd-e2b9210e48fe",
   "metadata": {},
   "source": [
    "# Do movies that are over 2.5 hours long earn more revenue than movies that are 1.5 hours long(orless)"
   ]
  },
  {
   "cell_type": "code",
   "execution_count": 18,
   "id": "8e9dfa37-7779-4b3d-9932-6c5bb854da71",
   "metadata": {},
   "outputs": [
    {
     "data": {
      "text/plain": [
       "Index(['imdb_id', 'adult', 'backdrop_path', 'belongs_to_collection', 'budget',\n",
       "       'genres', 'homepage', 'id', 'original_language', 'original_title',\n",
       "       'overview', 'popularity', 'poster_path', 'production_companies',\n",
       "       'production_countries', 'release_date', 'revenue', 'runtime',\n",
       "       'spoken_languages', 'status', 'tagline', 'title', 'video',\n",
       "       'vote_average', 'vote_count', 'certification'],\n",
       "      dtype='object')"
      ]
     },
     "execution_count": 18,
     "metadata": {},
     "output_type": "execute_result"
    }
   ],
   "source": [
    "df.columns"
   ]
  },
  {
   "cell_type": "code",
   "execution_count": 32,
   "id": "0ad0dd54-6f18-46ca-aa4d-2f7770947d74",
   "metadata": {},
   "outputs": [
    {
     "data": {
      "text/plain": [
       "177.65123456790124"
      ]
     },
     "execution_count": 32,
     "metadata": {},
     "output_type": "execute_result"
    }
   ],
   "source": [
    "\n",
    "one= df[df['runtime']>150]\n",
    "nine=df[df['runtime']<=90]\n",
    "one['runtime'].mean()"
   ]
  },
  {
   "cell_type": "code",
   "execution_count": 33,
   "id": "2c54aadc-3027-4b9d-bf79-bc43eee1bc44",
   "metadata": {},
   "outputs": [
    {
     "data": {
      "text/plain": [
       "71.18828167482327"
      ]
     },
     "execution_count": 33,
     "metadata": {},
     "output_type": "execute_result"
    }
   ],
   "source": [
    "nine['runtime'].mean()"
   ]
  },
  {
   "cell_type": "code",
   "execution_count": 34,
   "id": "5d10f521-dab7-4f66-9d23-f16f2faf3d91",
   "metadata": {},
   "outputs": [
    {
     "data": {
      "text/plain": [
       "Index(['imdb_id', 'adult', 'backdrop_path', 'belongs_to_collection', 'budget',\n",
       "       'genres', 'homepage', 'id', 'original_language', 'original_title',\n",
       "       'overview', 'popularity', 'poster_path', 'production_companies',\n",
       "       'production_countries', 'release_date', 'revenue', 'runtime',\n",
       "       'spoken_languages', 'status', 'tagline', 'title', 'video',\n",
       "       'vote_average', 'vote_count', 'certification'],\n",
       "      dtype='object')"
      ]
     },
     "execution_count": 34,
     "metadata": {},
     "output_type": "execute_result"
    }
   ],
   "source": [
    "one.columns"
   ]
  },
  {
   "cell_type": "markdown",
   "id": "e3d78ee3-05ca-4a3b-bddf-1e99bb88096d",
   "metadata": {},
   "source": [
    "### Outliers"
   ]
  },
  {
   "cell_type": "code",
   "execution_count": 40,
   "id": "8c6a6174-f0e6-4b85-a6f1-18511296d5d8",
   "metadata": {},
   "outputs": [],
   "source": [
    "one_rev=one['revenue']"
   ]
  },
  {
   "cell_type": "code",
   "execution_count": 41,
   "id": "eafc5495-58fc-4999-a343-9c718e139204",
   "metadata": {},
   "outputs": [],
   "source": [
    "nine_rev=nine['revenue']"
   ]
  },
  {
   "cell_type": "code",
   "execution_count": 42,
   "id": "66bec9d8-a646-4d3a-90aa-147e8055d050",
   "metadata": {},
   "outputs": [
    {
     "data": {
      "text/plain": [
       "4"
      ]
     },
     "execution_count": 42,
     "metadata": {},
     "output_type": "execute_result"
    }
   ],
   "source": [
    "zscore_o=stats.zscore(one_rev)\n",
    "outliers_o=abs(zscore_o)>3\n",
    "np.sum(outliers_o)"
   ]
  },
  {
   "cell_type": "code",
   "execution_count": 43,
   "id": "566335b4-e711-4d59-bd45-21fd67963be0",
   "metadata": {},
   "outputs": [
    {
     "data": {
      "text/plain": [
       "42"
      ]
     },
     "execution_count": 43,
     "metadata": {},
     "output_type": "execute_result"
    }
   ],
   "source": [
    "zscore_n=stats.zscore(nine_rev)\n",
    "outliers_n=abs(zscore_n)>3\n",
    "np.sum(outliers_n)"
   ]
  },
  {
   "cell_type": "markdown",
   "id": "ede1c871-9d99-48f0-90cb-2545b578826a",
   "metadata": {},
   "source": [
    "### Removing Outliers"
   ]
  },
  {
   "cell_type": "code",
   "execution_count": 44,
   "id": "461d459d-f33f-4498-9af3-adbc8e0a1031",
   "metadata": {},
   "outputs": [],
   "source": [
    "one_rev=one_rev[(np.abs(stats.zscore(one_rev))<3)]"
   ]
  },
  {
   "cell_type": "code",
   "execution_count": 45,
   "id": "04640a05-ebb2-4d4d-bf6a-4f9ddd994781",
   "metadata": {},
   "outputs": [],
   "source": [
    "nine_rev=nine_rev[(np.abs(stats.zscore(nine_rev))<3)]"
   ]
  },
  {
   "cell_type": "markdown",
   "id": "b12b7a72-3721-4131-9064-7b1e498e3b22",
   "metadata": {},
   "source": [
    "### Check Noramality"
   ]
  },
  {
   "cell_type": "code",
   "execution_count": 46,
   "id": "0f4f5b0d-194b-4bd3-8240-5600acc9e023",
   "metadata": {},
   "outputs": [
    {
     "data": {
      "text/plain": [
       "NormaltestResult(statistic=419.644290292974, pvalue=7.505855197539065e-92)"
      ]
     },
     "execution_count": 46,
     "metadata": {},
     "output_type": "execute_result"
    }
   ],
   "source": [
    "results_one_rev=stats.normaltest(one_rev)\n",
    "results_one_rev"
   ]
  },
  {
   "cell_type": "code",
   "execution_count": 48,
   "id": "52bfa365-b2b3-44aa-aed9-079d95d172c8",
   "metadata": {},
   "outputs": [
    {
     "data": {
      "text/plain": [
       "NormaltestResult(statistic=13808.315484750678, pvalue=0.0)"
      ]
     },
     "execution_count": 48,
     "metadata": {},
     "output_type": "execute_result"
    }
   ],
   "source": [
    "results_nine_rev=stats.normaltest(nine_rev)\n",
    "results_nine_rev"
   ]
  },
  {
   "cell_type": "markdown",
   "id": "2064904c-4053-40e6-b254-38d7e21f7ae6",
   "metadata": {},
   "source": [
    "### Equal Variance"
   ]
  },
  {
   "cell_type": "code",
   "execution_count": 49,
   "id": "e60729d4-0fed-43b7-aa6c-c3f9b5381721",
   "metadata": {},
   "outputs": [
    {
     "data": {
      "text/plain": [
       "LeveneResult(statistic=346.14818397292055, pvalue=1.349775597418952e-75)"
      ]
     },
     "execution_count": 49,
     "metadata": {},
     "output_type": "execute_result"
    }
   ],
   "source": [
    "results=stats.levene(one_rev,nine_rev)\n",
    "results"
   ]
  },
  {
   "cell_type": "markdown",
   "id": "088f6847-ff72-47c8-bdd6-8a0c2feaf14f",
   "metadata": {},
   "source": [
    "### T_Test"
   ]
  },
  {
   "cell_type": "code",
   "execution_count": 50,
   "id": "65c4f730-a071-452a-88d6-b122917de8cf",
   "metadata": {},
   "outputs": [
    {
     "data": {
      "text/plain": [
       "Ttest_indResult(statistic=3.958396918149244, pvalue=9.306468106420854e-05)"
      ]
     },
     "execution_count": 50,
     "metadata": {},
     "output_type": "execute_result"
    }
   ],
   "source": [
    "result=stats.ttest_ind(one_rev,nine_rev,equal_var=False)\n",
    "result"
   ]
  },
  {
   "cell_type": "markdown",
   "id": "1fdf806d-5bd0-4d1e-9868-3a5cd8de6cc8",
   "metadata": {},
   "source": [
    "## Do movies released in 2019 earn less revenue than movies released in 2021?\n",
    "### How do the years compare for movie ratings?"
   ]
  },
  {
   "cell_type": "code",
   "execution_count": null,
   "id": "34ee704f-71d8-4daa-8ded-01814b3477f8",
   "metadata": {},
   "outputs": [],
   "source": []
  },
  {
   "cell_type": "code",
   "execution_count": null,
   "id": "fc747fa6-dc33-4f75-8eb8-f964951e8663",
   "metadata": {},
   "outputs": [],
   "source": []
  },
  {
   "cell_type": "markdown",
   "id": "fd36070a-8140-4d49-9d13-6bb820d243c4",
   "metadata": {},
   "source": [
    "### Testing for Outliers"
   ]
  },
  {
   "cell_type": "code",
   "execution_count": 24,
   "id": "d9ecf517-076f-4e4c-aedb-18486db03f47",
   "metadata": {},
   "outputs": [
    {
     "ename": "TypeError",
     "evalue": "can only concatenate str (not \"float\") to str",
     "output_type": "error",
     "traceback": [
      "\u001b[0;31m---------------------------------------------------------------------------\u001b[0m",
      "\u001b[0;31mTypeError\u001b[0m                                 Traceback (most recent call last)",
      "Cell \u001b[0;32mIn[24], line 1\u001b[0m\n\u001b[0;32m----> 1\u001b[0m zscore_one\u001b[38;5;241m=\u001b[39m\u001b[43mstats\u001b[49m\u001b[38;5;241;43m.\u001b[39;49m\u001b[43mzscore\u001b[49m\u001b[43m(\u001b[49m\u001b[43mone\u001b[49m\u001b[43m)\u001b[49m\n\u001b[1;32m      2\u001b[0m outliers_o\u001b[38;5;241m=\u001b[39m\u001b[38;5;28mabs\u001b[39m(zscore_one)\u001b[38;5;241m>\u001b[39m\u001b[38;5;241m3\u001b[39m\n\u001b[1;32m      3\u001b[0m np\u001b[38;5;241m.\u001b[39msum(outliers_o)\n",
      "File \u001b[0;32m/opt/homebrew/Caskroom/miniforge/base/envs/dojo-env/lib/python3.10/site-packages/scipy/stats/_stats_py.py:2713\u001b[0m, in \u001b[0;36mzscore\u001b[0;34m(a, axis, ddof, nan_policy)\u001b[0m\n\u001b[1;32m   2644\u001b[0m \u001b[38;5;28;01mdef\u001b[39;00m \u001b[38;5;21mzscore\u001b[39m(a, axis\u001b[38;5;241m=\u001b[39m\u001b[38;5;241m0\u001b[39m, ddof\u001b[38;5;241m=\u001b[39m\u001b[38;5;241m0\u001b[39m, nan_policy\u001b[38;5;241m=\u001b[39m\u001b[38;5;124m'\u001b[39m\u001b[38;5;124mpropagate\u001b[39m\u001b[38;5;124m'\u001b[39m):\n\u001b[1;32m   2645\u001b[0m \u001b[38;5;250m    \u001b[39m\u001b[38;5;124;03m\"\"\"\u001b[39;00m\n\u001b[1;32m   2646\u001b[0m \u001b[38;5;124;03m    Compute the z score.\u001b[39;00m\n\u001b[1;32m   2647\u001b[0m \n\u001b[0;32m   (...)\u001b[0m\n\u001b[1;32m   2711\u001b[0m \u001b[38;5;124;03m           [-0.91611681, -0.89090508,  1.4983032 ,  0.88731639, -0.5785977 ]])\u001b[39;00m\n\u001b[1;32m   2712\u001b[0m \u001b[38;5;124;03m    \"\"\"\u001b[39;00m\n\u001b[0;32m-> 2713\u001b[0m     \u001b[38;5;28;01mreturn\u001b[39;00m \u001b[43mzmap\u001b[49m\u001b[43m(\u001b[49m\u001b[43ma\u001b[49m\u001b[43m,\u001b[49m\u001b[43m \u001b[49m\u001b[43ma\u001b[49m\u001b[43m,\u001b[49m\u001b[43m \u001b[49m\u001b[43maxis\u001b[49m\u001b[38;5;241;43m=\u001b[39;49m\u001b[43maxis\u001b[49m\u001b[43m,\u001b[49m\u001b[43m \u001b[49m\u001b[43mddof\u001b[49m\u001b[38;5;241;43m=\u001b[39;49m\u001b[43mddof\u001b[49m\u001b[43m,\u001b[49m\u001b[43m \u001b[49m\u001b[43mnan_policy\u001b[49m\u001b[38;5;241;43m=\u001b[39;49m\u001b[43mnan_policy\u001b[49m\u001b[43m)\u001b[49m\n",
      "File \u001b[0;32m/opt/homebrew/Caskroom/miniforge/base/envs/dojo-env/lib/python3.10/site-packages/scipy/stats/_stats_py.py:2872\u001b[0m, in \u001b[0;36mzmap\u001b[0;34m(scores, compare, axis, ddof, nan_policy)\u001b[0m\n\u001b[1;32m   2870\u001b[0m         isconst \u001b[38;5;241m=\u001b[39m np\u001b[38;5;241m.\u001b[39mapply_along_axis(_isconst, axis, a)\n\u001b[1;32m   2871\u001b[0m \u001b[38;5;28;01melse\u001b[39;00m:\n\u001b[0;32m-> 2872\u001b[0m     mn \u001b[38;5;241m=\u001b[39m \u001b[43ma\u001b[49m\u001b[38;5;241;43m.\u001b[39;49m\u001b[43mmean\u001b[49m\u001b[43m(\u001b[49m\u001b[43maxis\u001b[49m\u001b[38;5;241;43m=\u001b[39;49m\u001b[43maxis\u001b[49m\u001b[43m,\u001b[49m\u001b[43m \u001b[49m\u001b[43mkeepdims\u001b[49m\u001b[38;5;241;43m=\u001b[39;49m\u001b[38;5;28;43;01mTrue\u001b[39;49;00m\u001b[43m)\u001b[49m\n\u001b[1;32m   2873\u001b[0m     std \u001b[38;5;241m=\u001b[39m a\u001b[38;5;241m.\u001b[39mstd(axis\u001b[38;5;241m=\u001b[39maxis, ddof\u001b[38;5;241m=\u001b[39mddof, keepdims\u001b[38;5;241m=\u001b[39m\u001b[38;5;28;01mTrue\u001b[39;00m)\n\u001b[1;32m   2874\u001b[0m     \u001b[38;5;28;01mif\u001b[39;00m axis \u001b[38;5;129;01mis\u001b[39;00m \u001b[38;5;28;01mNone\u001b[39;00m:\n",
      "File \u001b[0;32m/opt/homebrew/Caskroom/miniforge/base/envs/dojo-env/lib/python3.10/site-packages/numpy/core/_methods.py:180\u001b[0m, in \u001b[0;36m_mean\u001b[0;34m(a, axis, dtype, out, keepdims, where)\u001b[0m\n\u001b[1;32m    177\u001b[0m         dtype \u001b[38;5;241m=\u001b[39m mu\u001b[38;5;241m.\u001b[39mdtype(\u001b[38;5;124m'\u001b[39m\u001b[38;5;124mf4\u001b[39m\u001b[38;5;124m'\u001b[39m)\n\u001b[1;32m    178\u001b[0m         is_float16_result \u001b[38;5;241m=\u001b[39m \u001b[38;5;28;01mTrue\u001b[39;00m\n\u001b[0;32m--> 180\u001b[0m ret \u001b[38;5;241m=\u001b[39m \u001b[43mumr_sum\u001b[49m\u001b[43m(\u001b[49m\u001b[43marr\u001b[49m\u001b[43m,\u001b[49m\u001b[43m \u001b[49m\u001b[43maxis\u001b[49m\u001b[43m,\u001b[49m\u001b[43m \u001b[49m\u001b[43mdtype\u001b[49m\u001b[43m,\u001b[49m\u001b[43m \u001b[49m\u001b[43mout\u001b[49m\u001b[43m,\u001b[49m\u001b[43m \u001b[49m\u001b[43mkeepdims\u001b[49m\u001b[43m,\u001b[49m\u001b[43m \u001b[49m\u001b[43mwhere\u001b[49m\u001b[38;5;241;43m=\u001b[39;49m\u001b[43mwhere\u001b[49m\u001b[43m)\u001b[49m\n\u001b[1;32m    181\u001b[0m \u001b[38;5;28;01mif\u001b[39;00m \u001b[38;5;28misinstance\u001b[39m(ret, mu\u001b[38;5;241m.\u001b[39mndarray):\n\u001b[1;32m    182\u001b[0m     ret \u001b[38;5;241m=\u001b[39m um\u001b[38;5;241m.\u001b[39mtrue_divide(\n\u001b[1;32m    183\u001b[0m             ret, rcount, out\u001b[38;5;241m=\u001b[39mret, casting\u001b[38;5;241m=\u001b[39m\u001b[38;5;124m'\u001b[39m\u001b[38;5;124munsafe\u001b[39m\u001b[38;5;124m'\u001b[39m, subok\u001b[38;5;241m=\u001b[39m\u001b[38;5;28;01mFalse\u001b[39;00m)\n",
      "\u001b[0;31mTypeError\u001b[0m: can only concatenate str (not \"float\") to str"
     ]
    }
   ],
   "source": [
    "zscore_one=stats.zscore(one)\n",
    "outliers_o=abs(zscore_one)>3\n",
    "np.sum(outliers_o)"
   ]
  },
  {
   "cell_type": "code",
   "execution_count": 27,
   "id": "3f6a54f9-3bee-4443-b5e4-764def2085d7",
   "metadata": {},
   "outputs": [
    {
     "data": {
      "text/plain": [
       "pandas.core.frame.DataFrame"
      ]
     },
     "execution_count": 27,
     "metadata": {},
     "output_type": "execute_result"
    }
   ],
   "source": [
    "one=one.astype(str)\n",
    "type(one)"
   ]
  },
  {
   "cell_type": "code",
   "execution_count": 28,
   "id": "82fc43e0-0fab-454f-9631-948f83276fb0",
   "metadata": {},
   "outputs": [
    {
     "ename": "TypeError",
     "evalue": "unsupported operand type(s) for /: 'str' and 'int'",
     "output_type": "error",
     "traceback": [
      "\u001b[0;31m---------------------------------------------------------------------------\u001b[0m",
      "\u001b[0;31mTypeError\u001b[0m                                 Traceback (most recent call last)",
      "Cell \u001b[0;32mIn[28], line 1\u001b[0m\n\u001b[0;32m----> 1\u001b[0m zscore_one\u001b[38;5;241m=\u001b[39m\u001b[43mstats\u001b[49m\u001b[38;5;241;43m.\u001b[39;49m\u001b[43mzscore\u001b[49m\u001b[43m(\u001b[49m\u001b[43mone\u001b[49m\u001b[43m)\u001b[49m\n\u001b[1;32m      2\u001b[0m outliers_o\u001b[38;5;241m=\u001b[39m\u001b[38;5;28mabs\u001b[39m(zscore_one)\u001b[38;5;241m>\u001b[39m\u001b[38;5;241m3\u001b[39m\n\u001b[1;32m      3\u001b[0m np\u001b[38;5;241m.\u001b[39msum(outliers_o)\n",
      "File \u001b[0;32m/opt/homebrew/Caskroom/miniforge/base/envs/dojo-env/lib/python3.10/site-packages/scipy/stats/_stats_py.py:2713\u001b[0m, in \u001b[0;36mzscore\u001b[0;34m(a, axis, ddof, nan_policy)\u001b[0m\n\u001b[1;32m   2644\u001b[0m \u001b[38;5;28;01mdef\u001b[39;00m \u001b[38;5;21mzscore\u001b[39m(a, axis\u001b[38;5;241m=\u001b[39m\u001b[38;5;241m0\u001b[39m, ddof\u001b[38;5;241m=\u001b[39m\u001b[38;5;241m0\u001b[39m, nan_policy\u001b[38;5;241m=\u001b[39m\u001b[38;5;124m'\u001b[39m\u001b[38;5;124mpropagate\u001b[39m\u001b[38;5;124m'\u001b[39m):\n\u001b[1;32m   2645\u001b[0m \u001b[38;5;250m    \u001b[39m\u001b[38;5;124;03m\"\"\"\u001b[39;00m\n\u001b[1;32m   2646\u001b[0m \u001b[38;5;124;03m    Compute the z score.\u001b[39;00m\n\u001b[1;32m   2647\u001b[0m \n\u001b[0;32m   (...)\u001b[0m\n\u001b[1;32m   2711\u001b[0m \u001b[38;5;124;03m           [-0.91611681, -0.89090508,  1.4983032 ,  0.88731639, -0.5785977 ]])\u001b[39;00m\n\u001b[1;32m   2712\u001b[0m \u001b[38;5;124;03m    \"\"\"\u001b[39;00m\n\u001b[0;32m-> 2713\u001b[0m     \u001b[38;5;28;01mreturn\u001b[39;00m \u001b[43mzmap\u001b[49m\u001b[43m(\u001b[49m\u001b[43ma\u001b[49m\u001b[43m,\u001b[49m\u001b[43m \u001b[49m\u001b[43ma\u001b[49m\u001b[43m,\u001b[49m\u001b[43m \u001b[49m\u001b[43maxis\u001b[49m\u001b[38;5;241;43m=\u001b[39;49m\u001b[43maxis\u001b[49m\u001b[43m,\u001b[49m\u001b[43m \u001b[49m\u001b[43mddof\u001b[49m\u001b[38;5;241;43m=\u001b[39;49m\u001b[43mddof\u001b[49m\u001b[43m,\u001b[49m\u001b[43m \u001b[49m\u001b[43mnan_policy\u001b[49m\u001b[38;5;241;43m=\u001b[39;49m\u001b[43mnan_policy\u001b[49m\u001b[43m)\u001b[49m\n",
      "File \u001b[0;32m/opt/homebrew/Caskroom/miniforge/base/envs/dojo-env/lib/python3.10/site-packages/scipy/stats/_stats_py.py:2872\u001b[0m, in \u001b[0;36mzmap\u001b[0;34m(scores, compare, axis, ddof, nan_policy)\u001b[0m\n\u001b[1;32m   2870\u001b[0m         isconst \u001b[38;5;241m=\u001b[39m np\u001b[38;5;241m.\u001b[39mapply_along_axis(_isconst, axis, a)\n\u001b[1;32m   2871\u001b[0m \u001b[38;5;28;01melse\u001b[39;00m:\n\u001b[0;32m-> 2872\u001b[0m     mn \u001b[38;5;241m=\u001b[39m \u001b[43ma\u001b[49m\u001b[38;5;241;43m.\u001b[39;49m\u001b[43mmean\u001b[49m\u001b[43m(\u001b[49m\u001b[43maxis\u001b[49m\u001b[38;5;241;43m=\u001b[39;49m\u001b[43maxis\u001b[49m\u001b[43m,\u001b[49m\u001b[43m \u001b[49m\u001b[43mkeepdims\u001b[49m\u001b[38;5;241;43m=\u001b[39;49m\u001b[38;5;28;43;01mTrue\u001b[39;49;00m\u001b[43m)\u001b[49m\n\u001b[1;32m   2873\u001b[0m     std \u001b[38;5;241m=\u001b[39m a\u001b[38;5;241m.\u001b[39mstd(axis\u001b[38;5;241m=\u001b[39maxis, ddof\u001b[38;5;241m=\u001b[39mddof, keepdims\u001b[38;5;241m=\u001b[39m\u001b[38;5;28;01mTrue\u001b[39;00m)\n\u001b[1;32m   2874\u001b[0m     \u001b[38;5;28;01mif\u001b[39;00m axis \u001b[38;5;129;01mis\u001b[39;00m \u001b[38;5;28;01mNone\u001b[39;00m:\n",
      "File \u001b[0;32m/opt/homebrew/Caskroom/miniforge/base/envs/dojo-env/lib/python3.10/site-packages/numpy/core/_methods.py:182\u001b[0m, in \u001b[0;36m_mean\u001b[0;34m(a, axis, dtype, out, keepdims, where)\u001b[0m\n\u001b[1;32m    180\u001b[0m ret \u001b[38;5;241m=\u001b[39m umr_sum(arr, axis, dtype, out, keepdims, where\u001b[38;5;241m=\u001b[39mwhere)\n\u001b[1;32m    181\u001b[0m \u001b[38;5;28;01mif\u001b[39;00m \u001b[38;5;28misinstance\u001b[39m(ret, mu\u001b[38;5;241m.\u001b[39mndarray):\n\u001b[0;32m--> 182\u001b[0m     ret \u001b[38;5;241m=\u001b[39m \u001b[43mum\u001b[49m\u001b[38;5;241;43m.\u001b[39;49m\u001b[43mtrue_divide\u001b[49m\u001b[43m(\u001b[49m\n\u001b[1;32m    183\u001b[0m \u001b[43m            \u001b[49m\u001b[43mret\u001b[49m\u001b[43m,\u001b[49m\u001b[43m \u001b[49m\u001b[43mrcount\u001b[49m\u001b[43m,\u001b[49m\u001b[43m \u001b[49m\u001b[43mout\u001b[49m\u001b[38;5;241;43m=\u001b[39;49m\u001b[43mret\u001b[49m\u001b[43m,\u001b[49m\u001b[43m \u001b[49m\u001b[43mcasting\u001b[49m\u001b[38;5;241;43m=\u001b[39;49m\u001b[38;5;124;43m'\u001b[39;49m\u001b[38;5;124;43munsafe\u001b[39;49m\u001b[38;5;124;43m'\u001b[39;49m\u001b[43m,\u001b[49m\u001b[43m \u001b[49m\u001b[43msubok\u001b[49m\u001b[38;5;241;43m=\u001b[39;49m\u001b[38;5;28;43;01mFalse\u001b[39;49;00m\u001b[43m)\u001b[49m\n\u001b[1;32m    184\u001b[0m     \u001b[38;5;28;01mif\u001b[39;00m is_float16_result \u001b[38;5;129;01mand\u001b[39;00m out \u001b[38;5;129;01mis\u001b[39;00m \u001b[38;5;28;01mNone\u001b[39;00m:\n\u001b[1;32m    185\u001b[0m         ret \u001b[38;5;241m=\u001b[39m arr\u001b[38;5;241m.\u001b[39mdtype\u001b[38;5;241m.\u001b[39mtype(ret)\n",
      "\u001b[0;31mTypeError\u001b[0m: unsupported operand type(s) for /: 'str' and 'int'"
     ]
    }
   ],
   "source": [
    "zscore_one=stats.zscore(one)\n",
    "outliers_o=abs(zscore_one)>3\n",
    "np.sum(outliers_o)"
   ]
  },
  {
   "cell_type": "code",
   "execution_count": 29,
   "id": "7766ed26-e01b-4ea7-89a9-7b80f2f0811a",
   "metadata": {},
   "outputs": [
    {
     "ename": "TypeError",
     "evalue": "unsupported operand type(s) for /: 'str' and 'int'",
     "output_type": "error",
     "traceback": [
      "\u001b[0;31m---------------------------------------------------------------------------\u001b[0m",
      "\u001b[0;31mTypeError\u001b[0m                                 Traceback (most recent call last)",
      "Cell \u001b[0;32mIn[29], line 1\u001b[0m\n\u001b[0;32m----> 1\u001b[0m results_o\u001b[38;5;241m=\u001b[39m\u001b[43mstats\u001b[49m\u001b[38;5;241;43m.\u001b[39;49m\u001b[43mnormaltest\u001b[49m\u001b[43m(\u001b[49m\u001b[43mone\u001b[49m\u001b[43m)\u001b[49m\n\u001b[1;32m      2\u001b[0m results_o\n",
      "File \u001b[0;32m/opt/homebrew/Caskroom/miniforge/base/envs/dojo-env/lib/python3.10/site-packages/scipy/stats/_stats_py.py:1833\u001b[0m, in \u001b[0;36mnormaltest\u001b[0;34m(a, axis, nan_policy)\u001b[0m\n\u001b[1;32m   1830\u001b[0m     a \u001b[38;5;241m=\u001b[39m ma\u001b[38;5;241m.\u001b[39mmasked_invalid(a)\n\u001b[1;32m   1831\u001b[0m     \u001b[38;5;28;01mreturn\u001b[39;00m mstats_basic\u001b[38;5;241m.\u001b[39mnormaltest(a, axis)\n\u001b[0;32m-> 1833\u001b[0m s, _ \u001b[38;5;241m=\u001b[39m \u001b[43mskewtest\u001b[49m\u001b[43m(\u001b[49m\u001b[43ma\u001b[49m\u001b[43m,\u001b[49m\u001b[43m \u001b[49m\u001b[43maxis\u001b[49m\u001b[43m)\u001b[49m\n\u001b[1;32m   1834\u001b[0m k, _ \u001b[38;5;241m=\u001b[39m kurtosistest(a, axis)\n\u001b[1;32m   1835\u001b[0m k2 \u001b[38;5;241m=\u001b[39m s\u001b[38;5;241m*\u001b[39ms \u001b[38;5;241m+\u001b[39m k\u001b[38;5;241m*\u001b[39mk\n",
      "File \u001b[0;32m/opt/homebrew/Caskroom/miniforge/base/envs/dojo-env/lib/python3.10/site-packages/scipy/stats/_stats_py.py:1633\u001b[0m, in \u001b[0;36mskewtest\u001b[0;34m(a, axis, nan_policy, alternative)\u001b[0m\n\u001b[1;32m   1631\u001b[0m     a \u001b[38;5;241m=\u001b[39m np\u001b[38;5;241m.\u001b[39mravel(a)\n\u001b[1;32m   1632\u001b[0m     axis \u001b[38;5;241m=\u001b[39m \u001b[38;5;241m0\u001b[39m\n\u001b[0;32m-> 1633\u001b[0m b2 \u001b[38;5;241m=\u001b[39m \u001b[43mskew\u001b[49m\u001b[43m(\u001b[49m\u001b[43ma\u001b[49m\u001b[43m,\u001b[49m\u001b[43m \u001b[49m\u001b[43maxis\u001b[49m\u001b[43m)\u001b[49m\n\u001b[1;32m   1634\u001b[0m n \u001b[38;5;241m=\u001b[39m a\u001b[38;5;241m.\u001b[39mshape[axis]\n\u001b[1;32m   1635\u001b[0m \u001b[38;5;28;01mif\u001b[39;00m n \u001b[38;5;241m<\u001b[39m \u001b[38;5;241m8\u001b[39m:\n",
      "File \u001b[0;32m/opt/homebrew/Caskroom/miniforge/base/envs/dojo-env/lib/python3.10/site-packages/scipy/stats/_axis_nan_policy.py:527\u001b[0m, in \u001b[0;36m_axis_nan_policy_factory.<locals>.axis_nan_policy_decorator.<locals>.axis_nan_policy_wrapper\u001b[0;34m(***failed resolving arguments***)\u001b[0m\n\u001b[1;32m    524\u001b[0m contains_nan, _ \u001b[38;5;241m=\u001b[39m _contains_nan(x, nan_policy)\n\u001b[1;32m    526\u001b[0m \u001b[38;5;28;01mif\u001b[39;00m vectorized \u001b[38;5;129;01mand\u001b[39;00m \u001b[38;5;129;01mnot\u001b[39;00m contains_nan \u001b[38;5;129;01mand\u001b[39;00m \u001b[38;5;129;01mnot\u001b[39;00m sentinel:\n\u001b[0;32m--> 527\u001b[0m     res \u001b[38;5;241m=\u001b[39m \u001b[43mhypotest_fun_out\u001b[49m\u001b[43m(\u001b[49m\u001b[38;5;241;43m*\u001b[39;49m\u001b[43msamples\u001b[49m\u001b[43m,\u001b[49m\u001b[43m \u001b[49m\u001b[43maxis\u001b[49m\u001b[38;5;241;43m=\u001b[39;49m\u001b[43maxis\u001b[49m\u001b[43m,\u001b[49m\u001b[43m \u001b[49m\u001b[38;5;241;43m*\u001b[39;49m\u001b[38;5;241;43m*\u001b[39;49m\u001b[43mkwds\u001b[49m\u001b[43m)\u001b[49m\n\u001b[1;32m    528\u001b[0m     res \u001b[38;5;241m=\u001b[39m result_to_tuple(res)\n\u001b[1;32m    529\u001b[0m     res \u001b[38;5;241m=\u001b[39m _add_reduced_axes(res, reduced_axes, keepdims)\n",
      "File \u001b[0;32m/opt/homebrew/Caskroom/miniforge/base/envs/dojo-env/lib/python3.10/site-packages/scipy/stats/_stats_py.py:1304\u001b[0m, in \u001b[0;36mskew\u001b[0;34m(a, axis, bias, nan_policy)\u001b[0m\n\u001b[1;32m   1301\u001b[0m     a \u001b[38;5;241m=\u001b[39m ma\u001b[38;5;241m.\u001b[39mmasked_invalid(a)\n\u001b[1;32m   1302\u001b[0m     \u001b[38;5;28;01mreturn\u001b[39;00m mstats_basic\u001b[38;5;241m.\u001b[39mskew(a, axis, bias)\n\u001b[0;32m-> 1304\u001b[0m mean \u001b[38;5;241m=\u001b[39m \u001b[43ma\u001b[49m\u001b[38;5;241;43m.\u001b[39;49m\u001b[43mmean\u001b[49m\u001b[43m(\u001b[49m\u001b[43maxis\u001b[49m\u001b[43m,\u001b[49m\u001b[43m \u001b[49m\u001b[43mkeepdims\u001b[49m\u001b[38;5;241;43m=\u001b[39;49m\u001b[38;5;28;43;01mTrue\u001b[39;49;00m\u001b[43m)\u001b[49m\n\u001b[1;32m   1305\u001b[0m m2 \u001b[38;5;241m=\u001b[39m _moment(a, \u001b[38;5;241m2\u001b[39m, axis, mean\u001b[38;5;241m=\u001b[39mmean)\n\u001b[1;32m   1306\u001b[0m m3 \u001b[38;5;241m=\u001b[39m _moment(a, \u001b[38;5;241m3\u001b[39m, axis, mean\u001b[38;5;241m=\u001b[39mmean)\n",
      "File \u001b[0;32m/opt/homebrew/Caskroom/miniforge/base/envs/dojo-env/lib/python3.10/site-packages/numpy/core/_methods.py:182\u001b[0m, in \u001b[0;36m_mean\u001b[0;34m(a, axis, dtype, out, keepdims, where)\u001b[0m\n\u001b[1;32m    180\u001b[0m ret \u001b[38;5;241m=\u001b[39m umr_sum(arr, axis, dtype, out, keepdims, where\u001b[38;5;241m=\u001b[39mwhere)\n\u001b[1;32m    181\u001b[0m \u001b[38;5;28;01mif\u001b[39;00m \u001b[38;5;28misinstance\u001b[39m(ret, mu\u001b[38;5;241m.\u001b[39mndarray):\n\u001b[0;32m--> 182\u001b[0m     ret \u001b[38;5;241m=\u001b[39m \u001b[43mum\u001b[49m\u001b[38;5;241;43m.\u001b[39;49m\u001b[43mtrue_divide\u001b[49m\u001b[43m(\u001b[49m\n\u001b[1;32m    183\u001b[0m \u001b[43m            \u001b[49m\u001b[43mret\u001b[49m\u001b[43m,\u001b[49m\u001b[43m \u001b[49m\u001b[43mrcount\u001b[49m\u001b[43m,\u001b[49m\u001b[43m \u001b[49m\u001b[43mout\u001b[49m\u001b[38;5;241;43m=\u001b[39;49m\u001b[43mret\u001b[49m\u001b[43m,\u001b[49m\u001b[43m \u001b[49m\u001b[43mcasting\u001b[49m\u001b[38;5;241;43m=\u001b[39;49m\u001b[38;5;124;43m'\u001b[39;49m\u001b[38;5;124;43munsafe\u001b[39;49m\u001b[38;5;124;43m'\u001b[39;49m\u001b[43m,\u001b[49m\u001b[43m \u001b[49m\u001b[43msubok\u001b[49m\u001b[38;5;241;43m=\u001b[39;49m\u001b[38;5;28;43;01mFalse\u001b[39;49;00m\u001b[43m)\u001b[49m\n\u001b[1;32m    184\u001b[0m     \u001b[38;5;28;01mif\u001b[39;00m is_float16_result \u001b[38;5;129;01mand\u001b[39;00m out \u001b[38;5;129;01mis\u001b[39;00m \u001b[38;5;28;01mNone\u001b[39;00m:\n\u001b[1;32m    185\u001b[0m         ret \u001b[38;5;241m=\u001b[39m arr\u001b[38;5;241m.\u001b[39mdtype\u001b[38;5;241m.\u001b[39mtype(ret)\n",
      "\u001b[0;31mTypeError\u001b[0m: unsupported operand type(s) for /: 'str' and 'int'"
     ]
    }
   ],
   "source": [
    "results_o=stats.normaltest(one)\n",
    "results_o"
   ]
  },
  {
   "cell_type": "code",
   "execution_count": null,
   "id": "41b4c9b2-2ef6-4266-815c-a7a13b8ea39f",
   "metadata": {},
   "outputs": [],
   "source": []
  }
 ],
 "metadata": {
  "kernelspec": {
   "display_name": "Python 3 (ipykernel)",
   "language": "python",
   "name": "python3"
  },
  "language_info": {
   "codemirror_mode": {
    "name": "ipython",
    "version": 3
   },
   "file_extension": ".py",
   "mimetype": "text/x-python",
   "name": "python",
   "nbconvert_exporter": "python",
   "pygments_lexer": "ipython3",
   "version": "3.10.10"
  },
  "widgets": {
   "application/vnd.jupyter.widget-state+json": {
    "state": {},
    "version_major": 2,
    "version_minor": 0
   }
  }
 },
 "nbformat": 4,
 "nbformat_minor": 5
}
