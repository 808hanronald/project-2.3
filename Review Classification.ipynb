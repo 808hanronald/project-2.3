{
 "cells": [
  {
   "cell_type": "markdown",
   "id": "bbb51fe5-71c8-4fa3-805f-8ba62b07c6d9",
   "metadata": {},
   "source": [
    "# Imports"
   ]
  },
  {
   "cell_type": "code",
   "execution_count": 1,
   "id": "988dc093-3323-4607-b936-69f1a123032d",
   "metadata": {},
   "outputs": [],
   "source": [
    "import pandas as pd \n",
    "import numpy as np\n",
    "import matplotlib.pyplot as plt\n",
    "import seaborn as sns\n",
    "import tensorflow as tf\n",
    "\n",
    "from sklearn.model_selection import train_test_split, GridSearchCV\n",
    "from sklearn.pipeline import make_pipeline, Pipeline\n",
    "from sklearn.preprocessing import LabelEncoder\n",
    "from sklearn import set_config\n",
    "set_config(transform_output='pandas')\n",
    "pd.set_option('display.max_colwidth', 250)\n",
    "\n",
    "from imblearn.under_sampling import RandomUnderSampler\n",
    "from tensorflow.keras import layers, optimizers, regularizers\n",
    "from tensorflow.keras.layers import TextVectorization\n",
    "from tensorflow.keras.models import Sequential\n",
    "\n",
    "tf.keras.utils.set_random_seed(42)\n",
    "tf.random.set_seed(42)\n",
    "np.random.seed(42)\n",
    "# Run the Enable Deterministic Operations Function\n",
    "tf.config.experimental.enable_op_determinism()"
   ]
  },
  {
   "cell_type": "markdown",
   "id": "3b4d5f8f-f19d-4441-854e-d676135c76b3",
   "metadata": {},
   "source": [
    "# Load the data using joblib"
   ]
  },
  {
   "cell_type": "code",
   "execution_count": 2,
   "id": "c567fef0-8e4f-4e0c-bf04-5797f7db01c8",
   "metadata": {},
   "outputs": [
    {
     "name": "stdout",
     "output_type": "stream",
     "text": [
      "<class 'pandas.core.frame.DataFrame'>\n",
      "Int64Index: 2419 entries, 1 to 8647\n",
      "Data columns (total 12 columns):\n",
      " #   Column          Non-Null Count  Dtype  \n",
      "---  ------          --------------  -----  \n",
      " 0   review_id       2419 non-null   object \n",
      " 1   movie_id        2419 non-null   int64  \n",
      " 2   imdb_id         2419 non-null   object \n",
      " 3   original_title  2419 non-null   object \n",
      " 4   review          2419 non-null   object \n",
      " 5   rating          2419 non-null   float64\n",
      " 6   group           2419 non-null   object \n",
      " 7   cln_review      2419 non-null   object \n",
      " 8   tokens          2419 non-null   object \n",
      " 9   lemmas          2419 non-null   object \n",
      " 10  tokens-joined   2419 non-null   object \n",
      " 11  lemmas-joined   2419 non-null   object \n",
      "dtypes: float64(1), int64(1), object(10)\n",
      "memory usage: 245.7+ KB\n"
     ]
    },
    {
     "data": {
      "text/html": [
       "<div>\n",
       "<style scoped>\n",
       "    .dataframe tbody tr th:only-of-type {\n",
       "        vertical-align: middle;\n",
       "    }\n",
       "\n",
       "    .dataframe tbody tr th {\n",
       "        vertical-align: top;\n",
       "    }\n",
       "\n",
       "    .dataframe thead th {\n",
       "        text-align: right;\n",
       "    }\n",
       "</style>\n",
       "<table border=\"1\" class=\"dataframe\">\n",
       "  <thead>\n",
       "    <tr style=\"text-align: right;\">\n",
       "      <th></th>\n",
       "      <th>review_id</th>\n",
       "      <th>movie_id</th>\n",
       "      <th>imdb_id</th>\n",
       "      <th>original_title</th>\n",
       "      <th>review</th>\n",
       "      <th>rating</th>\n",
       "      <th>group</th>\n",
       "      <th>cln_review</th>\n",
       "      <th>tokens</th>\n",
       "      <th>lemmas</th>\n",
       "      <th>tokens-joined</th>\n",
       "      <th>lemmas-joined</th>\n",
       "    </tr>\n",
       "  </thead>\n",
       "  <tbody>\n",
       "    <tr>\n",
       "      <th>1</th>\n",
       "      <td>57086ff5c3a3681d29001512</td>\n",
       "      <td>7443</td>\n",
       "      <td>tt0120630</td>\n",
       "      <td>Chicken Run</td>\n",
       "      <td>A guilty pleasure for me personally, as I love both 'The Great Escape' and most of the works I have seen, over the years, from this rightfully-esteemed British animation company. Highly recommended both for children and for adults who enjoy anima...</td>\n",
       "      <td>9.0</td>\n",
       "      <td>high_rating</td>\n",
       "      <td>A guilty pleasure for me personally, as I love both 'The Great Escape' and most of the works I have seen, over the years, from this rightfully-esteemed British animation company. Highly recommended both for children and for adults who enjoy anima...</td>\n",
       "      <td>[guilty, pleasure, personally, love, great, escape, works, seen, years, rightfully, esteemed, british, animation, company, highly, recommended, children, adults, enjoy, animation]</td>\n",
       "      <td>[guilty, pleasure, personally, love, great, escape, works, seen, years, rightfully, esteemed, british, animation, company, highly, recommended, children, adults, enjoy, animation]</td>\n",
       "      <td>guilty pleasure personally love great escape works seen years rightfully esteemed british animation company highly recommended children adults enjoy animation</td>\n",
       "      <td>guilty pleasure personally love great escape works seen years rightfully esteemed british animation company highly recommended children adults enjoy animation</td>\n",
       "    </tr>\n",
       "    <tr>\n",
       "      <th>6</th>\n",
       "      <td>57b2d23dc3a36837d7000b14</td>\n",
       "      <td>955</td>\n",
       "      <td>tt0120755</td>\n",
       "      <td>Mission: Impossible II</td>\n",
       "      <td>The first underwhelmed me, but this one straight-up bored me. Again, of course seeing Hunt climb a mountain without a harness is impressive sure. And I even quite liked the idea behind the villain of the piece (though even that angle was woefully...</td>\n",
       "      <td>3.0</td>\n",
       "      <td>low_rating</td>\n",
       "      <td>The first underwhelmed me, but this one straight-up bored me. Again, of course seeing Hunt climb a mountain without a harness is impressive sure. And I even quite liked the idea behind the villain of the piece (though even that angle was woefully...</td>\n",
       "      <td>[underwhelmed, straight, bored, course, seeing, hunt, climb, mountain, harness, impressive, sure, liked, idea, villain, piece, angle, woefully, underdeveloped, setting, predominantly, australia, grab, attention, saying, cause, pretty, biased, com...</td>\n",
       "      <td>[underwhelmed, straight, bored, course, seeing, hunt, climb, mountain, harness, impressive, sure, liked, idea, villain, piece, angle, woefully, underdeveloped, setting, predominantly, australia, grab, attention, saying, cause, pretty, biased, com...</td>\n",
       "      <td>underwhelmed straight bored course seeing hunt climb mountain harness impressive sure liked idea villain piece angle woefully underdeveloped setting predominantly australia grab attention saying cause pretty biased comes hear tell mission impossi...</td>\n",
       "      <td>underwhelmed straight bored course seeing hunt climb mountain harness impressive sure liked idea villain piece angle woefully underdeveloped setting predominantly australia grab attention saying cause pretty biased comes hear tell mission impossi...</td>\n",
       "    </tr>\n",
       "    <tr>\n",
       "      <th>7</th>\n",
       "      <td>5e9120963679a10018375490</td>\n",
       "      <td>955</td>\n",
       "      <td>tt0120755</td>\n",
       "      <td>Mission: Impossible II</td>\n",
       "      <td>After quite entertainign Mission Impossible I the second installment turned out ... terrible. As if the screenwriters didn't know how to fill the 2 hrs with action the overuse of heroic slow motion scenes is horrible. You almost might need a barf...</td>\n",
       "      <td>2.0</td>\n",
       "      <td>low_rating</td>\n",
       "      <td>After quite entertainign Mission Impossible I the second installment turned out ... terrible. As if the screenwriters didn't know how to fill the 2 hrs with action the overuse of heroic slow motion scenes is horrible. You almost might need a barf...</td>\n",
       "      <td>[entertainign, mission, impossible, second, installment, turned, terrible, screenwriters, know, fill, 2, hrs, action, overuse, heroic, slow, motion, scenes, horrible, need, barf, bag, stand, slo, mo, seconds, 15, seconds, amazed, decide, push, m,...</td>\n",
       "      <td>[entertainign, mission, impossible, second, installment, turned, terrible, screenwriters, know, fill, 2, hrs, action, overuse, heroic, slow, motion, scenes, horrible, need, barf, bag, stand, slo, mo, seconds, 15, seconds, amazed, decide, push, m,...</td>\n",
       "      <td>entertainign mission impossible second installment turned terrible screenwriters know fill 2 hrs action overuse heroic slow motion scenes horrible need barf bag stand slo mo seconds 15 seconds amazed decide push m movies turned better hard beat l...</td>\n",
       "      <td>entertainign mission impossible second installment turned terrible screenwriters know fill 2 hrs action overuse heroic slow motion scenes horrible need barf bag stand slo mo seconds 15 seconds amazed decide push m movies turned better hard beat l...</td>\n",
       "    </tr>\n",
       "    <tr>\n",
       "      <th>15</th>\n",
       "      <td>608e2744d8cc4a0058dc4272</td>\n",
       "      <td>2621</td>\n",
       "      <td>tt0122459</td>\n",
       "      <td>Return to Me</td>\n",
       "      <td>Okay, I will admit I can be a bit of an easy grader when it comes to romantic comedies, as long as they are witty with likable characters, don’t insult my intelligence and have suitable happy endings (I guess if they don’t end happily, they aren’...</td>\n",
       "      <td>9.0</td>\n",
       "      <td>high_rating</td>\n",
       "      <td>Okay, I will admit I can be a bit of an easy grader when it comes to romantic comedies, as long as they are witty with likable characters, don’t insult my intelligence and have suitable happy endings (I guess if they don’t end happily, they aren’...</td>\n",
       "      <td>[okay, admit, bit, easy, grader, comes, romantic, comedies, long, witty, likable, characters, insult, intelligence, suitable, happy, endings, guess, end, happily, rom, coms, saw, movie, years, ago, forgotten, fresh, like, movies, plot, relies, hu...</td>\n",
       "      <td>[okay, admit, bit, easy, grader, comes, romantic, comedies, long, witty, likable, characters, insult, intelligence, suitable, happy, endings, guess, end, happily, rom, coms, saw, movie, years, ago, forgotten, fresh, like, movies, plot, relies, hu...</td>\n",
       "      <td>okay admit bit easy grader comes romantic comedies long witty likable characters insult intelligence suitable happy endings guess end happily rom coms saw movie years ago forgotten fresh like movies plot relies huge coincidence story gets sappy s...</td>\n",
       "      <td>okay admit bit easy grader comes romantic comedies long witty likable characters insult intelligence suitable happy endings guess end happily rom coms saw movie years ago forgotten fresh like movies plot relies huge coincidence story gets sappy s...</td>\n",
       "    </tr>\n",
       "    <tr>\n",
       "      <th>20</th>\n",
       "      <td>6409202f0e441900e887a17b</td>\n",
       "      <td>4234</td>\n",
       "      <td>tt0134084</td>\n",
       "      <td>Scream 3</td>\n",
       "      <td>**_Scream 3’s_ lackluster screenplay and unimaginative kills leave a film that is a bore to watch.**\\r\\n\\r\\nThe meta-narrative of trilogies throughout the film does not make up for how abysmal the plot was. This film creates so much lore for the ...</td>\n",
       "      <td>4.0</td>\n",
       "      <td>low_rating</td>\n",
       "      <td>**_Scream 3’s_ lackluster screenplay and unimaginative kills leave a film that is a bore to watch.**\\r\\n\\r\\nThe meta-narrative of trilogies throughout the film does not make up for how abysmal the plot was. This film creates so much lore for the ...</td>\n",
       "      <td>[scream, 3, lackluster, screenplay, unimaginative, kills, leave, film, bore, watch, meta, narrative, trilogies, film, abysmal, plot, film, creates, lore, past, movies, seemingly, blue, muddling, continuity, shock, value, added, little, film, felt...</td>\n",
       "      <td>[scream, 3, lackluster, screenplay, unimaginative, kills, leave, film, bore, watch, meta, narrative, trilogies, film, abysmal, plot, film, creates, lore, past, movies, seemingly, blue, muddling, continuity, shock, value, added, little, film, felt...</td>\n",
       "      <td>scream 3 lackluster screenplay unimaginative kills leave film bore watch meta narrative trilogies film abysmal plot film creates lore past movies seemingly blue muddling continuity shock value added little film felt forced entire plot point sidne...</td>\n",
       "      <td>scream 3 lackluster screenplay unimaginative kills leave film bore watch meta narrative trilogies film abysmal plot film creates lore past movies seemingly blue muddling continuity shock value added little film felt forced entire plot point sidne...</td>\n",
       "    </tr>\n",
       "  </tbody>\n",
       "</table>\n",
       "</div>"
      ],
      "text/plain": [
       "                   review_id  movie_id    imdb_id          original_title  \\\n",
       "1   57086ff5c3a3681d29001512      7443  tt0120630             Chicken Run   \n",
       "6   57b2d23dc3a36837d7000b14       955  tt0120755  Mission: Impossible II   \n",
       "7   5e9120963679a10018375490       955  tt0120755  Mission: Impossible II   \n",
       "15  608e2744d8cc4a0058dc4272      2621  tt0122459            Return to Me   \n",
       "20  6409202f0e441900e887a17b      4234  tt0134084                Scream 3   \n",
       "\n",
       "                                                                                                                                                                                                                                                       review  \\\n",
       "1   A guilty pleasure for me personally, as I love both 'The Great Escape' and most of the works I have seen, over the years, from this rightfully-esteemed British animation company. Highly recommended both for children and for adults who enjoy anima...   \n",
       "6   The first underwhelmed me, but this one straight-up bored me. Again, of course seeing Hunt climb a mountain without a harness is impressive sure. And I even quite liked the idea behind the villain of the piece (though even that angle was woefully...   \n",
       "7   After quite entertainign Mission Impossible I the second installment turned out ... terrible. As if the screenwriters didn't know how to fill the 2 hrs with action the overuse of heroic slow motion scenes is horrible. You almost might need a barf...   \n",
       "15  Okay, I will admit I can be a bit of an easy grader when it comes to romantic comedies, as long as they are witty with likable characters, don’t insult my intelligence and have suitable happy endings (I guess if they don’t end happily, they aren’...   \n",
       "20  **_Scream 3’s_ lackluster screenplay and unimaginative kills leave a film that is a bore to watch.**\\r\\n\\r\\nThe meta-narrative of trilogies throughout the film does not make up for how abysmal the plot was. This film creates so much lore for the ...   \n",
       "\n",
       "    rating        group  \\\n",
       "1      9.0  high_rating   \n",
       "6      3.0   low_rating   \n",
       "7      2.0   low_rating   \n",
       "15     9.0  high_rating   \n",
       "20     4.0   low_rating   \n",
       "\n",
       "                                                                                                                                                                                                                                                   cln_review  \\\n",
       "1   A guilty pleasure for me personally, as I love both 'The Great Escape' and most of the works I have seen, over the years, from this rightfully-esteemed British animation company. Highly recommended both for children and for adults who enjoy anima...   \n",
       "6   The first underwhelmed me, but this one straight-up bored me. Again, of course seeing Hunt climb a mountain without a harness is impressive sure. And I even quite liked the idea behind the villain of the piece (though even that angle was woefully...   \n",
       "7   After quite entertainign Mission Impossible I the second installment turned out ... terrible. As if the screenwriters didn't know how to fill the 2 hrs with action the overuse of heroic slow motion scenes is horrible. You almost might need a barf...   \n",
       "15  Okay, I will admit I can be a bit of an easy grader when it comes to romantic comedies, as long as they are witty with likable characters, don’t insult my intelligence and have suitable happy endings (I guess if they don’t end happily, they aren’...   \n",
       "20  **_Scream 3’s_ lackluster screenplay and unimaginative kills leave a film that is a bore to watch.**\\r\\n\\r\\nThe meta-narrative of trilogies throughout the film does not make up for how abysmal the plot was. This film creates so much lore for the ...   \n",
       "\n",
       "                                                                                                                                                                                                                                                       tokens  \\\n",
       "1                                                                         [guilty, pleasure, personally, love, great, escape, works, seen, years, rightfully, esteemed, british, animation, company, highly, recommended, children, adults, enjoy, animation]   \n",
       "6   [underwhelmed, straight, bored, course, seeing, hunt, climb, mountain, harness, impressive, sure, liked, idea, villain, piece, angle, woefully, underdeveloped, setting, predominantly, australia, grab, attention, saying, cause, pretty, biased, com...   \n",
       "7   [entertainign, mission, impossible, second, installment, turned, terrible, screenwriters, know, fill, 2, hrs, action, overuse, heroic, slow, motion, scenes, horrible, need, barf, bag, stand, slo, mo, seconds, 15, seconds, amazed, decide, push, m,...   \n",
       "15  [okay, admit, bit, easy, grader, comes, romantic, comedies, long, witty, likable, characters, insult, intelligence, suitable, happy, endings, guess, end, happily, rom, coms, saw, movie, years, ago, forgotten, fresh, like, movies, plot, relies, hu...   \n",
       "20  [scream, 3, lackluster, screenplay, unimaginative, kills, leave, film, bore, watch, meta, narrative, trilogies, film, abysmal, plot, film, creates, lore, past, movies, seemingly, blue, muddling, continuity, shock, value, added, little, film, felt...   \n",
       "\n",
       "                                                                                                                                                                                                                                                       lemmas  \\\n",
       "1                                                                         [guilty, pleasure, personally, love, great, escape, works, seen, years, rightfully, esteemed, british, animation, company, highly, recommended, children, adults, enjoy, animation]   \n",
       "6   [underwhelmed, straight, bored, course, seeing, hunt, climb, mountain, harness, impressive, sure, liked, idea, villain, piece, angle, woefully, underdeveloped, setting, predominantly, australia, grab, attention, saying, cause, pretty, biased, com...   \n",
       "7   [entertainign, mission, impossible, second, installment, turned, terrible, screenwriters, know, fill, 2, hrs, action, overuse, heroic, slow, motion, scenes, horrible, need, barf, bag, stand, slo, mo, seconds, 15, seconds, amazed, decide, push, m,...   \n",
       "15  [okay, admit, bit, easy, grader, comes, romantic, comedies, long, witty, likable, characters, insult, intelligence, suitable, happy, endings, guess, end, happily, rom, coms, saw, movie, years, ago, forgotten, fresh, like, movies, plot, relies, hu...   \n",
       "20  [scream, 3, lackluster, screenplay, unimaginative, kills, leave, film, bore, watch, meta, narrative, trilogies, film, abysmal, plot, film, creates, lore, past, movies, seemingly, blue, muddling, continuity, shock, value, added, little, film, felt...   \n",
       "\n",
       "                                                                                                                                                                                                                                                tokens-joined  \\\n",
       "1                                                                                              guilty pleasure personally love great escape works seen years rightfully esteemed british animation company highly recommended children adults enjoy animation   \n",
       "6   underwhelmed straight bored course seeing hunt climb mountain harness impressive sure liked idea villain piece angle woefully underdeveloped setting predominantly australia grab attention saying cause pretty biased comes hear tell mission impossi...   \n",
       "7   entertainign mission impossible second installment turned terrible screenwriters know fill 2 hrs action overuse heroic slow motion scenes horrible need barf bag stand slo mo seconds 15 seconds amazed decide push m movies turned better hard beat l...   \n",
       "15  okay admit bit easy grader comes romantic comedies long witty likable characters insult intelligence suitable happy endings guess end happily rom coms saw movie years ago forgotten fresh like movies plot relies huge coincidence story gets sappy s...   \n",
       "20  scream 3 lackluster screenplay unimaginative kills leave film bore watch meta narrative trilogies film abysmal plot film creates lore past movies seemingly blue muddling continuity shock value added little film felt forced entire plot point sidne...   \n",
       "\n",
       "                                                                                                                                                                                                                                                lemmas-joined  \n",
       "1                                                                                              guilty pleasure personally love great escape works seen years rightfully esteemed british animation company highly recommended children adults enjoy animation  \n",
       "6   underwhelmed straight bored course seeing hunt climb mountain harness impressive sure liked idea villain piece angle woefully underdeveloped setting predominantly australia grab attention saying cause pretty biased comes hear tell mission impossi...  \n",
       "7   entertainign mission impossible second installment turned terrible screenwriters know fill 2 hrs action overuse heroic slow motion scenes horrible need barf bag stand slo mo seconds 15 seconds amazed decide push m movies turned better hard beat l...  \n",
       "15  okay admit bit easy grader comes romantic comedies long witty likable characters insult intelligence suitable happy endings guess end happily rom coms saw movie years ago forgotten fresh like movies plot relies huge coincidence story gets sappy s...  \n",
       "20  scream 3 lackluster screenplay unimaginative kills leave film bore watch meta narrative trilogies film abysmal plot film creates lore past movies seemingly blue muddling continuity shock value added little film felt forced entire plot point sidne...  "
      ]
     },
     "execution_count": 2,
     "metadata": {},
     "output_type": "execute_result"
    }
   ],
   "source": [
    "import joblib\n",
    "df=joblib.load('Data-NLP/Movies-reviews-processed.joblib')\n",
    "df.info()\n",
    "df.head()"
   ]
  },
  {
   "cell_type": "markdown",
   "id": "c2734f76-2d58-4b93-83e8-68c29f761989",
   "metadata": {},
   "source": [
    "# Checking for if value are between 0-4 and 9-10"
   ]
  },
  {
   "cell_type": "code",
   "execution_count": 3,
   "id": "a18b83de-aeb8-459a-bbf7-3bd9a56f8e43",
   "metadata": {},
   "outputs": [
    {
     "data": {
      "text/plain": [
       "9.0     616\n",
       "10.0    564\n",
       "4.0     514\n",
       "1.0     284\n",
       "3.0     254\n",
       "2.0     153\n",
       "9.5      15\n",
       "0.5      10\n",
       "3.5       4\n",
       "1.5       3\n",
       "2.5       2\n",
       "Name: rating, dtype: int64"
      ]
     },
     "execution_count": 3,
     "metadata": {},
     "output_type": "execute_result"
    }
   ],
   "source": [
    "df['rating'].value_counts(dropna=False)"
   ]
  },
  {
   "cell_type": "markdown",
   "id": "3566969a-7992-40b8-a7a1-ed92037e6ac3",
   "metadata": {},
   "source": [
    "# TTS\n",
    "- using LabelEncoder to change string target to numerical values"
   ]
  },
  {
   "cell_type": "code",
   "execution_count": 4,
   "id": "65b1188a-90f2-4b2c-b9fc-db06db25af17",
   "metadata": {},
   "outputs": [],
   "source": [
    "X = df['review']\n",
    "y_string = df['group']\n",
    "\n",
    "encoder = LabelEncoder()\n",
    "y = pd.Series(encoder.fit_transform(y_string))\n",
    "X_train_full,X_test,y_train_full,y_test=train_test_split(X,y,random_state=42)"
   ]
  },
  {
   "cell_type": "code",
   "execution_count": 5,
   "id": "7cea688b-6646-4af4-8e8d-308d402af6f8",
   "metadata": {},
   "outputs": [
    {
     "data": {
      "text/plain": [
       "array([1, 0])"
      ]
     },
     "execution_count": 5,
     "metadata": {},
     "output_type": "execute_result"
    }
   ],
   "source": [
    "classes = y_train_full.unique()\n",
    "classes"
   ]
  },
  {
   "cell_type": "code",
   "execution_count": 49,
   "id": "b60c5481-7acd-4362-b3a7-74f0d99a24ed",
   "metadata": {},
   "outputs": [
    {
     "data": {
      "text/plain": [
       "array(['high_rating', 'low_rating'], dtype=object)"
      ]
     },
     "execution_count": 49,
     "metadata": {},
     "output_type": "execute_result"
    }
   ],
   "source": [
    "class_codes = encoder.classes_\n",
    "class_codes"
   ]
  },
  {
   "cell_type": "code",
   "execution_count": 50,
   "id": "c15d75ad-afe2-4a20-baac-e859496d41b6",
   "metadata": {},
   "outputs": [
    {
     "data": {
      "text/plain": [
       "{1: 'high_rating', 0: 'low_rating'}"
      ]
     },
     "execution_count": 50,
     "metadata": {},
     "output_type": "execute_result"
    }
   ],
   "source": [
    "target_lookup = dict(zip(classes, class_codes))\n",
    "target_lookup"
   ]
  },
  {
   "cell_type": "markdown",
   "id": "ecfab1f1-dc54-4ac8-8ab8-ce07d62ae773",
   "metadata": {},
   "source": [
    "\n",
    "# RandomUnderSampler to normalize data set"
   ]
  },
  {
   "cell_type": "code",
   "execution_count": 6,
   "id": "c53d8189-4d7e-41d9-8966-32ede43f7436",
   "metadata": {},
   "outputs": [
    {
     "data": {
      "text/plain": [
       "0    888\n",
       "1    888\n",
       "dtype: int64"
      ]
     },
     "execution_count": 6,
     "metadata": {},
     "output_type": "execute_result"
    }
   ],
   "source": [
    "sampler = RandomUnderSampler(random_state=42)\n",
    "X_train,y_train= sampler.fit_resample(X_train_full.values.reshape(-1,1),y_train_full)\n",
    "y_train.value_counts()"
   ]
  },
  {
   "cell_type": "code",
   "execution_count": 7,
   "id": "374d95da-752d-428d-9b81-8cae95310863",
   "metadata": {},
   "outputs": [
    {
     "data": {
      "text/plain": [
       "(1776, 1)"
      ]
     },
     "execution_count": 7,
     "metadata": {},
     "output_type": "execute_result"
    }
   ],
   "source": [
    "X_train.shape"
   ]
  },
  {
   "cell_type": "code",
   "execution_count": 8,
   "id": "53d05288-948e-4eb1-8f8e-41d36c3b21b4",
   "metadata": {},
   "outputs": [
    {
     "data": {
      "text/plain": [
       "(1776,)"
      ]
     },
     "execution_count": 8,
     "metadata": {},
     "output_type": "execute_result"
    }
   ],
   "source": [
    "X_train = X_train.flatten()\n",
    "X_train.shape"
   ]
  },
  {
   "cell_type": "markdown",
   "id": "e6e51f18-ddc4-49d1-8007-169976df769e",
   "metadata": {},
   "source": [
    "# Custom Functions"
   ]
  },
  {
   "cell_type": "code",
   "execution_count": 9,
   "id": "947ea8d9-ceb0-459b-98ad-b535bd9929c0",
   "metadata": {},
   "outputs": [],
   "source": [
    "# Adding folder above to python path \n",
    "import sys, os\n",
    "sys.path.append( os.path.abspath(\"../\"))"
   ]
  },
  {
   "cell_type": "code",
   "execution_count": 10,
   "id": "a5cf2c51-9754-4b28-b942-349ea9f344bb",
   "metadata": {},
   "outputs": [],
   "source": [
    "%load_ext autoreload \n",
    "%autoreload 2\n",
    "\n",
    "import Custom_functions as fn"
   ]
  },
  {
   "cell_type": "code",
   "execution_count": 11,
   "id": "547de3dc-11d3-4e29-872a-c64836edde3c",
   "metadata": {},
   "outputs": [
    {
     "data": {
      "text/plain": [
       "['__builtins__',\n",
       " '__cached__',\n",
       " '__doc__',\n",
       " '__file__',\n",
       " '__loader__',\n",
       " '__name__',\n",
       " '__package__',\n",
       " '__spec__',\n",
       " 'build_bow_model',\n",
       " 'classification_metrics',\n",
       " 'convert_y_to_sklearn_classes',\n",
       " 'create_directories_from_paths',\n",
       " 'evaluate_classification',\n",
       " 'evaluate_classification_network',\n",
       " 'get_true_pred_labels',\n",
       " 'make_custom_nlp',\n",
       " 'make_text_vectorization_layer',\n",
       " 'plot_history']"
      ]
     },
     "execution_count": 11,
     "metadata": {},
     "output_type": "execute_result"
    }
   ],
   "source": [
    "dir(fn)"
   ]
  },
  {
   "cell_type": "markdown",
   "id": "ab075bb5-34cd-4792-9ed6-71590ab5e279",
   "metadata": {},
   "source": [
    "# Sklearn Vectorizer\n",
    "- Using Count\n",
    "- Stopwords\n",
    "- ngrams\n",
    "- max = .6"
   ]
  },
  {
   "cell_type": "code",
   "execution_count": 12,
   "id": "e7cc9625-cc3a-435c-b970-7861a8a668c1",
   "metadata": {},
   "outputs": [
    {
     "data": {
      "text/html": [
       "<div>\n",
       "<style scoped>\n",
       "    .dataframe tbody tr th:only-of-type {\n",
       "        vertical-align: middle;\n",
       "    }\n",
       "\n",
       "    .dataframe tbody tr th {\n",
       "        vertical-align: top;\n",
       "    }\n",
       "\n",
       "    .dataframe thead th {\n",
       "        text-align: right;\n",
       "    }\n",
       "</style>\n",
       "<table border=\"1\" class=\"dataframe\">\n",
       "  <thead>\n",
       "    <tr style=\"text-align: right;\">\n",
       "      <th></th>\n",
       "      <th>00</th>\n",
       "      <th>00 marks</th>\n",
       "      <th>00 robert</th>\n",
       "      <th>00 status</th>\n",
       "      <th>00 today</th>\n",
       "      <th>000</th>\n",
       "      <th>000 000</th>\n",
       "      <th>000 _final</th>\n",
       "      <th>000 abrams</th>\n",
       "      <th>000 amazing</th>\n",
       "      <th>...</th>\n",
       "      <th>λm gяөөƭ</th>\n",
       "      <th>하하</th>\n",
       "      <th>𝐾𝑒𝑒𝑝𝑖𝑛</th>\n",
       "      <th>𝐾𝑒𝑒𝑝𝑖𝑛 𝑠𝑒𝑐𝑟𝑒𝑡𝑠</th>\n",
       "      <th>𝑎𝑟𝑒</th>\n",
       "      <th>𝑎𝑟𝑒 𝑦𝑒</th>\n",
       "      <th>𝑠𝑒𝑐𝑟𝑒𝑡𝑠</th>\n",
       "      <th>𝑠𝑒𝑐𝑟𝑒𝑡𝑠 𝑎𝑟𝑒</th>\n",
       "      <th>𝑦𝑒</th>\n",
       "      <th>𝑦𝑒 time</th>\n",
       "    </tr>\n",
       "  </thead>\n",
       "  <tbody>\n",
       "    <tr>\n",
       "      <th>0</th>\n",
       "      <td>0</td>\n",
       "      <td>0</td>\n",
       "      <td>0</td>\n",
       "      <td>0</td>\n",
       "      <td>0</td>\n",
       "      <td>0</td>\n",
       "      <td>0</td>\n",
       "      <td>0</td>\n",
       "      <td>0</td>\n",
       "      <td>0</td>\n",
       "      <td>...</td>\n",
       "      <td>0</td>\n",
       "      <td>0</td>\n",
       "      <td>0</td>\n",
       "      <td>0</td>\n",
       "      <td>0</td>\n",
       "      <td>0</td>\n",
       "      <td>0</td>\n",
       "      <td>0</td>\n",
       "      <td>0</td>\n",
       "      <td>0</td>\n",
       "    </tr>\n",
       "    <tr>\n",
       "      <th>1</th>\n",
       "      <td>0</td>\n",
       "      <td>0</td>\n",
       "      <td>0</td>\n",
       "      <td>0</td>\n",
       "      <td>0</td>\n",
       "      <td>0</td>\n",
       "      <td>0</td>\n",
       "      <td>0</td>\n",
       "      <td>0</td>\n",
       "      <td>0</td>\n",
       "      <td>...</td>\n",
       "      <td>0</td>\n",
       "      <td>0</td>\n",
       "      <td>0</td>\n",
       "      <td>0</td>\n",
       "      <td>0</td>\n",
       "      <td>0</td>\n",
       "      <td>0</td>\n",
       "      <td>0</td>\n",
       "      <td>0</td>\n",
       "      <td>0</td>\n",
       "    </tr>\n",
       "    <tr>\n",
       "      <th>2</th>\n",
       "      <td>0</td>\n",
       "      <td>0</td>\n",
       "      <td>0</td>\n",
       "      <td>0</td>\n",
       "      <td>0</td>\n",
       "      <td>0</td>\n",
       "      <td>0</td>\n",
       "      <td>0</td>\n",
       "      <td>0</td>\n",
       "      <td>0</td>\n",
       "      <td>...</td>\n",
       "      <td>0</td>\n",
       "      <td>0</td>\n",
       "      <td>0</td>\n",
       "      <td>0</td>\n",
       "      <td>0</td>\n",
       "      <td>0</td>\n",
       "      <td>0</td>\n",
       "      <td>0</td>\n",
       "      <td>0</td>\n",
       "      <td>0</td>\n",
       "    </tr>\n",
       "    <tr>\n",
       "      <th>3</th>\n",
       "      <td>0</td>\n",
       "      <td>0</td>\n",
       "      <td>0</td>\n",
       "      <td>0</td>\n",
       "      <td>0</td>\n",
       "      <td>0</td>\n",
       "      <td>0</td>\n",
       "      <td>0</td>\n",
       "      <td>0</td>\n",
       "      <td>0</td>\n",
       "      <td>...</td>\n",
       "      <td>0</td>\n",
       "      <td>0</td>\n",
       "      <td>0</td>\n",
       "      <td>0</td>\n",
       "      <td>0</td>\n",
       "      <td>0</td>\n",
       "      <td>0</td>\n",
       "      <td>0</td>\n",
       "      <td>0</td>\n",
       "      <td>0</td>\n",
       "    </tr>\n",
       "    <tr>\n",
       "      <th>4</th>\n",
       "      <td>0</td>\n",
       "      <td>0</td>\n",
       "      <td>0</td>\n",
       "      <td>0</td>\n",
       "      <td>0</td>\n",
       "      <td>0</td>\n",
       "      <td>0</td>\n",
       "      <td>0</td>\n",
       "      <td>0</td>\n",
       "      <td>0</td>\n",
       "      <td>...</td>\n",
       "      <td>0</td>\n",
       "      <td>0</td>\n",
       "      <td>0</td>\n",
       "      <td>0</td>\n",
       "      <td>0</td>\n",
       "      <td>0</td>\n",
       "      <td>0</td>\n",
       "      <td>0</td>\n",
       "      <td>0</td>\n",
       "      <td>0</td>\n",
       "    </tr>\n",
       "    <tr>\n",
       "      <th>...</th>\n",
       "      <td>...</td>\n",
       "      <td>...</td>\n",
       "      <td>...</td>\n",
       "      <td>...</td>\n",
       "      <td>...</td>\n",
       "      <td>...</td>\n",
       "      <td>...</td>\n",
       "      <td>...</td>\n",
       "      <td>...</td>\n",
       "      <td>...</td>\n",
       "      <td>...</td>\n",
       "      <td>...</td>\n",
       "      <td>...</td>\n",
       "      <td>...</td>\n",
       "      <td>...</td>\n",
       "      <td>...</td>\n",
       "      <td>...</td>\n",
       "      <td>...</td>\n",
       "      <td>...</td>\n",
       "      <td>...</td>\n",
       "      <td>...</td>\n",
       "    </tr>\n",
       "    <tr>\n",
       "      <th>2414</th>\n",
       "      <td>0</td>\n",
       "      <td>0</td>\n",
       "      <td>0</td>\n",
       "      <td>0</td>\n",
       "      <td>0</td>\n",
       "      <td>0</td>\n",
       "      <td>0</td>\n",
       "      <td>0</td>\n",
       "      <td>0</td>\n",
       "      <td>0</td>\n",
       "      <td>...</td>\n",
       "      <td>0</td>\n",
       "      <td>0</td>\n",
       "      <td>0</td>\n",
       "      <td>0</td>\n",
       "      <td>0</td>\n",
       "      <td>0</td>\n",
       "      <td>0</td>\n",
       "      <td>0</td>\n",
       "      <td>0</td>\n",
       "      <td>0</td>\n",
       "    </tr>\n",
       "    <tr>\n",
       "      <th>2415</th>\n",
       "      <td>0</td>\n",
       "      <td>0</td>\n",
       "      <td>0</td>\n",
       "      <td>0</td>\n",
       "      <td>0</td>\n",
       "      <td>0</td>\n",
       "      <td>0</td>\n",
       "      <td>0</td>\n",
       "      <td>0</td>\n",
       "      <td>0</td>\n",
       "      <td>...</td>\n",
       "      <td>0</td>\n",
       "      <td>0</td>\n",
       "      <td>0</td>\n",
       "      <td>0</td>\n",
       "      <td>0</td>\n",
       "      <td>0</td>\n",
       "      <td>0</td>\n",
       "      <td>0</td>\n",
       "      <td>0</td>\n",
       "      <td>0</td>\n",
       "    </tr>\n",
       "    <tr>\n",
       "      <th>2416</th>\n",
       "      <td>0</td>\n",
       "      <td>0</td>\n",
       "      <td>0</td>\n",
       "      <td>0</td>\n",
       "      <td>0</td>\n",
       "      <td>0</td>\n",
       "      <td>0</td>\n",
       "      <td>0</td>\n",
       "      <td>0</td>\n",
       "      <td>0</td>\n",
       "      <td>...</td>\n",
       "      <td>0</td>\n",
       "      <td>0</td>\n",
       "      <td>0</td>\n",
       "      <td>0</td>\n",
       "      <td>0</td>\n",
       "      <td>0</td>\n",
       "      <td>0</td>\n",
       "      <td>0</td>\n",
       "      <td>0</td>\n",
       "      <td>0</td>\n",
       "    </tr>\n",
       "    <tr>\n",
       "      <th>2417</th>\n",
       "      <td>0</td>\n",
       "      <td>0</td>\n",
       "      <td>0</td>\n",
       "      <td>0</td>\n",
       "      <td>0</td>\n",
       "      <td>0</td>\n",
       "      <td>0</td>\n",
       "      <td>0</td>\n",
       "      <td>0</td>\n",
       "      <td>0</td>\n",
       "      <td>...</td>\n",
       "      <td>0</td>\n",
       "      <td>0</td>\n",
       "      <td>0</td>\n",
       "      <td>0</td>\n",
       "      <td>0</td>\n",
       "      <td>0</td>\n",
       "      <td>0</td>\n",
       "      <td>0</td>\n",
       "      <td>0</td>\n",
       "      <td>0</td>\n",
       "    </tr>\n",
       "    <tr>\n",
       "      <th>2418</th>\n",
       "      <td>0</td>\n",
       "      <td>0</td>\n",
       "      <td>0</td>\n",
       "      <td>0</td>\n",
       "      <td>0</td>\n",
       "      <td>0</td>\n",
       "      <td>0</td>\n",
       "      <td>0</td>\n",
       "      <td>0</td>\n",
       "      <td>0</td>\n",
       "      <td>...</td>\n",
       "      <td>0</td>\n",
       "      <td>0</td>\n",
       "      <td>0</td>\n",
       "      <td>0</td>\n",
       "      <td>0</td>\n",
       "      <td>0</td>\n",
       "      <td>0</td>\n",
       "      <td>0</td>\n",
       "      <td>0</td>\n",
       "      <td>0</td>\n",
       "    </tr>\n",
       "  </tbody>\n",
       "</table>\n",
       "<p>2419 rows × 232588 columns</p>\n",
       "</div>"
      ],
      "text/plain": [
       "      00  00 marks  00 robert  00 status  00 today  000  000 000  000 _final  \\\n",
       "0      0         0          0          0         0    0        0           0   \n",
       "1      0         0          0          0         0    0        0           0   \n",
       "2      0         0          0          0         0    0        0           0   \n",
       "3      0         0          0          0         0    0        0           0   \n",
       "4      0         0          0          0         0    0        0           0   \n",
       "...   ..       ...        ...        ...       ...  ...      ...         ...   \n",
       "2414   0         0          0          0         0    0        0           0   \n",
       "2415   0         0          0          0         0    0        0           0   \n",
       "2416   0         0          0          0         0    0        0           0   \n",
       "2417   0         0          0          0         0    0        0           0   \n",
       "2418   0         0          0          0         0    0        0           0   \n",
       "\n",
       "      000 abrams  000 amazing  ...  λm gяөөƭ  하하  𝐾𝑒𝑒𝑝𝑖𝑛  𝐾𝑒𝑒𝑝𝑖𝑛 𝑠𝑒𝑐𝑟𝑒𝑡𝑠  𝑎𝑟𝑒  \\\n",
       "0              0            0  ...         0   0       0               0    0   \n",
       "1              0            0  ...         0   0       0               0    0   \n",
       "2              0            0  ...         0   0       0               0    0   \n",
       "3              0            0  ...         0   0       0               0    0   \n",
       "4              0            0  ...         0   0       0               0    0   \n",
       "...          ...          ...  ...       ...  ..     ...             ...  ...   \n",
       "2414           0            0  ...         0   0       0               0    0   \n",
       "2415           0            0  ...         0   0       0               0    0   \n",
       "2416           0            0  ...         0   0       0               0    0   \n",
       "2417           0            0  ...         0   0       0               0    0   \n",
       "2418           0            0  ...         0   0       0               0    0   \n",
       "\n",
       "      𝑎𝑟𝑒 𝑦𝑒  𝑠𝑒𝑐𝑟𝑒𝑡𝑠  𝑠𝑒𝑐𝑟𝑒𝑡𝑠 𝑎𝑟𝑒  𝑦𝑒  𝑦𝑒 time  \n",
       "0          0        0            0   0        0  \n",
       "1          0        0            0   0        0  \n",
       "2          0        0            0   0        0  \n",
       "3          0        0            0   0        0  \n",
       "4          0        0            0   0        0  \n",
       "...      ...      ...          ...  ..      ...  \n",
       "2414       0        0            0   0        0  \n",
       "2415       0        0            0   0        0  \n",
       "2416       0        0            0   0        0  \n",
       "2417       0        0            0   0        0  \n",
       "2418       0        0            0   0        0  \n",
       "\n",
       "[2419 rows x 232588 columns]"
      ]
     },
     "execution_count": 12,
     "metadata": {},
     "output_type": "execute_result"
    }
   ],
   "source": [
    "from sklearn.feature_extraction.text import CountVectorizer, TfidfVectorizer\n",
    "vectorizer = CountVectorizer(stop_words='english', ngram_range=(1,2))\n",
    "X_vect = vectorizer.fit_transform(X)\n",
    "X_max6 = pd.DataFrame(X_vect.toarray(), columns=vectorizer.get_feature_names_out())\n",
    "X_max6"
   ]
  },
  {
   "cell_type": "markdown",
   "id": "d77048a1-720b-4c6b-8d7a-8715f042c7be",
   "metadata": {},
   "source": [
    "# RandomForestClassifier"
   ]
  },
  {
   "cell_type": "code",
   "execution_count": 13,
   "id": "7bed7d40-d708-4155-ad0f-b0ac0c977a31",
   "metadata": {},
   "outputs": [
    {
     "name": "stdout",
     "output_type": "stream",
     "text": [
      "----------------------------------------------------------------------\n",
      " Classification Metrics: Training Data\n",
      "----------------------------------------------------------------------\n",
      "              precision    recall  f1-score   support\n",
      "\n",
      "           0       1.00      1.00      1.00       888\n",
      "           1       1.00      1.00      1.00       888\n",
      "\n",
      "    accuracy                           1.00      1776\n",
      "   macro avg       1.00      1.00      1.00      1776\n",
      "weighted avg       1.00      1.00      1.00      1776\n",
      "\n"
     ]
    },
    {
     "data": {
      "image/png": "[encoded data removed]",
      "text/plain": [
       "<Figure size 600x400 with 2 Axes>"
      ]
     },
     "metadata": {},
     "output_type": "display_data"
    },
    {
     "name": "stdout",
     "output_type": "stream",
     "text": [
      "\n",
      "----------------------------------------------------------------------\n",
      " Classification Metrics: Test Data\n",
      "----------------------------------------------------------------------\n",
      "              precision    recall  f1-score   support\n",
      "\n",
      "           0       0.78      0.93      0.85       307\n",
      "           1       0.91      0.72      0.81       298\n",
      "\n",
      "    accuracy                           0.83       605\n",
      "   macro avg       0.84      0.83      0.83       605\n",
      "weighted avg       0.84      0.83      0.83       605\n",
      "\n"
     ]
    },
    {
     "data": {
      "image/png": "[encoded data removed]",
      "text/plain": [
       "<Figure size 600x400 with 2 Axes>"
      ]
     },
     "metadata": {},
     "output_type": "display_data"
    }
   ],
   "source": [
    "from sklearn.ensemble import RandomForestClassifier\n",
    "rf_pipe = Pipeline([('vectorizer', vectorizer), ('randomforest', RandomForestClassifier())])\n",
    "\n",
    "rf_pipe.fit(X_train,y_train)\n",
    "fn.evaluate_classification(rf_pipe,X_train,y_train,X_test,y_test)"
   ]
  },
  {
   "cell_type": "code",
   "execution_count": 14,
   "id": "04bceeab-a8c7-4103-8cc2-c728305375a4",
   "metadata": {},
   "outputs": [],
   "source": [
    "rf=RandomForestClassifier()\n",
    "vect_pipe = Pipeline([('vectorizer', CountVectorizer()),('random',RandomForestClassifier(random_state=42))])\n",
    "\n",
    "param_grid = {\"Vectorizer\": [CountVectorizer(), TfidfVectorizer()]}\n",
    "\n",
    "param_grid_shared = {\n",
    "            'vectorizer__stop_words':[None,'english'],\n",
    "            'vectorizer__max_df':[.5,.6],\n",
    "            'vectorizer__ngram_range':[(1,2)]\n",
    "}\n",
    "\n",
    "param_count = {\n",
    "            'vectorizer':[CountVectorizer()],\n",
    "            **param_grid_shared\n",
    "}\n",
    "\n",
    "param_tfidf = {\n",
    "            'vectorizer':[TfidfVectorizer()],\n",
    "            'vectorizer__norm':['l1','l2'],\n",
    "            'vectorizer__use_idf':[True,False],\n",
    "            **param_grid_shared\n",
    "}\n",
    "\n",
    "params_combined = [param_count,param_tfidf]"
   ]
  },
  {
   "cell_type": "code",
   "execution_count": 15,
   "id": "59098a11-bb18-4b8e-b32b-51b579c56e37",
   "metadata": {},
   "outputs": [
    {
     "name": "stdout",
     "output_type": "stream",
     "text": [
      "[{'vectorizer': [CountVectorizer()], 'vectorizer__stop_words': [None, 'english'], 'vectorizer__max_df': [0.5, 0.6], 'vectorizer__ngram_range': [(1, 2)]}, {'vectorizer': [TfidfVectorizer()], 'vectorizer__norm': ['l1', 'l2'], 'vectorizer__use_idf': [True, False], 'vectorizer__stop_words': [None, 'english'], 'vectorizer__max_df': [0.5, 0.6], 'vectorizer__ngram_range': [(1, 2)]}]\n"
     ]
    }
   ],
   "source": [
    "print(params_combined)"
   ]
  },
  {
   "cell_type": "code",
   "execution_count": 16,
   "id": "4ed755c5-d395-42eb-8211-c27f3cb35453",
   "metadata": {},
   "outputs": [
    {
     "name": "stdout",
     "output_type": "stream",
     "text": [
      "Fitting 3 folds for each of 20 candidates, totalling 60 fits\n",
      "CPU times: user 2.56 s, sys: 319 ms, total: 2.88 s\n",
      "Wall time: 29.5 s\n"
     ]
    },
    {
     "data": {
      "text/html": [
       "<style>#sk-container-id-1 {color: black;background-color: white;}#sk-container-id-1 pre{padding: 0;}#sk-container-id-1 div.sk-toggleable {background-color: white;}#sk-container-id-1 label.sk-toggleable__label {cursor: pointer;display: block;width: 100%;margin-bottom: 0;padding: 0.3em;box-sizing: border-box;text-align: center;}#sk-container-id-1 label.sk-toggleable__label-arrow:before {content: \"▸\";float: left;margin-right: 0.25em;color: #696969;}#sk-container-id-1 label.sk-toggleable__label-arrow:hover:before {color: black;}#sk-container-id-1 div.sk-estimator:hover label.sk-toggleable__label-arrow:before {color: black;}#sk-container-id-1 div.sk-toggleable__content {max-height: 0;max-width: 0;overflow: hidden;text-align: left;background-color: #f0f8ff;}#sk-container-id-1 div.sk-toggleable__content pre {margin: 0.2em;color: black;border-radius: 0.25em;background-color: #f0f8ff;}#sk-container-id-1 input.sk-toggleable__control:checked~div.sk-toggleable__content {max-height: 200px;max-width: 100%;overflow: auto;}#sk-container-id-1 input.sk-toggleable__control:checked~label.sk-toggleable__label-arrow:before {content: \"▾\";}#sk-container-id-1 div.sk-estimator input.sk-toggleable__control:checked~label.sk-toggleable__label {background-color: #d4ebff;}#sk-container-id-1 div.sk-label input.sk-toggleable__control:checked~label.sk-toggleable__label {background-color: #d4ebff;}#sk-container-id-1 input.sk-hidden--visually {border: 0;clip: rect(1px 1px 1px 1px);clip: rect(1px, 1px, 1px, 1px);height: 1px;margin: -1px;overflow: hidden;padding: 0;position: absolute;width: 1px;}#sk-container-id-1 div.sk-estimator {font-family: monospace;background-color: #f0f8ff;border: 1px dotted black;border-radius: 0.25em;box-sizing: border-box;margin-bottom: 0.5em;}#sk-container-id-1 div.sk-estimator:hover {background-color: #d4ebff;}#sk-container-id-1 div.sk-parallel-item::after {content: \"\";width: 100%;border-bottom: 1px solid gray;flex-grow: 1;}#sk-container-id-1 div.sk-label:hover label.sk-toggleable__label {background-color: #d4ebff;}#sk-container-id-1 div.sk-serial::before {content: \"\";position: absolute;border-left: 1px solid gray;box-sizing: border-box;top: 0;bottom: 0;left: 50%;z-index: 0;}#sk-container-id-1 div.sk-serial {display: flex;flex-direction: column;align-items: center;background-color: white;padding-right: 0.2em;padding-left: 0.2em;position: relative;}#sk-container-id-1 div.sk-item {position: relative;z-index: 1;}#sk-container-id-1 div.sk-parallel {display: flex;align-items: stretch;justify-content: center;background-color: white;position: relative;}#sk-container-id-1 div.sk-item::before, #sk-container-id-1 div.sk-parallel-item::before {content: \"\";position: absolute;border-left: 1px solid gray;box-sizing: border-box;top: 0;bottom: 0;left: 50%;z-index: -1;}#sk-container-id-1 div.sk-parallel-item {display: flex;flex-direction: column;z-index: 1;position: relative;background-color: white;}#sk-container-id-1 div.sk-parallel-item:first-child::after {align-self: flex-end;width: 50%;}#sk-container-id-1 div.sk-parallel-item:last-child::after {align-self: flex-start;width: 50%;}#sk-container-id-1 div.sk-parallel-item:only-child::after {width: 0;}#sk-container-id-1 div.sk-dashed-wrapped {border: 1px dashed gray;margin: 0 0.4em 0.5em 0.4em;box-sizing: border-box;padding-bottom: 0.4em;background-color: white;}#sk-container-id-1 div.sk-label label {font-family: monospace;font-weight: bold;display: inline-block;line-height: 1.2em;}#sk-container-id-1 div.sk-label-container {text-align: center;}#sk-container-id-1 div.sk-container {/* jupyter's `normalize.less` sets `[hidden] { display: none; }` but bootstrap.min.css set `[hidden] { display: none !important; }` so we also need the `!important` here to be able to override the default hidden behavior on the sphinx rendered scikit-learn.org. See: https://github.com/scikit-learn/scikit-learn/issues/21755 */display: inline-block !important;position: relative;}#sk-container-id-1 div.sk-text-repr-fallback {display: none;}</style><div id=\"sk-container-id-1\" class=\"sk-top-container\"><div class=\"sk-text-repr-fallback\"><pre>GridSearchCV(cv=3,\n",
       "             estimator=Pipeline(steps=[(&#x27;vectorizer&#x27;, CountVectorizer()),\n",
       "                                       (&#x27;random&#x27;,\n",
       "                                        RandomForestClassifier(random_state=42))]),\n",
       "             n_jobs=-1,\n",
       "             param_grid=[{&#x27;vectorizer&#x27;: [CountVectorizer()],\n",
       "                          &#x27;vectorizer__max_df&#x27;: [0.5, 0.6],\n",
       "                          &#x27;vectorizer__ngram_range&#x27;: [(1, 2)],\n",
       "                          &#x27;vectorizer__stop_words&#x27;: [None, &#x27;english&#x27;]},\n",
       "                         {&#x27;vectorizer&#x27;: [TfidfVectorizer(max_df=0.6,\n",
       "                                                         ngram_range=(1, 2),\n",
       "                                                         stop_words=&#x27;english&#x27;,\n",
       "                                                         use_idf=False)],\n",
       "                          &#x27;vectorizer__max_df&#x27;: [0.5, 0.6],\n",
       "                          &#x27;vectorizer__ngram_range&#x27;: [(1, 2)],\n",
       "                          &#x27;vectorizer__norm&#x27;: [&#x27;l1&#x27;, &#x27;l2&#x27;],\n",
       "                          &#x27;vectorizer__stop_words&#x27;: [None, &#x27;english&#x27;],\n",
       "                          &#x27;vectorizer__use_idf&#x27;: [True, False]}],\n",
       "             scoring=&#x27;accuracy&#x27;, verbose=1)</pre><b>In a Jupyter environment, please rerun this cell to show the HTML representation or trust the notebook. <br />On GitHub, the HTML representation is unable to render, please try loading this page with nbviewer.org.</b></div><div class=\"sk-container\" hidden><div class=\"sk-item sk-dashed-wrapped\"><div class=\"sk-label-container\"><div class=\"sk-label sk-toggleable\"><input class=\"sk-toggleable__control sk-hidden--visually\" id=\"sk-estimator-id-1\" type=\"checkbox\" ><label for=\"sk-estimator-id-1\" class=\"sk-toggleable__label sk-toggleable__label-arrow\">GridSearchCV</label><div class=\"sk-toggleable__content\"><pre>GridSearchCV(cv=3,\n",
       "             estimator=Pipeline(steps=[(&#x27;vectorizer&#x27;, CountVectorizer()),\n",
       "                                       (&#x27;random&#x27;,\n",
       "                                        RandomForestClassifier(random_state=42))]),\n",
       "             n_jobs=-1,\n",
       "             param_grid=[{&#x27;vectorizer&#x27;: [CountVectorizer()],\n",
       "                          &#x27;vectorizer__max_df&#x27;: [0.5, 0.6],\n",
       "                          &#x27;vectorizer__ngram_range&#x27;: [(1, 2)],\n",
       "                          &#x27;vectorizer__stop_words&#x27;: [None, &#x27;english&#x27;]},\n",
       "                         {&#x27;vectorizer&#x27;: [TfidfVectorizer(max_df=0.6,\n",
       "                                                         ngram_range=(1, 2),\n",
       "                                                         stop_words=&#x27;english&#x27;,\n",
       "                                                         use_idf=False)],\n",
       "                          &#x27;vectorizer__max_df&#x27;: [0.5, 0.6],\n",
       "                          &#x27;vectorizer__ngram_range&#x27;: [(1, 2)],\n",
       "                          &#x27;vectorizer__norm&#x27;: [&#x27;l1&#x27;, &#x27;l2&#x27;],\n",
       "                          &#x27;vectorizer__stop_words&#x27;: [None, &#x27;english&#x27;],\n",
       "                          &#x27;vectorizer__use_idf&#x27;: [True, False]}],\n",
       "             scoring=&#x27;accuracy&#x27;, verbose=1)</pre></div></div></div><div class=\"sk-parallel\"><div class=\"sk-parallel-item\"><div class=\"sk-item\"><div class=\"sk-label-container\"><div class=\"sk-label sk-toggleable\"><input class=\"sk-toggleable__control sk-hidden--visually\" id=\"sk-estimator-id-2\" type=\"checkbox\" ><label for=\"sk-estimator-id-2\" class=\"sk-toggleable__label sk-toggleable__label-arrow\">estimator: Pipeline</label><div class=\"sk-toggleable__content\"><pre>Pipeline(steps=[(&#x27;vectorizer&#x27;, CountVectorizer()),\n",
       "                (&#x27;random&#x27;, RandomForestClassifier(random_state=42))])</pre></div></div></div><div class=\"sk-serial\"><div class=\"sk-item\"><div class=\"sk-serial\"><div class=\"sk-item\"><div class=\"sk-estimator sk-toggleable\"><input class=\"sk-toggleable__control sk-hidden--visually\" id=\"sk-estimator-id-3\" type=\"checkbox\" ><label for=\"sk-estimator-id-3\" class=\"sk-toggleable__label sk-toggleable__label-arrow\">CountVectorizer</label><div class=\"sk-toggleable__content\"><pre>CountVectorizer()</pre></div></div></div><div class=\"sk-item\"><div class=\"sk-estimator sk-toggleable\"><input class=\"sk-toggleable__control sk-hidden--visually\" id=\"sk-estimator-id-4\" type=\"checkbox\" ><label for=\"sk-estimator-id-4\" class=\"sk-toggleable__label sk-toggleable__label-arrow\">RandomForestClassifier</label><div class=\"sk-toggleable__content\"><pre>RandomForestClassifier(random_state=42)</pre></div></div></div></div></div></div></div></div></div></div></div></div>"
      ],
      "text/plain": [
       "GridSearchCV(cv=3,\n",
       "             estimator=Pipeline(steps=[('vectorizer', CountVectorizer()),\n",
       "                                       ('random',\n",
       "                                        RandomForestClassifier(random_state=42))]),\n",
       "             n_jobs=-1,\n",
       "             param_grid=[{'vectorizer': [CountVectorizer()],\n",
       "                          'vectorizer__max_df': [0.5, 0.6],\n",
       "                          'vectorizer__ngram_range': [(1, 2)],\n",
       "                          'vectorizer__stop_words': [None, 'english']},\n",
       "                         {'vectorizer': [TfidfVectorizer(max_df=0.6,\n",
       "                                                         ngram_range=(1, 2),\n",
       "                                                         stop_words='english',\n",
       "                                                         use_idf=False)],\n",
       "                          'vectorizer__max_df': [0.5, 0.6],\n",
       "                          'vectorizer__ngram_range': [(1, 2)],\n",
       "                          'vectorizer__norm': ['l1', 'l2'],\n",
       "                          'vectorizer__stop_words': [None, 'english'],\n",
       "                          'vectorizer__use_idf': [True, False]}],\n",
       "             scoring='accuracy', verbose=1)"
      ]
     },
     "execution_count": 16,
     "metadata": {},
     "output_type": "execute_result"
    }
   ],
   "source": [
    "%%time\n",
    "\n",
    "grid_search = GridSearchCV(vect_pipe, params_combined,cv=3,verbose=1,n_jobs=-1,\n",
    "                          scoring = 'accuracy')\n",
    "\n",
    "grid_search.fit(X_train,y_train)"
   ]
  },
  {
   "cell_type": "code",
   "execution_count": 17,
   "id": "2d66e760-2801-42e0-8d1e-81d67a487878",
   "metadata": {},
   "outputs": [
    {
     "data": {
      "text/plain": [
       "{'vectorizer': TfidfVectorizer(max_df=0.6, ngram_range=(1, 2), stop_words='english',\n",
       "                 use_idf=False),\n",
       " 'vectorizer__max_df': 0.6,\n",
       " 'vectorizer__ngram_range': (1, 2),\n",
       " 'vectorizer__norm': 'l2',\n",
       " 'vectorizer__stop_words': 'english',\n",
       " 'vectorizer__use_idf': False}"
      ]
     },
     "execution_count": 17,
     "metadata": {},
     "output_type": "execute_result"
    }
   ],
   "source": [
    "grid_search.best_params_"
   ]
  },
  {
   "cell_type": "code",
   "execution_count": 18,
   "id": "117f2069-d3f9-4d49-8066-b3ea986e5e52",
   "metadata": {},
   "outputs": [
    {
     "name": "stdout",
     "output_type": "stream",
     "text": [
      "----------------------------------------------------------------------\n",
      " Classification Metrics: Training Data\n",
      "----------------------------------------------------------------------\n",
      "              precision    recall  f1-score   support\n",
      "\n",
      "           0       1.00      1.00      1.00       888\n",
      "           1       1.00      1.00      1.00       888\n",
      "\n",
      "    accuracy                           1.00      1776\n",
      "   macro avg       1.00      1.00      1.00      1776\n",
      "weighted avg       1.00      1.00      1.00      1776\n",
      "\n"
     ]
    },
    {
     "data": {
      "image/png": "[encoded data removed]",
      "text/plain": [
       "<Figure size 600x400 with 2 Axes>"
      ]
     },
     "metadata": {},
     "output_type": "display_data"
    },
    {
     "name": "stdout",
     "output_type": "stream",
     "text": [
      "\n",
      "----------------------------------------------------------------------\n",
      " Classification Metrics: Test Data\n",
      "----------------------------------------------------------------------\n",
      "              precision    recall  f1-score   support\n",
      "\n",
      "           0       0.79      0.90      0.84       307\n",
      "           1       0.88      0.76      0.81       298\n",
      "\n",
      "    accuracy                           0.83       605\n",
      "   macro avg       0.84      0.83      0.83       605\n",
      "weighted avg       0.84      0.83      0.83       605\n",
      "\n"
     ]
    },
    {
     "data": {
      "image/png": "[encoded data removed]",
      "text/plain": [
       "<Figure size 600x400 with 2 Axes>"
      ]
     },
     "metadata": {},
     "output_type": "display_data"
    }
   ],
   "source": [
    "best_rf_model = grid_search.best_estimator_\n",
    "\n",
    "fn.evaluate_classification(best_rf_model,X_train,y_train,X_test,y_test)"
   ]
  },
  {
   "cell_type": "markdown",
   "id": "f4225bc0-4f38-443f-85c7-4e540ec9d0be",
   "metadata": {},
   "source": [
    "# Convert to Dataset object\n",
    "- Convert X and y inot a dataset object and apply a shuffling to enusre they are randomly ordered"
   ]
  },
  {
   "cell_type": "code",
   "execution_count": 19,
   "id": "835393d5-de6f-4cf9-b2fb-0923e8aaa5d3",
   "metadata": {},
   "outputs": [
    {
     "name": "stdout",
     "output_type": "stream",
     "text": [
      "Metal device set to: Apple M1\n"
     ]
    }
   ],
   "source": [
    "# Convert to Dataset Object\n",
    "ds = tf.data.Dataset.from_tensor_slices((X,y))\n",
    "\n",
    "# Shuffle dateset\n",
    "df = ds.shuffle(buffer_size = len(ds),reshuffle_each_iteration=False)"
   ]
  },
  {
   "cell_type": "markdown",
   "id": "8d3738fb-60b3-49d6-b5a4-44cb05035e4f",
   "metadata": {},
   "source": [
    "# Train, Validation and Test Split"
   ]
  },
  {
   "cell_type": "code",
   "execution_count": 20,
   "id": "58f8424d-41a3-4d2f-89d6-c9b2ad9bb7b4",
   "metadata": {},
   "outputs": [
    {
     "name": "stdout",
     "output_type": "stream",
     "text": [
      "  - train:\t1693 samples \t(53 batches)\n",
      "  - val:  \t483 samples \t(16 batches)\n",
      "  - test: \t243 samples \t(8 batches)\n"
     ]
    }
   ],
   "source": [
    "# Set the ratio of the train, validation, test split\n",
    "split_train = .7\n",
    "split_val = .2\n",
    "split_test = 1-(split_train + split_val)\n",
    "\n",
    "# Calculate the number of samples for training and validation data\n",
    "n_train_samples = int(len(ds) * split_train)\n",
    "n_val_samples = int(len(ds) * split_val)\n",
    "n_test_samples = len(ds) - (n_train_samples + n_val_samples)\n",
    "\n",
    "# Set the batch size\n",
    "BATCH_SIZE = 32\n",
    "import math\n",
    "\n",
    "# math.ceil will round up \n",
    "# How many Batches?\n",
    "n_train_batches = math.ceil(n_train_samples/BATCH_SIZE)\n",
    "n_val_batches = math.ceil(n_val_samples/BATCH_SIZE)\n",
    "n_test_batches = math.ceil(n_test_samples/BATCH_SIZE)\n",
    "print(f'  - train:\\t{n_train_samples} samples \\t({n_train_batches} batches)')\n",
    "print(f'  - val:  \\t{n_val_samples} samples \\t({n_val_batches} batches)')\n",
    "print(f\"  - test: \\t{n_test_samples} samples \\t({n_test_batches} batches)\")"
   ]
  },
  {
   "cell_type": "markdown",
   "id": "187acbda-1965-418b-80dc-a8063fdd271b",
   "metadata": {},
   "source": [
    "# Take and Skip"
   ]
  },
  {
   "cell_type": "code",
   "execution_count": 21,
   "id": "5c9bde7b-04bb-45d0-979c-ca561544edad",
   "metadata": {},
   "outputs": [],
   "source": [
    "# Use take and skip to define each set\n",
    "train_ds = ds.take(n_train_samples).batch(batch_size=BATCH_SIZE)\n",
    "# Skip over the training batches and take the validation batches\n",
    "val_ds = ds.skip(n_train_samples).take(n_val_samples).batch(batch_size=BATCH_SIZE)\n",
    "# Skip over the train and validation batches, the remaining are the test batches\n",
    "test_ds = ds.skip(n_train_samples + n_val_samples).batch(batch_size=BATCH_SIZE)"
   ]
  },
  {
   "cell_type": "code",
   "execution_count": 22,
   "id": "3d3cb029-9156-446c-85d0-d3463fff8c78",
   "metadata": {},
   "outputs": [
    {
     "name": "stdout",
     "output_type": "stream",
     "text": [
      " There are 53 training batches.\n",
      " There are 16 validation batches.\n",
      " There are 8 test batches.\n"
     ]
    }
   ],
   "source": [
    "# Confirm the number of batches in each\n",
    "print(f' There are {len(train_ds)} training batches.')\n",
    "print(f\" There are {len(val_ds)} validation batches.\")\n",
    "print(f\" There are {len(test_ds)} test batches.\")"
   ]
  },
  {
   "cell_type": "markdown",
   "id": "562f3a33-2c78-4431-932d-d0a09260c34d",
   "metadata": {},
   "source": [
    "# Sequences"
   ]
  },
  {
   "cell_type": "code",
   "execution_count": 24,
   "id": "d685b894-42a6-4eec-a65d-0b8642dc4329",
   "metadata": {},
   "outputs": [
    {
     "name": "stdout",
     "output_type": "stream",
     "text": [
      "WARNING:tensorflow:AutoGraph could not transform <function make_text_vectorization_layer.<locals>.<lambda> at 0x164c2cd30> and will run it as-is.\n",
      "Cause: could not parse the source code of <function make_text_vectorization_layer.<locals>.<lambda> at 0x164c2cd30>: no matching AST found among candidates:\n",
      "# coding=utf-8\n",
      "lambda x, y: x\n",
      "To silence this warning, decorate the function with @tf.autograph.experimental.do_not_convert\n",
      "WARNING: AutoGraph could not transform <function make_text_vectorization_layer.<locals>.<lambda> at 0x164c2cd30> and will run it as-is.\n",
      "Cause: could not parse the source code of <function make_text_vectorization_layer.<locals>.<lambda> at 0x164c2cd30>: no matching AST found among candidates:\n",
      "# coding=utf-8\n",
      "lambda x, y: x\n",
      "To silence this warning, decorate the function with @tf.autograph.experimental.do_not_convert\n",
      "\n",
      "tf.keras.layers.TextVectorization(\n",
      "{   'batch_input_shape': (None,),\n",
      "    'dtype': 'string',\n",
      "    'encoding': 'utf-8',\n",
      "    'idf_weights': None,\n",
      "    'max_tokens': None,\n",
      "    'name': 'text_vectorization_1',\n",
      "    'ngrams': None,\n",
      "    'output_mode': 'int',\n",
      "    'output_sequence_length': 300,\n",
      "    'pad_to_max_tokens': False,\n",
      "    'ragged': False,\n",
      "    'sparse': False,\n",
      "    'split': 'whitespace',\n",
      "    'standardize': 'lower_and_strip_punctuation',\n",
      "    'trainable': True,\n",
      "    'vocabulary': None,\n",
      "    'vocabulary_size': 24749}\n",
      ")\n"
     ]
    },
    {
     "name": "stderr",
     "output_type": "stream",
     "text": [
      "2024-01-22 19:34:41.730819: W tensorflow/tsl/platform/profile_utils/cpu_utils.cc:128] Failed to get CPU frequency: 0 Hz\n"
     ]
    }
   ],
   "source": [
    "# Define sequence length and output dimension(EMBED_DIF) as a variable for the future use\n",
    "SEQUENCE_LENGTH = 300\n",
    "EMBED_DIM = 100\n",
    "# Define vectorizer layer.  Use the custom function to build and fit the vectorizer befor using it in model\n",
    "sequence_vectorizer, vocat_lookup = fn.make_text_vectorization_layer(train_ds,output_mode='int',\n",
    "                                                                   output_sequence_length = SEQUENCE_LENGTH,\n",
    "                                                                   verbose = True)"
   ]
  },
  {
   "cell_type": "code",
   "execution_count": 25,
   "id": "cdf4aa60-13aa-4af2-8c2d-9f1c0a305315",
   "metadata": {},
   "outputs": [
    {
     "data": {
      "text/plain": [
       "24749"
      ]
     },
     "execution_count": 25,
     "metadata": {},
     "output_type": "execute_result"
    }
   ],
   "source": [
    "VOCAB_SIZE = sequence_vectorizer.vocabulary_size()\n",
    "VOCAB_SIZE"
   ]
  },
  {
   "cell_type": "code",
   "execution_count": 26,
   "id": "4aef781d-bc1c-4eb9-a6d5-822804d48cc1",
   "metadata": {},
   "outputs": [],
   "source": [
    "def build_gru_model(text_vectorization_layer):\n",
    "\n",
    "    gru_model = Sequential([text_vectorization_layer, tf.keras.layers.Embedding(input_dim=VOCAB_SIZE,\n",
    "                                                                               output_dim=EMBED_DIM,\n",
    "                                                                               input_length=SEQUENCE_LENGTH)])\n",
    "    # Add GRU layer 'new'\n",
    "    gru_model.add(layers.GRU(128, return_sequences = True))\n",
    "    gru_model.add(layers.Dropout(.5))\n",
    "    gru_model.add(layers.GRU(64, return_sequences=True))\n",
    "    gru_model.add(layers.GlobalMaxPooling1D())\n",
    "    # Output layer\n",
    "    gru_model.add(layers.Dense(len(classes), activation = 'sigmoid'))\n",
    "\n",
    "    # Define optimizer\n",
    "    optimizer = optimizers.legacy.Adam()\n",
    "\n",
    "    # Compile \n",
    "    gru_model.compile(optimizer = optimizer, loss = 'sparse_categorical_crossentropy',\n",
    "                     metrics = ['accuracy'])\n",
    "    gru_model.summary()\n",
    "    return gru_model"
   ]
  },
  {
   "cell_type": "code",
   "execution_count": 27,
   "id": "1949ed0a-ce79-45a6-b789-b352f56847e2",
   "metadata": {},
   "outputs": [],
   "source": [
    "def get_callbacks(patience=3, monitor='val_accuracy'):\n",
    "    early_stop = tf.keras.callbacks.EarlyStopping(patience=patience, monitor=monitor)\n",
    "    return [early_stop]"
   ]
  },
  {
   "cell_type": "code",
   "execution_count": 32,
   "id": "9ed0cf43-102e-44a5-af83-ef705874daaf",
   "metadata": {},
   "outputs": [
    {
     "name": "stdout",
     "output_type": "stream",
     "text": [
      "Model: \"sequential_3\"\n",
      "_________________________________________________________________\n",
      " Layer (type)                Output Shape              Param #   \n",
      "=================================================================\n",
      " text_vectorization_1 (TextV  (None, 300)              0         \n",
      " ectorization)                                                   \n",
      "                                                                 \n",
      " embedding_3 (Embedding)     (None, 300, 100)          2474900   \n",
      "                                                                 \n",
      " gru_6 (GRU)                 (None, 300, 128)          88320     \n",
      "                                                                 \n",
      " dropout_3 (Dropout)         (None, 300, 128)          0         \n",
      "                                                                 \n",
      " gru_7 (GRU)                 (None, 300, 64)           37248     \n",
      "                                                                 \n",
      " global_max_pooling1d_3 (Glo  (None, 64)               0         \n",
      " balMaxPooling1D)                                                \n",
      "                                                                 \n",
      " dense_3 (Dense)             (None, 2)                 130       \n",
      "                                                                 \n",
      "=================================================================\n",
      "Total params: 2,600,598\n",
      "Trainable params: 2,600,598\n",
      "Non-trainable params: 0\n",
      "_________________________________________________________________\n",
      "Epoch 1/30\n",
      "53/53 [==============================] - 6s 88ms/step - loss: 0.6851 - accuracy: 0.5529 - val_loss: 0.6844 - val_accuracy: 0.5155\n",
      "Epoch 2/30\n",
      "53/53 [==============================] - 4s 70ms/step - loss: 0.5111 - accuracy: 0.7283 - val_loss: 0.4939 - val_accuracy: 0.7660\n",
      "Epoch 3/30\n",
      "53/53 [==============================] - 4s 69ms/step - loss: 0.1717 - accuracy: 0.9403 - val_loss: 0.5628 - val_accuracy: 0.7992\n",
      "Epoch 4/30\n",
      "53/53 [==============================] - 4s 70ms/step - loss: 0.0971 - accuracy: 0.9699 - val_loss: 0.5699 - val_accuracy: 0.7516\n",
      "Epoch 5/30\n",
      "53/53 [==============================] - 4s 69ms/step - loss: 0.0539 - accuracy: 0.9823 - val_loss: 0.4853 - val_accuracy: 0.7826\n",
      "Epoch 6/30\n",
      "53/53 [==============================] - 4s 69ms/step - loss: 0.0196 - accuracy: 0.9970 - val_loss: 0.6365 - val_accuracy: 0.7785\n"
     ]
    },
    {
     "data": {
      "image/png": "[encoded data removed]",
      "text/plain": [
       "<Figure size 600x600 with 2 Axes>"
      ]
     },
     "metadata": {},
     "output_type": "display_data"
    },
    {
     "name": "stdout",
     "output_type": "stream",
     "text": [
      "\n",
      "================================================================================\n",
      "- Evaluating Network...\n",
      "================================================================================\n",
      "----------------------------------------------------------------------\n",
      " Classification Metrics: Training Data\n",
      "----------------------------------------------------------------------\n",
      "              precision    recall  f1-score   support\n",
      "\n",
      "           0       1.00      1.00      1.00       853\n",
      "           1       1.00      1.00      1.00       840\n",
      "\n",
      "    accuracy                           1.00      1693\n",
      "   macro avg       1.00      1.00      1.00      1693\n",
      "weighted avg       1.00      1.00      1.00      1693\n",
      "\n"
     ]
    },
    {
     "data": {
      "image/png": "[encoded data removed]",
      "text/plain": [
       "<Figure size 600x400 with 2 Axes>"
      ]
     },
     "metadata": {},
     "output_type": "display_data"
    },
    {
     "name": "stdout",
     "output_type": "stream",
     "text": [
      "\n",
      "- Evaluating Training Data:\n",
      "53/53 [==============================] - 1s 19ms/step - loss: 0.0209 - accuracy: 0.9988\n",
      "{'loss': 0.020891224965453148, 'accuracy': 0.9988186359405518}\n",
      "----------------------------------------------------------------------\n",
      " Classification Metrics: Test Data\n",
      "----------------------------------------------------------------------\n",
      "              precision    recall  f1-score   support\n",
      "\n",
      "           0       0.82      0.62      0.71       107\n",
      "           1       0.75      0.90      0.82       136\n",
      "\n",
      "    accuracy                           0.77       243\n",
      "   macro avg       0.79      0.76      0.76       243\n",
      "weighted avg       0.78      0.77      0.77       243\n",
      "\n"
     ]
    },
    {
     "data": {
      "image/png": "[encoded data removed]",
      "text/plain": [
       "<Figure size 600x400 with 2 Axes>"
      ]
     },
     "metadata": {},
     "output_type": "display_data"
    },
    {
     "name": "stdout",
     "output_type": "stream",
     "text": [
      "\n",
      "- Evaluating Test Data:\n",
      "8/8 [==============================] - 0s 28ms/step - loss: 0.6913 - accuracy: 0.7737\n",
      "{'loss': 0.6912684440612793, 'accuracy': 0.7736625671386719}\n"
     ]
    }
   ],
   "source": [
    "# Build the model\n",
    "model = build_gru_model(sequence_vectorizer)\n",
    "\n",
    "# Fit the model\n",
    "EPOCHS = 30\n",
    "history = model.fit(train_ds,epochs=EPOCHS,validation_data=val_ds,callbacks=get_callbacks())\n",
    "\n",
    "# Evaluate the model\n",
    "results = fn.evaluate_classification_network(model,X_train=train_ds, X_test=test_ds,history=history);"
   ]
  },
  {
   "cell_type": "code",
   "execution_count": 37,
   "id": "bce29daf-3948-4d70-bbb7-cdfb52ddcbf7",
   "metadata": {},
   "outputs": [
    {
     "name": "stdout",
     "output_type": "stream",
     "text": [
      "{'Data': {'ml': {'label_encoder': 'Data-NLP/label-encoder.joblib',\n",
      "                 'target_lookup': 'Data-NLP/target-lookup-dict.joblib',\n",
      "                 'test': 'Data-NLP/testing-data.joblib',\n",
      "                 'train': 'Data-NLP/training-data.joblib'},\n",
      "          'tf': {'test_ds': 'Data-NLP/testing_tf',\n",
      "                 'train_ds': 'Data-NLP/training_tf'}},\n",
      " 'models': {'gru': 'models/tf/', 'rf': 'models/rf-pipe.joblib'}}\n"
     ]
    }
   ],
   "source": [
    "from pprint import pprint\n",
    "FPATHS = dict(\n",
    "    Data = {\n",
    "        'ml':{'train': \"Data-NLP/training-data.joblib\",\n",
    "             'test': 'Data-NLP/testing-data.joblib',\n",
    "             'label_encoder': 'Data-NLP/label-encoder.joblib',\n",
    "             'target_lookup': 'Data-NLP/target-lookup-dict.joblib'},\n",
    "        'tf': {'train_ds': 'Data-NLP/training_tf',\n",
    "               'test_ds': 'Data-NLP/testing_tf'}},\n",
    "    models = {\n",
    "        'rf': 'models/rf-pipe.joblib',\n",
    "        'gru': 'models/tf/'})\n",
    "pprint(FPATHS)"
   ]
  },
  {
   "cell_type": "code",
   "execution_count": 34,
   "id": "05202067-6084-40da-9af6-7fd50eda1771",
   "metadata": {},
   "outputs": [
    {
     "data": {
      "text/plain": [
       "'Data-NLP/training-data.joblib'"
      ]
     },
     "execution_count": 34,
     "metadata": {},
     "output_type": "execute_result"
    }
   ],
   "source": [
    "joblib_train_path = FPATHS['Data']['ml']['train']\n",
    "joblib_train_path"
   ]
  },
  {
   "cell_type": "code",
   "execution_count": 35,
   "id": "60cf0bb9-8e92-47a8-a824-c12a548f231d",
   "metadata": {},
   "outputs": [
    {
     "data": {
      "text/plain": [
       "['Data-NLP/training-data.joblib']"
      ]
     },
     "execution_count": 35,
     "metadata": {},
     "output_type": "execute_result"
    }
   ],
   "source": [
    "joblib.dump([X_train,y_train],joblib_train_path)"
   ]
  },
  {
   "cell_type": "code",
   "execution_count": 38,
   "id": "f1fb7385-a42c-4bc3-90d3-49c80e8ff1e6",
   "metadata": {},
   "outputs": [
    {
     "data": {
      "text/plain": [
       "['Data-NLP/testing-data.joblib']"
      ]
     },
     "execution_count": 38,
     "metadata": {},
     "output_type": "execute_result"
    }
   ],
   "source": [
    "joblib_test_path = FPATHS['Data']['ml']['test']\n",
    "joblib.dump([X_test,y_test], joblib_test_path)"
   ]
  },
  {
   "cell_type": "code",
   "execution_count": 39,
   "id": "64fd89e6-65bc-403d-add4-4bf53b4ae141",
   "metadata": {},
   "outputs": [
    {
     "data": {
      "text/plain": [
       "['models/rf-pipe.joblib']"
      ]
     },
     "execution_count": 39,
     "metadata": {},
     "output_type": "execute_result"
    }
   ],
   "source": [
    "best_model_path = FPATHS['models']['rf']\n",
    "joblib.dump(best_rf_model, best_model_path)"
   ]
  },
  {
   "cell_type": "code",
   "execution_count": 48,
   "id": "1e3e3e26-0100-4fa3-ac32-c789f1b8e0d5",
   "metadata": {},
   "outputs": [
    {
     "ename": "KeyError",
     "evalue": "'tf'",
     "output_type": "error",
     "traceback": [
      "\u001b[0;31m---------------------------------------------------------------------------\u001b[0m",
      "\u001b[0;31mKeyError\u001b[0m                                  Traceback (most recent call last)",
      "Cell \u001b[0;32mIn[48], line 1\u001b[0m\n\u001b[0;32m----> 1\u001b[0m gru_model_path \u001b[38;5;241m=\u001b[39m \u001b[43mFPATHS\u001b[49m\u001b[43m[\u001b[49m\u001b[38;5;124;43m'\u001b[39;49m\u001b[38;5;124;43mmodels\u001b[39;49m\u001b[38;5;124;43m'\u001b[39;49m\u001b[43m]\u001b[49m\u001b[43m[\u001b[49m\u001b[38;5;124;43m'\u001b[39;49m\u001b[38;5;124;43mtf\u001b[39;49m\u001b[38;5;124;43m'\u001b[39;49m\u001b[43m]\u001b[49m\n\u001b[1;32m      2\u001b[0m joblib\u001b[38;5;241m.\u001b[39mdump(model, gru_model_path,protocol \u001b[38;5;241m=\u001b[39m\u001b[38;5;241m2\u001b[39m)\n",
      "\u001b[0;31mKeyError\u001b[0m: 'tf'"
     ]
    }
   ],
   "source": [
    "gru_model_path = FPATHS['models']['tf']\n",
    "joblib.dump(model, gru_model_path,protocol =2)"
   ]
  },
  {
   "cell_type": "code",
   "execution_count": 51,
   "id": "6729e111-11bd-43ef-9472-02bbd2a21edd",
   "metadata": {},
   "outputs": [
    {
     "data": {
      "text/plain": [
       "['Data-NLP/label-encoder.joblib']"
      ]
     },
     "execution_count": 51,
     "metadata": {},
     "output_type": "execute_result"
    }
   ],
   "source": [
    "fpath_encoder = FPATHS['Data']['ml']['label_encoder']\n",
    "joblib.dump(encoder,fpath_encoder)"
   ]
  },
  {
   "cell_type": "code",
   "execution_count": 52,
   "id": "cefd642d-5576-41e9-ba1d-a7d3492ef7eb",
   "metadata": {},
   "outputs": [
    {
     "data": {
      "text/plain": [
       "['Data-NLP/target-lookup-dict.joblib']"
      ]
     },
     "execution_count": 52,
     "metadata": {},
     "output_type": "execute_result"
    }
   ],
   "source": [
    "fpath_lookup = FPATHS['Data']['ml']['target_lookup']\n",
    "joblib.dump(target_lookup, fpath_lookup)"
   ]
  },
  {
   "cell_type": "code",
   "execution_count": null,
   "id": "7d478e96-80d5-4ced-9139-057664407ee8",
   "metadata": {},
   "outputs": [],
   "source": []
  },
  {
   "cell_type": "code",
   "execution_count": null,
   "id": "3be504f1-f11c-42c3-9726-27e46ce6f308",
   "metadata": {},
   "outputs": [],
   "source": []
  },
  {
   "cell_type": "code",
   "execution_count": null,
   "id": "d8d3c500-454f-4ea2-bf7c-4133a5783ac7",
   "metadata": {},
   "outputs": [],
   "source": []
  },
  {
   "cell_type": "code",
   "execution_count": null,
   "id": "298a4e18-ab11-4f30-9767-b4c26f8696bb",
   "metadata": {},
   "outputs": [],
   "source": []
  },
  {
   "cell_type": "code",
   "execution_count": null,
   "id": "c9442ef4-0275-4df5-b32f-6bff8f70c1a1",
   "metadata": {},
   "outputs": [],
   "source": []
  },
  {
   "cell_type": "code",
   "execution_count": null,
   "id": "ef786805-9aa5-40f7-bba5-c7ba226c6c5c",
   "metadata": {},
   "outputs": [],
   "source": []
  },
  {
   "cell_type": "code",
   "execution_count": null,
   "id": "f6ff8e00-4731-43a2-92f0-431ebdf14eb6",
   "metadata": {},
   "outputs": [],
   "source": []
  }
 ],
 "metadata": {
  "kernelspec": {
   "display_name": "Python 3 (ipykernel)",
   "language": "python",
   "name": "python3"
  },
  "language_info": {
   "codemirror_mode": {
    "name": "ipython",
    "version": 3
   },
   "file_extension": ".py",
   "mimetype": "text/x-python",
   "name": "python",
   "nbconvert_exporter": "python",
   "pygments_lexer": "ipython3",
   "version": "3.10.10"
  },
  "widgets": {
   "application/vnd.jupyter.widget-state+json": {
    "state": {},
    "version_major": 2,
    "version_minor": 0
   }
  }
 },
 "nbformat": 4,
 "nbformat_minor": 5
}
