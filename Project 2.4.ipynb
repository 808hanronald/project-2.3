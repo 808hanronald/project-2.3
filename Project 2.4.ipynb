{
 "cells": [
  {
   "cell_type": "markdown",
   "id": "24328452-f7dd-4f5a-9649-5cde97db7120",
   "metadata": {},
   "source": [
    "# Part 4\n",
    "For part 4 of the project, you will use your MySQL database from parts 2-3 to answer meaningful questions for your stakeholder. They want you to use your hypothesis testing and statistics knowledge to answer 3 questions about what makes a successful movie.\n",
    "\n",
    "## Questions to Answer\n",
    "    - The stakeholder's first question is: does the MPAA rating of a movie (G/PG/PG-13/R) affect how much revenue the movie generates?\n",
    "\n",
    "        - They want you to perform a statistical test to get a mathematically-supported answer.\n",
    "        - They want you to report if you found a significant difference between ratings.\n",
    "            - If so, what was the p-value of your analysis?\n",
    "            - And which rating earns the most revenue?\n",
    "        - They want you to prepare a visualization that supports your finding.\n",
    "    - It is then up to you to think of 2 additional hypotheses to test that your stakeholder may want to know.\n",
    "\n",
    "    - Some example hypotheses you could test:\n",
    "\n",
    "        - Do movies that are over 2.5 hours long earn more revenue than movies that are 1.5 hours long (or less)?\n",
    "        - Do movies released in 2020 earn less revenue than movies released in 2018?\n",
    "            - How do the years compare for movie ratings?\n",
    "        - Do some movie genres earn more revenue than others?\n",
    "        - Are some genres higher rated than others?\n",
    "        - etc.\n",
    "\n",
    "## Specifications\n",
    "### Your Data\n",
    "    - A critical first step for this assignment will be to retrieve additional movie data to add to your SQL database.\n",
    "        - You will want to use the TMDB API again and extract data for additional years.\n",
    "        - You may want to review the optional lesson from Week 1 on \"Using Glob to Load Many Files\" to load and combine all of your API results for each year.\n",
    "    - However, trying to extract the TMDB data for all movies from 2000-2022 could take >24 hours!\n",
    "    - To address this issue, you should EITHER:\n",
    "        - Define a smaller (but logical) period of time to use for your analyses (e.g., last 10 years, 2010-2019 (pre-pandemic, etc).\n",
    "        - OR coordinate with cohort-mates and divide the API calls so that you can all download the data for a smaller number of years and then share your downloaded JSON data.\n",
    "\n",
    "\n",
    "## Deliverables\n",
    "    - You should use the same project repository you have been using for Parts 1-3 (for your portfolio).\n",
    "        - Create a new notebook in your project repository just for the hypothesis testing (like \"Part 4 - Hypothesis Testing.ipynb\")\n",
    "        - Make sure the results and visualization for all 3 hypotheses are in your notebook.\n",
    "\n",
    "Please submit the link to your GitHub repository for this assignment."
   ]
  },
  {
   "cell_type": "code",
   "execution_count": 1,
   "id": "e9ead56f-6ddf-4b05-8e0a-4c39effc2a78",
   "metadata": {},
   "outputs": [
    {
     "data": {
      "text/plain": [
       "['title_basics_cleaned.csv.gz',\n",
       " 'advance_tf_data_pt1.csv',\n",
       " 'title_ratings_cleaned.csv.gz',\n",
       " 'tmdb_api_results_2020.json',\n",
       " 'tmdb_api_results_2000.json',\n",
       " 'tmdb_api_results_2001.json',\n",
       " 'Untitled.mwb',\n",
       " 'final_tmdb_data_2002.csv.gz',\n",
       " 'tmdb_api_results_2021.json',\n",
       " 'tmdb_api_results_2022.json',\n",
       " 'tmdb_api_results_2002.json',\n",
       " 'final_tmdb_data_2021.csv.gz',\n",
       " 'tmdb_api_results_2003.json',\n",
       " 'title-akas-us-only.csv',\n",
       " 'final_tmdb_data_2001.csv.gz',\n",
       " '.ipynb_checkpoints',\n",
       " 'movietables.png',\n",
       " 'tmdb_api_results_2004.json',\n",
       " 'tmdb_results_combined.csv.gz',\n",
       " 'model.sql',\n",
       " 'final_tmdb_data_2003.csv.gz']"
      ]
     },
     "execution_count": 1,
     "metadata": {},
     "output_type": "execute_result"
    }
   ],
   "source": [
    "#import packages\n",
    "#MAKING FOLDERS AND LISTING\n",
    "import os, time, json\n",
    "import tmdbsimple as tmdb\n",
    "import pandas as pd\n",
    "from tqdm.notebook import tqdm_notebook\n",
    "#create the folder for saving files (if it dosen't exist)\n",
    "FOLDER = \"Data/\"\n",
    "os.makedirs(FOLDER, exist_ok=True)\n",
    "os.listdir(FOLDER)"
   ]
  },
  {
   "cell_type": "code",
   "execution_count": 2,
   "id": "2bcd9e45-88c0-4399-a39f-499ff429305d",
   "metadata": {},
   "outputs": [
    {
     "data": {
      "text/plain": [
       "dict_keys(['client-id', 'api-key', 'api-read-token'])"
      ]
     },
     "execution_count": 2,
     "metadata": {},
     "output_type": "execute_result"
    }
   ],
   "source": [
    "import json\n",
    "with open('/Users/rowenahan/.secret/tmbd_api.json') as f:\n",
    "    login = json.load(f)\n",
    "## Display the keys of the loaded dict\n",
    "login.keys()\n"
   ]
  },
  {
   "cell_type": "code",
   "execution_count": 3,
   "id": "b64819b4-02ac-4ed5-b529-fda197bf5697",
   "metadata": {},
   "outputs": [],
   "source": [
    "#load tmdbsimple\n",
    "import tmdbsimple as tmdb\n",
    "tmdb.API_KEY = login[\"api-key\"]"
   ]
  },
  {
   "cell_type": "markdown",
   "id": "bb93f8c8-2217-4fe4-9a74-ac6fe31186d0",
   "metadata": {},
   "source": [
    "## Adding certification"
   ]
  },
  {
   "cell_type": "code",
   "execution_count": 4,
   "id": "5c37dd59-7413-4561-b742-54a66402548e",
   "metadata": {},
   "outputs": [],
   "source": [
    "def get_movie_with_rating(movie_id):\n",
    "    \"\"\"Adaoted from source = https://github.com/celiao/tmdbsimple\"\"\"\n",
    "    #Get the movie object for the current id\n",
    "    movie=tmdb.Movies(movie_id)\n",
    "\n",
    "    #save the .info .releases dictionaries\n",
    "    info = movie.info()\n",
    "\n",
    "    releases = movie.releases()\n",
    "    #Loop through countries in releases\n",
    "    for c in releases[\"countries\"]:\n",
    "        #if the country appreviation ==US\n",
    "        if c[\"iso_3166_1\"]=='US':\n",
    "            #save a \"certification\" key in info with the certification\n",
    "            info['certification']=c['certification']\n",
    "\n",
    "    return info"
   ]
  },
  {
   "cell_type": "code",
   "execution_count": 9,
   "id": "3355e017-9033-4240-b50a-a8d2409d7f7d",
   "metadata": {},
   "outputs": [],
   "source": [
    "#Define list of years to get from API for outer loop\n",
    "YEARS_TO_GET=[ 2006,2007]"
   ]
  },
  {
   "cell_type": "code",
   "execution_count": 6,
   "id": "3a994a59-3c18-4c35-8a59-f6587f7f1b17",
   "metadata": {},
   "outputs": [
    {
     "data": {
      "text/html": [
       "<div>\n",
       "<style scoped>\n",
       "    .dataframe tbody tr th:only-of-type {\n",
       "        vertical-align: middle;\n",
       "    }\n",
       "\n",
       "    .dataframe tbody tr th {\n",
       "        vertical-align: top;\n",
       "    }\n",
       "\n",
       "    .dataframe thead th {\n",
       "        text-align: right;\n",
       "    }\n",
       "</style>\n",
       "<table border=\"1\" class=\"dataframe\">\n",
       "  <thead>\n",
       "    <tr style=\"text-align: right;\">\n",
       "      <th></th>\n",
       "      <th>tconst</th>\n",
       "      <th>titleType</th>\n",
       "      <th>primaryTitle</th>\n",
       "      <th>originalTitle</th>\n",
       "      <th>isAdult</th>\n",
       "      <th>startYear</th>\n",
       "      <th>endYear</th>\n",
       "      <th>runtimeMinutes</th>\n",
       "      <th>genres</th>\n",
       "    </tr>\n",
       "  </thead>\n",
       "  <tbody>\n",
       "    <tr>\n",
       "      <th>0</th>\n",
       "      <td>tt0035423</td>\n",
       "      <td>movie</td>\n",
       "      <td>Kate &amp; Leopold</td>\n",
       "      <td>Kate &amp; Leopold</td>\n",
       "      <td>0</td>\n",
       "      <td>2001.0</td>\n",
       "      <td>NaN</td>\n",
       "      <td>118</td>\n",
       "      <td>Comedy,Fantasy,Romance</td>\n",
       "    </tr>\n",
       "    <tr>\n",
       "      <th>1</th>\n",
       "      <td>tt0062336</td>\n",
       "      <td>movie</td>\n",
       "      <td>The Tango of the Widower and Its Distorting Mi...</td>\n",
       "      <td>El tango del viudo y su espejo deformante</td>\n",
       "      <td>0</td>\n",
       "      <td>2020.0</td>\n",
       "      <td>NaN</td>\n",
       "      <td>70</td>\n",
       "      <td>Drama</td>\n",
       "    </tr>\n",
       "    <tr>\n",
       "      <th>2</th>\n",
       "      <td>tt0069049</td>\n",
       "      <td>movie</td>\n",
       "      <td>The Other Side of the Wind</td>\n",
       "      <td>The Other Side of the Wind</td>\n",
       "      <td>0</td>\n",
       "      <td>2018.0</td>\n",
       "      <td>NaN</td>\n",
       "      <td>122</td>\n",
       "      <td>Drama</td>\n",
       "    </tr>\n",
       "    <tr>\n",
       "      <th>3</th>\n",
       "      <td>tt0088751</td>\n",
       "      <td>movie</td>\n",
       "      <td>The Naked Monster</td>\n",
       "      <td>The Naked Monster</td>\n",
       "      <td>0</td>\n",
       "      <td>2005.0</td>\n",
       "      <td>NaN</td>\n",
       "      <td>100</td>\n",
       "      <td>Comedy,Horror,Sci-Fi</td>\n",
       "    </tr>\n",
       "    <tr>\n",
       "      <th>4</th>\n",
       "      <td>tt0096056</td>\n",
       "      <td>movie</td>\n",
       "      <td>Crime and Punishment</td>\n",
       "      <td>Crime and Punishment</td>\n",
       "      <td>0</td>\n",
       "      <td>2002.0</td>\n",
       "      <td>NaN</td>\n",
       "      <td>126</td>\n",
       "      <td>Drama</td>\n",
       "    </tr>\n",
       "  </tbody>\n",
       "</table>\n",
       "</div>"
      ],
      "text/plain": [
       "      tconst titleType                                       primaryTitle  \\\n",
       "0  tt0035423     movie                                     Kate & Leopold   \n",
       "1  tt0062336     movie  The Tango of the Widower and Its Distorting Mi...   \n",
       "2  tt0069049     movie                         The Other Side of the Wind   \n",
       "3  tt0088751     movie                                  The Naked Monster   \n",
       "4  tt0096056     movie                               Crime and Punishment   \n",
       "\n",
       "                               originalTitle  isAdult  startYear  endYear  \\\n",
       "0                             Kate & Leopold        0     2001.0      NaN   \n",
       "1  El tango del viudo y su espejo deformante        0     2020.0      NaN   \n",
       "2                 The Other Side of the Wind        0     2018.0      NaN   \n",
       "3                          The Naked Monster        0     2005.0      NaN   \n",
       "4                       Crime and Punishment        0     2002.0      NaN   \n",
       "\n",
       "   runtimeMinutes                  genres  \n",
       "0             118  Comedy,Fantasy,Romance  \n",
       "1              70                   Drama  \n",
       "2             122                   Drama  \n",
       "3             100    Comedy,Horror,Sci-Fi  \n",
       "4             126                   Drama  "
      ]
     },
     "execution_count": 6,
     "metadata": {},
     "output_type": "execute_result"
    }
   ],
   "source": [
    "#load data(basic.csv)\n",
    "basics=pd.read_csv('Data/title_basics_cleaned.csv.gz')\n",
    "basics.head()"
   ]
  },
  {
   "cell_type": "code",
   "execution_count": 10,
   "id": "ad056771-f4c7-41a3-b406-cd7fa246db8b",
   "metadata": {},
   "outputs": [],
   "source": [
    "def write_json(new_data, filename):\n",
    "    \"\"\"Appends a list of records (new_data) to a json file (filename). Adapted from: \n",
    "    https://www.geeksforgeeks.org/append-to-json-file-using-python/\"\"\"\n",
    "\n",
    "    with open(filename,'r+') as file:\n",
    "        #first we load existing data into a dict.\n",
    "        file_data=json.load(file)\n",
    "        #choose extend or append\n",
    "        if (type(new_data)==list) & (type(file_data)==list):\n",
    "            file_data.extend(new_data)\n",
    "        else:\n",
    "            file_data.append(new_data)\n",
    "        #set file's current position at offset\n",
    "        file.seek(0)\n",
    "        #convert back to json\n",
    "        json.dump(file_data,file)"
   ]
  },
  {
   "cell_type": "code",
   "execution_count": 11,
   "id": "812247dd-fa68-4004-98d4-ba598cb2ec4a",
   "metadata": {},
   "outputs": [
    {
     "data": {
      "application/vnd.jupyter.widget-view+json": {
       "model_id": "40b9ea02f50c420593b54a975a26226d",
       "version_major": 2,
       "version_minor": 0
      },
      "text/plain": [
       "YEARS:   0%|          | 0/2 [00:00<?, ?it/s]"
      ]
     },
     "metadata": {},
     "output_type": "display_data"
    },
    {
     "name": "stdout",
     "output_type": "stream",
     "text": [
      "Creating Data/tmdb_api_results_2006.json for API results for 2006.\n"
     ]
    },
    {
     "data": {
      "application/vnd.jupyter.widget-view+json": {
       "model_id": "f0f13347698743888117ef96bce30e8f",
       "version_major": 2,
       "version_minor": 0
      },
      "text/plain": [
       "Movies from 2006:   0%|          | 0/2440 [00:00<?, ?it/s]"
      ]
     },
     "metadata": {},
     "output_type": "display_data"
    },
    {
     "name": "stdout",
     "output_type": "stream",
     "text": [
      "Creating Data/tmdb_api_results_2007.json for API results for 2007.\n"
     ]
    },
    {
     "data": {
      "application/vnd.jupyter.widget-view+json": {
       "model_id": "804f2d46711d42329158e8a8cab32bc4",
       "version_major": 2,
       "version_minor": 0
      },
      "text/plain": [
       "Movies from 2007:   0%|          | 0/2579 [00:00<?, ?it/s]"
      ]
     },
     "metadata": {},
     "output_type": "display_data"
    }
   ],
   "source": [
    "errors = []\n",
    "\n",
    "#Start the OUTER loop\n",
    "for YEAR in tqdm_notebook(YEARS_TO_GET, desc=\"YEARS\", position=0):\n",
    "\n",
    "    #Defining the JSON file to store results for year\n",
    "    JSON_FILE=F'{FOLDER}tmdb_api_results_{YEAR}.json'\n",
    "    #Check if file exists\n",
    "    file_exists = os.path.isfile(JSON_FILE)\n",
    "\n",
    "    #if it does not exist: create it\n",
    "    if file_exists==False:\n",
    "        #print a message indicating the file is being created\n",
    "        print(f\"Creating {JSON_FILE} for API results for {YEAR}.\")\n",
    "        #save an empty dict with just \"imdb_id\" to the new json file\n",
    "        with open(JSON_FILE,'w') as f:\n",
    "            json.dump([{'imdb_id':0}],f)\n",
    "\n",
    "        #Saving new year as the current df\n",
    "        df=basics.loc[basics[\"startYear\"]==YEAR].copy()\n",
    "        #saving movie ids to separate variable\n",
    "        movie_ids=df[\"tconst\"].copy()\n",
    "        movie_ids\n",
    "        \n",
    "        #load existing data from json into a dataframe alled \"previous_df\"\n",
    "        previous_df=pd.read_json(JSON_FILE)\n",
    "        \n",
    "        previous_df\n",
    "\n",
    "        #filter out any ids that are already in the JSON_FILE\n",
    "        movie_ids_to_get=movie_ids[~movie_ids.isin(previous_df['imdb_id'])]\n",
    "\n",
    "        #Loop through movie_ids_to_get with a tqdm progress bar\n",
    "        for movie_id in tqdm_notebook(movie_ids_to_get,\n",
    "                                      f\"Movies from {YEAR}\"):\n",
    "        \n",
    "            #get index and movie id from list\n",
    "            try:\n",
    "                #Retrieve then data for the movie id\n",
    "                temp=get_movie_with_rating(movie_id)\n",
    "                #append/extend results to existing fil using a pre_made function\n",
    "                write_json(temp,JSON_FILE)\n",
    "                #short 20 ms sleep to prevent overwhelming server\n",
    "                time.sleep(.02)\n",
    "        \n",
    "            except Exception as e:\n",
    "                errors.append([movie_id,e])\n",
    "                continue\n",
    "        \n",
    "        final_year_df=pd.read_json(JSON_FILE)\n",
    "        final_year_df.to_csv(f\"{FOLDER}final_tmdb_data_{YEAR}.csv.gz\", compression=\"gzip\",index=False)"
   ]
  },
  {
   "cell_type": "code",
   "execution_count": null,
   "id": "325ceb7d-f83b-4335-af90-2eee021e62e8",
   "metadata": {},
   "outputs": [],
   "source": []
  },
  {
   "cell_type": "code",
   "execution_count": null,
   "id": "5bddfd12-91ed-428a-95c0-da35fef06b9e",
   "metadata": {},
   "outputs": [],
   "source": []
  },
  {
   "cell_type": "code",
   "execution_count": null,
   "id": "e8aed46f-70a6-49cd-bc95-94d5255c2065",
   "metadata": {},
   "outputs": [],
   "source": []
  },
  {
   "cell_type": "code",
   "execution_count": null,
   "id": "564ac37d-0811-4575-813e-b1035f134907",
   "metadata": {},
   "outputs": [],
   "source": []
  }
 ],
 "metadata": {
  "kernelspec": {
   "display_name": "Python 3 (ipykernel)",
   "language": "python",
   "name": "python3"
  },
  "language_info": {
   "codemirror_mode": {
    "name": "ipython",
    "version": 3
   },
   "file_extension": ".py",
   "mimetype": "text/x-python",
   "name": "python",
   "nbconvert_exporter": "python",
   "pygments_lexer": "ipython3",
   "version": "3.10.10"
  },
  "widgets": {
   "application/vnd.jupyter.widget-state+json": {
    "state": {
     "01dd9b8916b2421294b6095eb4528c1a": {
      "model_module": "@jupyter-widgets/base",
      "model_module_version": "2.0.0",
      "model_name": "LayoutModel",
      "state": {}
     },
     "030d4fe659e64e2c813611f3089580b2": {
      "model_module": "@jupyter-widgets/controls",
      "model_module_version": "2.0.0",
      "model_name": "HTMLModel",
      "state": {
       "layout": "IPY_MODEL_2f7a60cb83ac4c3e8748288925da4974",
       "style": "IPY_MODEL_922129bcdc504d418d5c978702bb4c3c",
       "value": "YEARS: 100%"
      }
     },
     "034f36d8d70442699b14ce3c9939d15f": {
      "model_module": "@jupyter-widgets/controls",
      "model_module_version": "2.0.0",
      "model_name": "HTMLStyleModel",
      "state": {
       "description_width": "",
       "font_size": null,
       "text_color": null
      }
     },
     "138ed7e8afd6478887c268bb739e86d3": {
      "model_module": "@jupyter-widgets/controls",
      "model_module_version": "2.0.0",
      "model_name": "HTMLStyleModel",
      "state": {
       "description_width": "",
       "font_size": null,
       "text_color": null
      }
     },
     "26ba68b2855c451ab0186f6ee008874d": {
      "model_module": "@jupyter-widgets/controls",
      "model_module_version": "2.0.0",
      "model_name": "FloatProgressModel",
      "state": {
       "bar_style": "success",
       "layout": "IPY_MODEL_974a6a91d3744ec69f22ad581e11a223",
       "max": 2579,
       "style": "IPY_MODEL_ded907e551b64f4897e9954746c2ff79",
       "value": 2579
      }
     },
     "27411df63aed47abbd1b02913e4a172b": {
      "model_module": "@jupyter-widgets/controls",
      "model_module_version": "2.0.0",
      "model_name": "HTMLModel",
      "state": {
       "layout": "IPY_MODEL_396edefc5890465cb40a3dd58c939c01",
       "style": "IPY_MODEL_d1f1a0e92dcc46d482684dc84a9cf42a",
       "value": "Movies from 2005: 100%"
      }
     },
     "2ab0b0e51d9645669ef3203abb14274b": {
      "model_module": "@jupyter-widgets/controls",
      "model_module_version": "2.0.0",
      "model_name": "FloatProgressModel",
      "state": {
       "bar_style": "success",
       "layout": "IPY_MODEL_6a775e969227480faa55e4d3b1fe0f03",
       "max": 2440,
       "style": "IPY_MODEL_47f28dfbbd9e45bc984d99ee88d7c380",
       "value": 2440
      }
     },
     "2cff121c3b734813bae6f6d81d53bf85": {
      "model_module": "@jupyter-widgets/base",
      "model_module_version": "2.0.0",
      "model_name": "LayoutModel",
      "state": {}
     },
     "2e3b78d8c3ad479db9c1608b88471307": {
      "model_module": "@jupyter-widgets/controls",
      "model_module_version": "2.0.0",
      "model_name": "HTMLStyleModel",
      "state": {
       "description_width": "",
       "font_size": null,
       "text_color": null
      }
     },
     "2f7a60cb83ac4c3e8748288925da4974": {
      "model_module": "@jupyter-widgets/base",
      "model_module_version": "2.0.0",
      "model_name": "LayoutModel",
      "state": {}
     },
     "31979b6c70ed4959b8dd39f336c2f27a": {
      "model_module": "@jupyter-widgets/controls",
      "model_module_version": "2.0.0",
      "model_name": "FloatProgressModel",
      "state": {
       "bar_style": "success",
       "layout": "IPY_MODEL_6e74978357b24cce833507ac58dcfb1d",
       "max": 2,
       "style": "IPY_MODEL_eccd2546e2f0450e846c66f791b5feba",
       "value": 2
      }
     },
     "32884fd652ff46d4a64f39086df69405": {
      "model_module": "@jupyter-widgets/controls",
      "model_module_version": "2.0.0",
      "model_name": "HTMLModel",
      "state": {
       "layout": "IPY_MODEL_01dd9b8916b2421294b6095eb4528c1a",
       "style": "IPY_MODEL_2e3b78d8c3ad479db9c1608b88471307",
       "value": " 2/2 [1:44:36&lt;00:00, 3155.25s/it]"
      }
     },
     "396edefc5890465cb40a3dd58c939c01": {
      "model_module": "@jupyter-widgets/base",
      "model_module_version": "2.0.0",
      "model_name": "LayoutModel",
      "state": {}
     },
     "3b3075536ad445ea8852cf009d87e95b": {
      "model_module": "@jupyter-widgets/controls",
      "model_module_version": "2.0.0",
      "model_name": "FloatProgressModel",
      "state": {
       "bar_style": "success",
       "layout": "IPY_MODEL_c7ea696e96c642f9aba9c34a278195e9",
       "max": 2,
       "style": "IPY_MODEL_49fd9e1d79094b82b29f3822bc583701",
       "value": 2
      }
     },
     "3ed5fd16fc244bb5adfda696658b55a3": {
      "model_module": "@jupyter-widgets/controls",
      "model_module_version": "2.0.0",
      "model_name": "HTMLModel",
      "state": {
       "layout": "IPY_MODEL_41ea2c8bfc2040949c33db990d8a4e10",
       "style": "IPY_MODEL_6404637c0ba844a597a41e8e0159c193",
       "value": "Movies from 2007: 100%"
      }
     },
     "40b9ea02f50c420593b54a975a26226d": {
      "model_module": "@jupyter-widgets/controls",
      "model_module_version": "2.0.0",
      "model_name": "HBoxModel",
      "state": {
       "children": [
        "IPY_MODEL_030d4fe659e64e2c813611f3089580b2",
        "IPY_MODEL_3b3075536ad445ea8852cf009d87e95b",
        "IPY_MODEL_32884fd652ff46d4a64f39086df69405"
       ],
       "layout": "IPY_MODEL_dd94b378b4ad421682820dbb5a4d5869"
      }
     },
     "41ea2c8bfc2040949c33db990d8a4e10": {
      "model_module": "@jupyter-widgets/base",
      "model_module_version": "2.0.0",
      "model_name": "LayoutModel",
      "state": {}
     },
     "47f28dfbbd9e45bc984d99ee88d7c380": {
      "model_module": "@jupyter-widgets/controls",
      "model_module_version": "2.0.0",
      "model_name": "ProgressStyleModel",
      "state": {
       "description_width": ""
      }
     },
     "48419c2c2cae4aeeb70f9af31804180e": {
      "model_module": "@jupyter-widgets/controls",
      "model_module_version": "2.0.0",
      "model_name": "HTMLStyleModel",
      "state": {
       "description_width": "",
       "font_size": null,
       "text_color": null
      }
     },
     "48f36919155a4b2c8e2e60ed8ed5f739": {
      "model_module": "@jupyter-widgets/controls",
      "model_module_version": "2.0.0",
      "model_name": "HTMLModel",
      "state": {
       "layout": "IPY_MODEL_6ae91d41f63a4cc381febb50326a90d7",
       "style": "IPY_MODEL_034f36d8d70442699b14ce3c9939d15f",
       "value": "Movies from 2006: 100%"
      }
     },
     "49fd9e1d79094b82b29f3822bc583701": {
      "model_module": "@jupyter-widgets/controls",
      "model_module_version": "2.0.0",
      "model_name": "ProgressStyleModel",
      "state": {
       "description_width": ""
      }
     },
     "5862ad5b8c9c425f9cbe17a0a9115672": {
      "model_module": "@jupyter-widgets/controls",
      "model_module_version": "2.0.0",
      "model_name": "HTMLModel",
      "state": {
       "layout": "IPY_MODEL_6afb53e770e64fad87665bdfd63d8dbe",
       "style": "IPY_MODEL_e8c0962da11448f08f8ed946e33d495d",
       "value": " 2579/2579 [53:53&lt;00:00,  1.18s/it]"
      }
     },
     "6151fc18cd384ed49ece4cc05259df4e": {
      "model_module": "@jupyter-widgets/base",
      "model_module_version": "2.0.0",
      "model_name": "LayoutModel",
      "state": {}
     },
     "61efa69857b94f73981796f964be4f0f": {
      "model_module": "@jupyter-widgets/base",
      "model_module_version": "2.0.0",
      "model_name": "LayoutModel",
      "state": {}
     },
     "6404637c0ba844a597a41e8e0159c193": {
      "model_module": "@jupyter-widgets/controls",
      "model_module_version": "2.0.0",
      "model_name": "HTMLStyleModel",
      "state": {
       "description_width": "",
       "font_size": null,
       "text_color": null
      }
     },
     "6a775e969227480faa55e4d3b1fe0f03": {
      "model_module": "@jupyter-widgets/base",
      "model_module_version": "2.0.0",
      "model_name": "LayoutModel",
      "state": {}
     },
     "6ae91d41f63a4cc381febb50326a90d7": {
      "model_module": "@jupyter-widgets/base",
      "model_module_version": "2.0.0",
      "model_name": "LayoutModel",
      "state": {}
     },
     "6afb53e770e64fad87665bdfd63d8dbe": {
      "model_module": "@jupyter-widgets/base",
      "model_module_version": "2.0.0",
      "model_name": "LayoutModel",
      "state": {}
     },
     "6e74978357b24cce833507ac58dcfb1d": {
      "model_module": "@jupyter-widgets/base",
      "model_module_version": "2.0.0",
      "model_name": "LayoutModel",
      "state": {}
     },
     "804f2d46711d42329158e8a8cab32bc4": {
      "model_module": "@jupyter-widgets/controls",
      "model_module_version": "2.0.0",
      "model_name": "HBoxModel",
      "state": {
       "children": [
        "IPY_MODEL_3ed5fd16fc244bb5adfda696658b55a3",
        "IPY_MODEL_26ba68b2855c451ab0186f6ee008874d",
        "IPY_MODEL_5862ad5b8c9c425f9cbe17a0a9115672"
       ],
       "layout": "IPY_MODEL_d3b401101efb43d1969f78cd5c9858c6"
      }
     },
     "824f5f66c7cd42d1ba44b678d5ce75e1": {
      "model_module": "@jupyter-widgets/controls",
      "model_module_version": "2.0.0",
      "model_name": "HTMLStyleModel",
      "state": {
       "description_width": "",
       "font_size": null,
       "text_color": null
      }
     },
     "8399d46bac3a45558e4f73de402fd389": {
      "model_module": "@jupyter-widgets/controls",
      "model_module_version": "2.0.0",
      "model_name": "HTMLStyleModel",
      "state": {
       "description_width": "",
       "font_size": null,
       "text_color": null
      }
     },
     "8cd8869dfab34503932770a87deab924": {
      "model_module": "@jupyter-widgets/base",
      "model_module_version": "2.0.0",
      "model_name": "LayoutModel",
      "state": {}
     },
     "922129bcdc504d418d5c978702bb4c3c": {
      "model_module": "@jupyter-widgets/controls",
      "model_module_version": "2.0.0",
      "model_name": "HTMLStyleModel",
      "state": {
       "description_width": "",
       "font_size": null,
       "text_color": null
      }
     },
     "974a6a91d3744ec69f22ad581e11a223": {
      "model_module": "@jupyter-widgets/base",
      "model_module_version": "2.0.0",
      "model_name": "LayoutModel",
      "state": {}
     },
     "a3e123d3bfd9431e9f935d946f0211b6": {
      "model_module": "@jupyter-widgets/controls",
      "model_module_version": "2.0.0",
      "model_name": "HTMLModel",
      "state": {
       "layout": "IPY_MODEL_b14ff0ecdcbd41318b86dfda4e64b16c",
       "style": "IPY_MODEL_48419c2c2cae4aeeb70f9af31804180e",
       "value": " 2/2 [45:13&lt;00:00, 1356.99s/it]"
      }
     },
     "aa0205bd341e4780880f3435e9aa4e77": {
      "model_module": "@jupyter-widgets/base",
      "model_module_version": "2.0.0",
      "model_name": "LayoutModel",
      "state": {}
     },
     "aa537164a5414325b7355621231a8b71": {
      "model_module": "@jupyter-widgets/controls",
      "model_module_version": "2.0.0",
      "model_name": "ProgressStyleModel",
      "state": {
       "description_width": ""
      }
     },
     "b14ff0ecdcbd41318b86dfda4e64b16c": {
      "model_module": "@jupyter-widgets/base",
      "model_module_version": "2.0.0",
      "model_name": "LayoutModel",
      "state": {}
     },
     "bac6ce89eadf4dcbbd6809fdc32d68ac": {
      "model_module": "@jupyter-widgets/controls",
      "model_module_version": "2.0.0",
      "model_name": "FloatProgressModel",
      "state": {
       "bar_style": "success",
       "layout": "IPY_MODEL_c3f839f2f7094280bf6127705887e996",
       "max": 2185,
       "style": "IPY_MODEL_aa537164a5414325b7355621231a8b71",
       "value": 2185
      }
     },
     "bdc6abd018974a4b94f7e8a89ef164c8": {
      "model_module": "@jupyter-widgets/controls",
      "model_module_version": "2.0.0",
      "model_name": "HBoxModel",
      "state": {
       "children": [
        "IPY_MODEL_27411df63aed47abbd1b02913e4a172b",
        "IPY_MODEL_bac6ce89eadf4dcbbd6809fdc32d68ac",
        "IPY_MODEL_c122de55d97b487d9048a8fcec24d8be"
       ],
       "layout": "IPY_MODEL_61efa69857b94f73981796f964be4f0f"
      }
     },
     "c122de55d97b487d9048a8fcec24d8be": {
      "model_module": "@jupyter-widgets/controls",
      "model_module_version": "2.0.0",
      "model_name": "HTMLModel",
      "state": {
       "layout": "IPY_MODEL_aa0205bd341e4780880f3435e9aa4e77",
       "style": "IPY_MODEL_8399d46bac3a45558e4f73de402fd389",
       "value": " 2185/2185 [45:13&lt;00:00,  1.30it/s]"
      }
     },
     "c3f839f2f7094280bf6127705887e996": {
      "model_module": "@jupyter-widgets/base",
      "model_module_version": "2.0.0",
      "model_name": "LayoutModel",
      "state": {}
     },
     "c6d926ed649b4771bacebe90e1b0879b": {
      "model_module": "@jupyter-widgets/controls",
      "model_module_version": "2.0.0",
      "model_name": "HBoxModel",
      "state": {
       "children": [
        "IPY_MODEL_e6d08f598a7f4a6099e65683bd4ab1e6",
        "IPY_MODEL_31979b6c70ed4959b8dd39f336c2f27a",
        "IPY_MODEL_a3e123d3bfd9431e9f935d946f0211b6"
       ],
       "layout": "IPY_MODEL_6151fc18cd384ed49ece4cc05259df4e"
      }
     },
     "c7ea696e96c642f9aba9c34a278195e9": {
      "model_module": "@jupyter-widgets/base",
      "model_module_version": "2.0.0",
      "model_name": "LayoutModel",
      "state": {}
     },
     "d1f1a0e92dcc46d482684dc84a9cf42a": {
      "model_module": "@jupyter-widgets/controls",
      "model_module_version": "2.0.0",
      "model_name": "HTMLStyleModel",
      "state": {
       "description_width": "",
       "font_size": null,
       "text_color": null
      }
     },
     "d3b401101efb43d1969f78cd5c9858c6": {
      "model_module": "@jupyter-widgets/base",
      "model_module_version": "2.0.0",
      "model_name": "LayoutModel",
      "state": {}
     },
     "da92022aeccf46d797bbe16010a988b1": {
      "model_module": "@jupyter-widgets/controls",
      "model_module_version": "2.0.0",
      "model_name": "HTMLModel",
      "state": {
       "layout": "IPY_MODEL_2cff121c3b734813bae6f6d81d53bf85",
       "style": "IPY_MODEL_138ed7e8afd6478887c268bb739e86d3",
       "value": " 2440/2440 [50:42&lt;00:00,  1.09it/s]"
      }
     },
     "dc160bc3b64e4ab38883d298c42f2fe9": {
      "model_module": "@jupyter-widgets/base",
      "model_module_version": "2.0.0",
      "model_name": "LayoutModel",
      "state": {}
     },
     "dd94b378b4ad421682820dbb5a4d5869": {
      "model_module": "@jupyter-widgets/base",
      "model_module_version": "2.0.0",
      "model_name": "LayoutModel",
      "state": {}
     },
     "ded907e551b64f4897e9954746c2ff79": {
      "model_module": "@jupyter-widgets/controls",
      "model_module_version": "2.0.0",
      "model_name": "ProgressStyleModel",
      "state": {
       "description_width": ""
      }
     },
     "e6d08f598a7f4a6099e65683bd4ab1e6": {
      "model_module": "@jupyter-widgets/controls",
      "model_module_version": "2.0.0",
      "model_name": "HTMLModel",
      "state": {
       "layout": "IPY_MODEL_8cd8869dfab34503932770a87deab924",
       "style": "IPY_MODEL_824f5f66c7cd42d1ba44b678d5ce75e1",
       "value": "YEARS: 100%"
      }
     },
     "e8c0962da11448f08f8ed946e33d495d": {
      "model_module": "@jupyter-widgets/controls",
      "model_module_version": "2.0.0",
      "model_name": "HTMLStyleModel",
      "state": {
       "description_width": "",
       "font_size": null,
       "text_color": null
      }
     },
     "eccd2546e2f0450e846c66f791b5feba": {
      "model_module": "@jupyter-widgets/controls",
      "model_module_version": "2.0.0",
      "model_name": "ProgressStyleModel",
      "state": {
       "description_width": ""
      }
     },
     "f0f13347698743888117ef96bce30e8f": {
      "model_module": "@jupyter-widgets/controls",
      "model_module_version": "2.0.0",
      "model_name": "HBoxModel",
      "state": {
       "children": [
        "IPY_MODEL_48f36919155a4b2c8e2e60ed8ed5f739",
        "IPY_MODEL_2ab0b0e51d9645669ef3203abb14274b",
        "IPY_MODEL_da92022aeccf46d797bbe16010a988b1"
       ],
       "layout": "IPY_MODEL_dc160bc3b64e4ab38883d298c42f2fe9"
      }
     }
    },
    "version_major": 2,
    "version_minor": 0
   }
  }
 },
 "nbformat": 4,
 "nbformat_minor": 5
}
