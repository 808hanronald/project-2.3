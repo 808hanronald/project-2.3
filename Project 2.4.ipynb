{
 "cells": [
  {
   "cell_type": "markdown",
   "id": "24328452-f7dd-4f5a-9649-5cde97db7120",
   "metadata": {},
   "source": [
    "# Part 4\n",
    "For part 4 of the project, you will use your MySQL database from parts 2-3 to answer meaningful questions for your stakeholder. They want you to use your hypothesis testing and statistics knowledge to answer 3 questions about what makes a successful movie.\n",
    "\n",
    "## Questions to Answer\n",
    "    - The stakeholder's first question is: does the MPAA rating of a movie (G/PG/PG-13/R) affect how much revenue the movie generates?\n",
    "\n",
    "        - They want you to perform a statistical test to get a mathematically-supported answer.\n",
    "        - They want you to report if you found a significant difference between ratings.\n",
    "            - If so, what was the p-value of your analysis?\n",
    "            - And which rating earns the most revenue?\n",
    "        - They want you to prepare a visualization that supports your finding.\n",
    "    - It is then up to you to think of 2 additional hypotheses to test that your stakeholder may want to know.\n",
    "\n",
    "    - Some example hypotheses you could test:\n",
    "\n",
    "        - Do movies that are over 2.5 hours long earn more revenue than movies that are 1.5 hours long (or less)?\n",
    "        - Do movies released in 2020 earn less revenue than movies released in 2018?\n",
    "            - How do the years compare for movie ratings?\n",
    "        - Do some movie genres earn more revenue than others?\n",
    "        - Are some genres higher rated than others?\n",
    "        - etc.\n",
    "\n",
    "## Specifications\n",
    "### Your Data\n",
    "    - A critical first step for this assignment will be to retrieve additional movie data to add to your SQL database.\n",
    "        - You will want to use the TMDB API again and extract data for additional years.\n",
    "        - You may want to review the optional lesson from Week 1 on \"Using Glob to Load Many Files\" to load and combine all of your API results for each year.\n",
    "    - However, trying to extract the TMDB data for all movies from 2000-2022 could take >24 hours!\n",
    "    - To address this issue, you should EITHER:\n",
    "        - Define a smaller (but logical) period of time to use for your analyses (e.g., last 10 years, 2010-2019 (pre-pandemic, etc).\n",
    "        - OR coordinate with cohort-mates and divide the API calls so that you can all download the data for a smaller number of years and then share your downloaded JSON data.\n",
    "\n",
    "\n",
    "## Deliverables\n",
    "    - You should use the same project repository you have been using for Parts 1-3 (for your portfolio).\n",
    "        - Create a new notebook in your project repository just for the hypothesis testing (like \"Part 4 - Hypothesis Testing.ipynb\")\n",
    "        - Make sure the results and visualization for all 3 hypotheses are in your notebook.\n",
    "\n",
    "Please submit the link to your GitHub repository for this assignment."
   ]
  },
  {
   "cell_type": "code",
   "execution_count": 1,
   "id": "e9ead56f-6ddf-4b05-8e0a-4c39effc2a78",
   "metadata": {},
   "outputs": [
    {
     "data": {
      "text/plain": [
       "['title_basics_cleaned.csv.gz',\n",
       " 'advance_tf_data_pt1.csv',\n",
       " 'title_ratings_cleaned.csv.gz',\n",
       " 'tmdb_api_results_2020.json',\n",
       " 'tmdb_api_results_2000.json',\n",
       " 'tmdb_api_results_2001.json',\n",
       " 'Untitled.mwb',\n",
       " 'final_tmdb_data_2002.csv.gz',\n",
       " 'tmdb_api_results_2002.json',\n",
       " 'title-akas-us-only.csv',\n",
       " 'final_tmdb_data_2001.csv.gz',\n",
       " '.ipynb_checkpoints',\n",
       " 'movietables.png',\n",
       " 'tmdb_results_combined.csv.gz',\n",
       " 'model.sql']"
      ]
     },
     "execution_count": 1,
     "metadata": {},
     "output_type": "execute_result"
    }
   ],
   "source": [
    "#import packages\n",
    "#MAKING FOLDERS AND LISTING\n",
    "import os, time, json\n",
    "import tmdbsimple as tmdb\n",
    "import pandas as pd\n",
    "from tqdm.notebook import tqdm_notebook\n",
    "#create the folder for saving files (if it dosen't exist)\n",
    "FOLDER = \"Data/\"\n",
    "os.makedirs(FOLDER, exist_ok=True)\n",
    "os.listdir(FOLDER)"
   ]
  },
  {
   "cell_type": "code",
   "execution_count": 2,
   "id": "2bcd9e45-88c0-4399-a39f-499ff429305d",
   "metadata": {},
   "outputs": [
    {
     "data": {
      "text/plain": [
       "dict_keys(['client-id', 'api-key', 'api-read-token'])"
      ]
     },
     "execution_count": 2,
     "metadata": {},
     "output_type": "execute_result"
    }
   ],
   "source": [
    "import json\n",
    "with open('/Users/rowenahan/.secret/tmbd_api.json') as f:\n",
    "    login = json.load(f)\n",
    "## Display the keys of the loaded dict\n",
    "login.keys()\n"
   ]
  },
  {
   "cell_type": "code",
   "execution_count": 3,
   "id": "b64819b4-02ac-4ed5-b529-fda197bf5697",
   "metadata": {},
   "outputs": [],
   "source": [
    "#load tmdbsimple\n",
    "import tmdbsimple as tmdb\n",
    "tmdb.API_KEY = login[\"api-key\"]"
   ]
  },
  {
   "cell_type": "markdown",
   "id": "bb93f8c8-2217-4fe4-9a74-ac6fe31186d0",
   "metadata": {},
   "source": [
    "## Adding certification"
   ]
  },
  {
   "cell_type": "code",
   "execution_count": 4,
   "id": "5c37dd59-7413-4561-b742-54a66402548e",
   "metadata": {},
   "outputs": [],
   "source": [
    "def get_movie_with_rating(movie_id):\n",
    "    \"\"\"Adaoted from source = https://github.com/celiao/tmdbsimple\"\"\"\n",
    "    #Get the movie object for the current id\n",
    "    movie=tmdb.Movies(movie_id)\n",
    "\n",
    "    #save the .info .releases dictionaries\n",
    "    info = movie.info()\n",
    "\n",
    "    releases = movie.releases()\n",
    "    #Loop through countries in releases\n",
    "    for c in releases[\"countries\"]:\n",
    "        #if the country appreviation ==US\n",
    "        if c[\"iso_3166_1\"]=='US':\n",
    "            #save a \"certification\" key in info with the certification\n",
    "            info['certification']=c['certification']\n",
    "\n",
    "    return info"
   ]
  },
  {
   "cell_type": "code",
   "execution_count": 5,
   "id": "3355e017-9033-4240-b50a-a8d2409d7f7d",
   "metadata": {},
   "outputs": [],
   "source": [
    "#Define list of years to get from API for outer loop\n",
    "YEARS_TO_GET=[2020,2021,2022]"
   ]
  },
  {
   "cell_type": "code",
   "execution_count": 6,
   "id": "3a994a59-3c18-4c35-8a59-f6587f7f1b17",
   "metadata": {},
   "outputs": [
    {
     "data": {
      "text/html": [
       "<div>\n",
       "<style scoped>\n",
       "    .dataframe tbody tr th:only-of-type {\n",
       "        vertical-align: middle;\n",
       "    }\n",
       "\n",
       "    .dataframe tbody tr th {\n",
       "        vertical-align: top;\n",
       "    }\n",
       "\n",
       "    .dataframe thead th {\n",
       "        text-align: right;\n",
       "    }\n",
       "</style>\n",
       "<table border=\"1\" class=\"dataframe\">\n",
       "  <thead>\n",
       "    <tr style=\"text-align: right;\">\n",
       "      <th></th>\n",
       "      <th>tconst</th>\n",
       "      <th>titleType</th>\n",
       "      <th>primaryTitle</th>\n",
       "      <th>originalTitle</th>\n",
       "      <th>isAdult</th>\n",
       "      <th>startYear</th>\n",
       "      <th>endYear</th>\n",
       "      <th>runtimeMinutes</th>\n",
       "      <th>genres</th>\n",
       "    </tr>\n",
       "  </thead>\n",
       "  <tbody>\n",
       "    <tr>\n",
       "      <th>0</th>\n",
       "      <td>tt0035423</td>\n",
       "      <td>movie</td>\n",
       "      <td>Kate &amp; Leopold</td>\n",
       "      <td>Kate &amp; Leopold</td>\n",
       "      <td>0</td>\n",
       "      <td>2001.0</td>\n",
       "      <td>NaN</td>\n",
       "      <td>118</td>\n",
       "      <td>Comedy,Fantasy,Romance</td>\n",
       "    </tr>\n",
       "    <tr>\n",
       "      <th>1</th>\n",
       "      <td>tt0062336</td>\n",
       "      <td>movie</td>\n",
       "      <td>The Tango of the Widower and Its Distorting Mi...</td>\n",
       "      <td>El tango del viudo y su espejo deformante</td>\n",
       "      <td>0</td>\n",
       "      <td>2020.0</td>\n",
       "      <td>NaN</td>\n",
       "      <td>70</td>\n",
       "      <td>Drama</td>\n",
       "    </tr>\n",
       "    <tr>\n",
       "      <th>2</th>\n",
       "      <td>tt0069049</td>\n",
       "      <td>movie</td>\n",
       "      <td>The Other Side of the Wind</td>\n",
       "      <td>The Other Side of the Wind</td>\n",
       "      <td>0</td>\n",
       "      <td>2018.0</td>\n",
       "      <td>NaN</td>\n",
       "      <td>122</td>\n",
       "      <td>Drama</td>\n",
       "    </tr>\n",
       "    <tr>\n",
       "      <th>3</th>\n",
       "      <td>tt0088751</td>\n",
       "      <td>movie</td>\n",
       "      <td>The Naked Monster</td>\n",
       "      <td>The Naked Monster</td>\n",
       "      <td>0</td>\n",
       "      <td>2005.0</td>\n",
       "      <td>NaN</td>\n",
       "      <td>100</td>\n",
       "      <td>Comedy,Horror,Sci-Fi</td>\n",
       "    </tr>\n",
       "    <tr>\n",
       "      <th>4</th>\n",
       "      <td>tt0096056</td>\n",
       "      <td>movie</td>\n",
       "      <td>Crime and Punishment</td>\n",
       "      <td>Crime and Punishment</td>\n",
       "      <td>0</td>\n",
       "      <td>2002.0</td>\n",
       "      <td>NaN</td>\n",
       "      <td>126</td>\n",
       "      <td>Drama</td>\n",
       "    </tr>\n",
       "  </tbody>\n",
       "</table>\n",
       "</div>"
      ],
      "text/plain": [
       "      tconst titleType                                       primaryTitle  \\\n",
       "0  tt0035423     movie                                     Kate & Leopold   \n",
       "1  tt0062336     movie  The Tango of the Widower and Its Distorting Mi...   \n",
       "2  tt0069049     movie                         The Other Side of the Wind   \n",
       "3  tt0088751     movie                                  The Naked Monster   \n",
       "4  tt0096056     movie                               Crime and Punishment   \n",
       "\n",
       "                               originalTitle  isAdult  startYear  endYear  \\\n",
       "0                             Kate & Leopold        0     2001.0      NaN   \n",
       "1  El tango del viudo y su espejo deformante        0     2020.0      NaN   \n",
       "2                 The Other Side of the Wind        0     2018.0      NaN   \n",
       "3                          The Naked Monster        0     2005.0      NaN   \n",
       "4                       Crime and Punishment        0     2002.0      NaN   \n",
       "\n",
       "   runtimeMinutes                  genres  \n",
       "0             118  Comedy,Fantasy,Romance  \n",
       "1              70                   Drama  \n",
       "2             122                   Drama  \n",
       "3             100    Comedy,Horror,Sci-Fi  \n",
       "4             126                   Drama  "
      ]
     },
     "execution_count": 6,
     "metadata": {},
     "output_type": "execute_result"
    }
   ],
   "source": [
    "#load data(basic.csv)\n",
    "basics=pd.read_csv('Data/title_basics_cleaned.csv.gz')\n",
    "basics.head()"
   ]
  },
  {
   "cell_type": "code",
   "execution_count": 7,
   "id": "ad056771-f4c7-41a3-b406-cd7fa246db8b",
   "metadata": {},
   "outputs": [],
   "source": [
    "def write_json(new_data, filename):\n",
    "    \"\"\"Appends a list of records (new_data) to a json file (filename). Adapted from: \n",
    "    https://www.geeksforgeeks.org/append-to-json-file-using-python/\"\"\"\n",
    "\n",
    "    with open(filename,'r+') as file:\n",
    "        #first we load existing data into a dict.\n",
    "        file_data=json.load(file)\n",
    "        #choose extend or append\n",
    "        if (type(new_data)==list) & (type(file_data)==list):\n",
    "            file_data.extend(new_data)\n",
    "        else:\n",
    "            file_data.append(new_data)\n",
    "        #set file's current position at offset\n",
    "        file.seek(0)\n",
    "        #convert back to json\n",
    "        json.dump(file_data,file)"
   ]
  },
  {
   "cell_type": "code",
   "execution_count": null,
   "id": "812247dd-fa68-4004-98d4-ba598cb2ec4a",
   "metadata": {},
   "outputs": [],
   "source": [
    "errors = []\n",
    "\n",
    "#Start the OUTER loop\n",
    "for YEAR in tqdm_notebook(YEARS_TO_GET, desc=\"YEARS\", position=0):\n",
    "\n",
    "    #Defining the JSON file to store results for year\n",
    "    JSON_FILE=F'{FOLDER}tmdb_api_results_{YEAR}.json'\n",
    "    #Check if file exists\n",
    "    file_exists = os.path.isfile(JSON_FILE)\n",
    "\n",
    "    #if it does not exist: create it\n",
    "    if file_exists==False:\n",
    "        #print a message indicating the file is being created\n",
    "        print(f\"Creating {JSON_FILE} for API results for {YEAR}.\")\n",
    "        #save an empty dict with just \"imdb_id\" to the new json file\n",
    "        with open(JSON_FILE,'w') as f:\n",
    "            json.dump([{'imdb_id':0}],f)\n",
    "\n",
    "        #Saving new year as the current df\n",
    "        df=basics.loc[basics[\"startYear\"]==YEAR].copy()\n",
    "        #saving movie ids to separate variable\n",
    "        movie_ids=df[\"tconst\"].copy()\n",
    "        movie_ids\n",
    "        \n",
    "        #load existing data from json into a dataframe alled \"previous_df\"\n",
    "        previous_df=pd.read_json(JSON_FILE)\n",
    "        \n",
    "        previous_df\n",
    "\n",
    "        #filter out any ids that are already in the JSON_FILE\n",
    "        movie_ids_to_get=movie_ids[~movie_ids.isin(previous_df['imdb_id'])]\n",
    "\n",
    "        #Loop through movie_ids_to_get with a tqdm progress bar\n",
    "        for movie_id in tqdm_notebook(movie_ids_to_get,\n",
    "                                      f\"Movies from {YEAR}\"):\n",
    "        \n",
    "            #get index and movie id from list\n",
    "            try:\n",
    "                #Retrieve then data for the movie id\n",
    "                temp=get_movie_with_rating(movie_id)\n",
    "                #append/extend results to existing fil using a pre_made function\n",
    "                write_json(temp,JSON_FILE)\n",
    "                #short 20 ms sleep to prevent overwhelming server\n",
    "                time.sleep(.02)\n",
    "        \n",
    "            except Exception as e:\n",
    "                errors.append([movie_id,e])\n",
    "                continue\n",
    "        \n",
    "        final_year_df=pd.read_json(JSON_FILE)\n",
    "        final_year_df.to_csv(f\"{FOLDER}final_tmdb_data_{YEAR}.csv.gz\", compression=\"gzip\",index=False)"
   ]
  },
  {
   "cell_type": "code",
   "execution_count": null,
   "id": "c290c958-3079-4d86-8cea-8e6228c9216f",
   "metadata": {},
   "outputs": [],
   "source": []
  },
  {
   "cell_type": "code",
   "execution_count": null,
   "id": "281e0e0e-24cc-4284-b22f-bfa029eb2af3",
   "metadata": {},
   "outputs": [],
   "source": []
  },
  {
   "cell_type": "code",
   "execution_count": null,
   "id": "bd7bea22-2b53-44d8-bf57-52592d8d9369",
   "metadata": {},
   "outputs": [],
   "source": []
  },
  {
   "cell_type": "code",
   "execution_count": null,
   "id": "325ceb7d-f83b-4335-af90-2eee021e62e8",
   "metadata": {},
   "outputs": [],
   "source": []
  },
  {
   "cell_type": "code",
   "execution_count": null,
   "id": "5bddfd12-91ed-428a-95c0-da35fef06b9e",
   "metadata": {},
   "outputs": [],
   "source": []
  },
  {
   "cell_type": "code",
   "execution_count": null,
   "id": "e8aed46f-70a6-49cd-bc95-94d5255c2065",
   "metadata": {},
   "outputs": [],
   "source": []
  },
  {
   "cell_type": "code",
   "execution_count": null,
   "id": "564ac37d-0811-4575-813e-b1035f134907",
   "metadata": {},
   "outputs": [],
   "source": []
  }
 ],
 "metadata": {
  "kernelspec": {
   "display_name": "Python 3 (ipykernel)",
   "language": "python",
   "name": "python3"
  },
  "language_info": {
   "codemirror_mode": {
    "name": "ipython",
    "version": 3
   },
   "file_extension": ".py",
   "mimetype": "text/x-python",
   "name": "python",
   "nbconvert_exporter": "python",
   "pygments_lexer": "ipython3",
   "version": "3.10.10"
  },
  "widgets": {
   "application/vnd.jupyter.widget-state+json": {
    "state": {
     "04717598014d4cda8da3657e6f18180d": {
      "model_module": "@jupyter-widgets/controls",
      "model_module_version": "2.0.0",
      "model_name": "HTMLStyleModel",
      "state": {
       "description_width": "",
       "font_size": null,
       "text_color": null
      }
     },
     "06e8146bf2a74ed896883fe65bf64ba0": {
      "model_module": "@jupyter-widgets/controls",
      "model_module_version": "2.0.0",
      "model_name": "HTMLModel",
      "state": {
       "layout": "IPY_MODEL_0d9e650ce0204343a518b164db53c193",
       "style": "IPY_MODEL_d340d00edde8441699d82a83035cdfa9",
       "value": "Movies from 2021: 100%"
      }
     },
     "0d9e650ce0204343a518b164db53c193": {
      "model_module": "@jupyter-widgets/base",
      "model_module_version": "2.0.0",
      "model_name": "LayoutModel",
      "state": {}
     },
     "0fa39bf9cfb34c77b46c1af889d527bd": {
      "model_module": "@jupyter-widgets/base",
      "model_module_version": "2.0.0",
      "model_name": "LayoutModel",
      "state": {}
     },
     "13ff687264b0469ea709904283b8066d": {
      "model_module": "@jupyter-widgets/controls",
      "model_module_version": "2.0.0",
      "model_name": "FloatProgressModel",
      "state": {
       "layout": "IPY_MODEL_fce2318e4d2547b0bceec4e8a189d2cf",
       "max": 3,
       "style": "IPY_MODEL_1d82d1ccc6064634af94be2d5ab414ae",
       "value": 2
      }
     },
     "1b8bc8b7d58f49bcab3852037e96c8e0": {
      "model_module": "@jupyter-widgets/controls",
      "model_module_version": "2.0.0",
      "model_name": "HBoxModel",
      "state": {
       "children": [
        "IPY_MODEL_06e8146bf2a74ed896883fe65bf64ba0",
        "IPY_MODEL_f2d17a06f1e34aa2990dbddd4838e899",
        "IPY_MODEL_1cb52c98cca843fe8376bce180612bc1"
       ],
       "layout": "IPY_MODEL_0fa39bf9cfb34c77b46c1af889d527bd"
      }
     },
     "1cb52c98cca843fe8376bce180612bc1": {
      "model_module": "@jupyter-widgets/controls",
      "model_module_version": "2.0.0",
      "model_name": "HTMLModel",
      "state": {
       "layout": "IPY_MODEL_eee4a1e088564e84a5a97083b10a2b5c",
       "style": "IPY_MODEL_45e29bd877a64f8199206bf76b44488b",
       "value": " 5163/5163 [2:04:17&lt;00:00,  1.58s/it]"
      }
     },
     "1d82d1ccc6064634af94be2d5ab414ae": {
      "model_module": "@jupyter-widgets/controls",
      "model_module_version": "2.0.0",
      "model_name": "ProgressStyleModel",
      "state": {
       "description_width": ""
      }
     },
     "28f0e0a3870140c9abf810970c65c7c6": {
      "model_module": "@jupyter-widgets/base",
      "model_module_version": "2.0.0",
      "model_name": "LayoutModel",
      "state": {}
     },
     "38e0caa425064edcb273f3bfbb1551fb": {
      "model_module": "@jupyter-widgets/controls",
      "model_module_version": "2.0.0",
      "model_name": "HTMLModel",
      "state": {
       "layout": "IPY_MODEL_ae88b792309b4f79a0505d70afa364eb",
       "style": "IPY_MODEL_04717598014d4cda8da3657e6f18180d",
       "value": " 2/3 [2:04:17&lt;1:02:08, 3728.63s/it]"
      }
     },
     "4382e3e4417f4ecf9869ccabc79aecb4": {
      "model_module": "@jupyter-widgets/controls",
      "model_module_version": "2.0.0",
      "model_name": "HTMLModel",
      "state": {
       "layout": "IPY_MODEL_dfb2a92f16f24b34a1afa19f10ed3470",
       "style": "IPY_MODEL_9eacd4dacd2b42e48bc82af76ece12be",
       "value": " 1902/5073 [41:52&lt;1:11:52,  1.36s/it]"
      }
     },
     "45e29bd877a64f8199206bf76b44488b": {
      "model_module": "@jupyter-widgets/controls",
      "model_module_version": "2.0.0",
      "model_name": "HTMLStyleModel",
      "state": {
       "description_width": "",
       "font_size": null,
       "text_color": null
      }
     },
     "49442288cb204ee1b45f55d67b508e3f": {
      "model_module": "@jupyter-widgets/base",
      "model_module_version": "2.0.0",
      "model_name": "LayoutModel",
      "state": {}
     },
     "53bc7691e9bc48358bb7d034b8d66ef4": {
      "model_module": "@jupyter-widgets/controls",
      "model_module_version": "2.0.0",
      "model_name": "HTMLModel",
      "state": {
       "layout": "IPY_MODEL_28f0e0a3870140c9abf810970c65c7c6",
       "style": "IPY_MODEL_f30e6d07063a455894b0cdea0ddcaa23",
       "value": "YEARS:  67%"
      }
     },
     "547c6525d4bd491287eeb111dd47e869": {
      "model_module": "@jupyter-widgets/base",
      "model_module_version": "2.0.0",
      "model_name": "LayoutModel",
      "state": {}
     },
     "5c37db4dba7e47eb958a49fb97995a07": {
      "model_module": "@jupyter-widgets/controls",
      "model_module_version": "2.0.0",
      "model_name": "ProgressStyleModel",
      "state": {
       "description_width": ""
      }
     },
     "63863c522c464cda9271892678eb5621": {
      "model_module": "@jupyter-widgets/base",
      "model_module_version": "2.0.0",
      "model_name": "LayoutModel",
      "state": {}
     },
     "65cbbe9eae4c4e1c83eba2c8c5d72b82": {
      "model_module": "@jupyter-widgets/controls",
      "model_module_version": "2.0.0",
      "model_name": "HBoxModel",
      "state": {
       "children": [
        "IPY_MODEL_53bc7691e9bc48358bb7d034b8d66ef4",
        "IPY_MODEL_13ff687264b0469ea709904283b8066d",
        "IPY_MODEL_38e0caa425064edcb273f3bfbb1551fb"
       ],
       "layout": "IPY_MODEL_49442288cb204ee1b45f55d67b508e3f"
      }
     },
     "6cad363e9fe84fbca394cc8a8350d1a2": {
      "model_module": "@jupyter-widgets/base",
      "model_module_version": "2.0.0",
      "model_name": "LayoutModel",
      "state": {}
     },
     "71190d42b9a4487894004ac02d62596c": {
      "model_module": "@jupyter-widgets/controls",
      "model_module_version": "2.0.0",
      "model_name": "FloatProgressModel",
      "state": {
       "layout": "IPY_MODEL_6cad363e9fe84fbca394cc8a8350d1a2",
       "max": 5073,
       "style": "IPY_MODEL_5c37db4dba7e47eb958a49fb97995a07",
       "value": 1902
      }
     },
     "744ee76c438a47649905eb374a1976b7": {
      "model_module": "@jupyter-widgets/base",
      "model_module_version": "2.0.0",
      "model_name": "LayoutModel",
      "state": {}
     },
     "7f2aa7d362204149b08c34390d9b52a6": {
      "model_module": "@jupyter-widgets/controls",
      "model_module_version": "2.0.0",
      "model_name": "HTMLStyleModel",
      "state": {
       "description_width": "",
       "font_size": null,
       "text_color": null
      }
     },
     "85a0cf5637e24e74b298bb2dac9f5e3f": {
      "model_module": "@jupyter-widgets/controls",
      "model_module_version": "2.0.0",
      "model_name": "HBoxModel",
      "state": {
       "children": [
        "IPY_MODEL_c2045ddf967542758c6d9d9c56b2b950",
        "IPY_MODEL_71190d42b9a4487894004ac02d62596c",
        "IPY_MODEL_4382e3e4417f4ecf9869ccabc79aecb4"
       ],
       "layout": "IPY_MODEL_63863c522c464cda9271892678eb5621"
      }
     },
     "9eacd4dacd2b42e48bc82af76ece12be": {
      "model_module": "@jupyter-widgets/controls",
      "model_module_version": "2.0.0",
      "model_name": "HTMLStyleModel",
      "state": {
       "description_width": "",
       "font_size": null,
       "text_color": null
      }
     },
     "ae88b792309b4f79a0505d70afa364eb": {
      "model_module": "@jupyter-widgets/base",
      "model_module_version": "2.0.0",
      "model_name": "LayoutModel",
      "state": {}
     },
     "c2045ddf967542758c6d9d9c56b2b950": {
      "model_module": "@jupyter-widgets/controls",
      "model_module_version": "2.0.0",
      "model_name": "HTMLModel",
      "state": {
       "layout": "IPY_MODEL_547c6525d4bd491287eeb111dd47e869",
       "style": "IPY_MODEL_7f2aa7d362204149b08c34390d9b52a6",
       "value": "Movies from 2022:  37%"
      }
     },
     "cf2ec996fe8044d7945f6c1720c17339": {
      "model_module": "@jupyter-widgets/controls",
      "model_module_version": "2.0.0",
      "model_name": "ProgressStyleModel",
      "state": {
       "description_width": ""
      }
     },
     "d340d00edde8441699d82a83035cdfa9": {
      "model_module": "@jupyter-widgets/controls",
      "model_module_version": "2.0.0",
      "model_name": "HTMLStyleModel",
      "state": {
       "description_width": "",
       "font_size": null,
       "text_color": null
      }
     },
     "dfb2a92f16f24b34a1afa19f10ed3470": {
      "model_module": "@jupyter-widgets/base",
      "model_module_version": "2.0.0",
      "model_name": "LayoutModel",
      "state": {}
     },
     "eee4a1e088564e84a5a97083b10a2b5c": {
      "model_module": "@jupyter-widgets/base",
      "model_module_version": "2.0.0",
      "model_name": "LayoutModel",
      "state": {}
     },
     "f2d17a06f1e34aa2990dbddd4838e899": {
      "model_module": "@jupyter-widgets/controls",
      "model_module_version": "2.0.0",
      "model_name": "FloatProgressModel",
      "state": {
       "bar_style": "success",
       "layout": "IPY_MODEL_744ee76c438a47649905eb374a1976b7",
       "max": 5163,
       "style": "IPY_MODEL_cf2ec996fe8044d7945f6c1720c17339",
       "value": 5163
      }
     },
     "f30e6d07063a455894b0cdea0ddcaa23": {
      "model_module": "@jupyter-widgets/controls",
      "model_module_version": "2.0.0",
      "model_name": "HTMLStyleModel",
      "state": {
       "description_width": "",
       "font_size": null,
       "text_color": null
      }
     },
     "fce2318e4d2547b0bceec4e8a189d2cf": {
      "model_module": "@jupyter-widgets/base",
      "model_module_version": "2.0.0",
      "model_name": "LayoutModel",
      "state": {}
     }
    },
    "version_major": 2,
    "version_minor": 0
   }
  }
 },
 "nbformat": 4,
 "nbformat_minor": 5
}
